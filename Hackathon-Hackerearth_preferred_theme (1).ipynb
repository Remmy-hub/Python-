{
 "cells": [
  {
   "cell_type": "code",
   "execution_count": 1,
   "metadata": {},
   "outputs": [],
   "source": [
    "# Importing libraies"
   ]
  },
  {
   "cell_type": "code",
   "execution_count": 205,
   "metadata": {},
   "outputs": [],
   "source": [
    "import pandas as pd\n",
    "import numpy as np\n",
    "import matplotlib.pyplot as plt\n",
    "pd.set_option('display.max_columns',None)\n",
    "import warnings\n",
    "warnings.filterwarnings(\"ignore\")"
   ]
  },
  {
   "cell_type": "code",
   "execution_count": 343,
   "metadata": {},
   "outputs": [
    {
     "data": {
      "text/plain": [
       "(15150, 15)"
      ]
     },
     "execution_count": 343,
     "metadata": {},
     "output_type": "execute_result"
    }
   ],
   "source": [
    "train_df=pd.read_csv(r'C:\\Users\\Lenovo\\Desktop\\hackathons-hackereath\\dataset\\train.csv',header=0,index_col=0)\n",
    "train_df.shape"
   ]
  },
  {
   "cell_type": "code",
   "execution_count": 344,
   "metadata": {},
   "outputs": [
    {
     "data": {
      "text/plain": [
       "(1850, 14)"
      ]
     },
     "execution_count": 344,
     "metadata": {},
     "output_type": "execute_result"
    }
   ],
   "source": [
    "test_df=pd.read_csv(r'C:\\Users\\Lenovo\\Desktop\\hackathons-hackereath\\dataset\\test.csv',header=0,index_col=0)\n",
    "test_df.shape"
   ]
  },
  {
   "cell_type": "markdown",
   "metadata": {},
   "source": [
    "# Understanding the Training data"
   ]
  },
  {
   "cell_type": "code",
   "execution_count": 208,
   "metadata": {},
   "outputs": [
    {
     "data": {
      "text/html": [
       "<div>\n",
       "<style scoped>\n",
       "    .dataframe tbody tr th:only-of-type {\n",
       "        vertical-align: middle;\n",
       "    }\n",
       "\n",
       "    .dataframe tbody tr th {\n",
       "        vertical-align: top;\n",
       "    }\n",
       "\n",
       "    .dataframe thead th {\n",
       "        text-align: right;\n",
       "    }\n",
       "</style>\n",
       "<table border=\"1\" class=\"dataframe\">\n",
       "  <thead>\n",
       "    <tr style=\"text-align: right;\">\n",
       "      <th></th>\n",
       "      <th>Age</th>\n",
       "      <th>Gender</th>\n",
       "      <th>City</th>\n",
       "      <th>State</th>\n",
       "      <th>No_of_orders_placed</th>\n",
       "      <th>Sign_up_date</th>\n",
       "      <th>Last_order_placed_date</th>\n",
       "      <th>is_premium_member</th>\n",
       "      <th>Women’s_Clothing</th>\n",
       "      <th>Men’s_Clothing</th>\n",
       "      <th>Kid’s_Clothing</th>\n",
       "      <th>Home_&amp;_Living</th>\n",
       "      <th>Beauty</th>\n",
       "      <th>Electronics</th>\n",
       "      <th>Preferred_Theme</th>\n",
       "    </tr>\n",
       "    <tr>\n",
       "      <th>CustomerID</th>\n",
       "      <th></th>\n",
       "      <th></th>\n",
       "      <th></th>\n",
       "      <th></th>\n",
       "      <th></th>\n",
       "      <th></th>\n",
       "      <th></th>\n",
       "      <th></th>\n",
       "      <th></th>\n",
       "      <th></th>\n",
       "      <th></th>\n",
       "      <th></th>\n",
       "      <th></th>\n",
       "      <th></th>\n",
       "      <th></th>\n",
       "    </tr>\n",
       "  </thead>\n",
       "  <tbody>\n",
       "    <tr>\n",
       "      <th>CusID_00126</th>\n",
       "      <td>22.0</td>\n",
       "      <td>Male</td>\n",
       "      <td>Vancouver</td>\n",
       "      <td>British Columbia</td>\n",
       "      <td>4.0</td>\n",
       "      <td>2017-06-23</td>\n",
       "      <td>2021-04-01</td>\n",
       "      <td>0</td>\n",
       "      <td>2.945701</td>\n",
       "      <td>8.924431</td>\n",
       "      <td>2.000000</td>\n",
       "      <td>2.325376</td>\n",
       "      <td>1.924891</td>\n",
       "      <td>9.820254</td>\n",
       "      <td>New_UI</td>\n",
       "    </tr>\n",
       "    <tr>\n",
       "      <th>CusID_00927</th>\n",
       "      <td>NaN</td>\n",
       "      <td>Female</td>\n",
       "      <td>Budapest</td>\n",
       "      <td>Central Hungary</td>\n",
       "      <td>9.0</td>\n",
       "      <td>2018-05-21</td>\n",
       "      <td>2020-01-26</td>\n",
       "      <td>0</td>\n",
       "      <td>6.115229</td>\n",
       "      <td>2.363926</td>\n",
       "      <td>6.968752</td>\n",
       "      <td>7.355854</td>\n",
       "      <td>8.561461</td>\n",
       "      <td>2.162229</td>\n",
       "      <td>Old_UI</td>\n",
       "    </tr>\n",
       "    <tr>\n",
       "      <th>CusID_01646</th>\n",
       "      <td>26.0</td>\n",
       "      <td>Male</td>\n",
       "      <td>Mumbai</td>\n",
       "      <td>Maharashtra</td>\n",
       "      <td>NaN</td>\n",
       "      <td>2019-02-15</td>\n",
       "      <td>2020-11-28</td>\n",
       "      <td>0</td>\n",
       "      <td>1.000000</td>\n",
       "      <td>3.000000</td>\n",
       "      <td>1.766530</td>\n",
       "      <td>3.471802</td>\n",
       "      <td>0.808147</td>\n",
       "      <td>9.055563</td>\n",
       "      <td>New_UI</td>\n",
       "    </tr>\n",
       "    <tr>\n",
       "      <th>CusID_06228</th>\n",
       "      <td>NaN</td>\n",
       "      <td>Male</td>\n",
       "      <td>San Francisco</td>\n",
       "      <td>California</td>\n",
       "      <td>7.0</td>\n",
       "      <td>2019-07-18</td>\n",
       "      <td>2020-11-16</td>\n",
       "      <td>0</td>\n",
       "      <td>2.116475</td>\n",
       "      <td>9.064060</td>\n",
       "      <td>5.387599</td>\n",
       "      <td>NaN</td>\n",
       "      <td>0.459090</td>\n",
       "      <td>7.343461</td>\n",
       "      <td>New_UI</td>\n",
       "    </tr>\n",
       "    <tr>\n",
       "      <th>CusID_04239</th>\n",
       "      <td>29.0</td>\n",
       "      <td>Female</td>\n",
       "      <td>Taipei</td>\n",
       "      <td>Taiwan</td>\n",
       "      <td>NaN</td>\n",
       "      <td>2018-02-05</td>\n",
       "      <td>2020-03-12</td>\n",
       "      <td>0</td>\n",
       "      <td>7.352878</td>\n",
       "      <td>1.995744</td>\n",
       "      <td>2.676853</td>\n",
       "      <td>7.159554</td>\n",
       "      <td>8.184695</td>\n",
       "      <td>2.000000</td>\n",
       "      <td>Old_UI</td>\n",
       "    </tr>\n",
       "  </tbody>\n",
       "</table>\n",
       "</div>"
      ],
      "text/plain": [
       "              Age  Gender           City             State  \\\n",
       "CustomerID                                                   \n",
       "CusID_00126  22.0    Male      Vancouver  British Columbia   \n",
       "CusID_00927   NaN  Female       Budapest   Central Hungary   \n",
       "CusID_01646  26.0    Male         Mumbai       Maharashtra   \n",
       "CusID_06228   NaN    Male  San Francisco        California   \n",
       "CusID_04239  29.0  Female         Taipei            Taiwan   \n",
       "\n",
       "             No_of_orders_placed Sign_up_date Last_order_placed_date  \\\n",
       "CustomerID                                                             \n",
       "CusID_00126                  4.0   2017-06-23             2021-04-01   \n",
       "CusID_00927                  9.0   2018-05-21             2020-01-26   \n",
       "CusID_01646                  NaN   2019-02-15             2020-11-28   \n",
       "CusID_06228                  7.0   2019-07-18             2020-11-16   \n",
       "CusID_04239                  NaN   2018-02-05             2020-03-12   \n",
       "\n",
       "             is_premium_member  Women’s_Clothing  Men’s_Clothing  \\\n",
       "CustomerID                                                         \n",
       "CusID_00126                  0          2.945701        8.924431   \n",
       "CusID_00927                  0          6.115229        2.363926   \n",
       "CusID_01646                  0          1.000000        3.000000   \n",
       "CusID_06228                  0          2.116475        9.064060   \n",
       "CusID_04239                  0          7.352878        1.995744   \n",
       "\n",
       "             Kid’s_Clothing  Home_&_Living    Beauty  Electronics  \\\n",
       "CustomerID                                                          \n",
       "CusID_00126        2.000000       2.325376  1.924891     9.820254   \n",
       "CusID_00927        6.968752       7.355854  8.561461     2.162229   \n",
       "CusID_01646        1.766530       3.471802  0.808147     9.055563   \n",
       "CusID_06228        5.387599            NaN  0.459090     7.343461   \n",
       "CusID_04239        2.676853       7.159554  8.184695     2.000000   \n",
       "\n",
       "            Preferred_Theme  \n",
       "CustomerID                   \n",
       "CusID_00126          New_UI  \n",
       "CusID_00927          Old_UI  \n",
       "CusID_01646          New_UI  \n",
       "CusID_06228          New_UI  \n",
       "CusID_04239          Old_UI  "
      ]
     },
     "execution_count": 208,
     "metadata": {},
     "output_type": "execute_result"
    }
   ],
   "source": [
    "train_df.head()"
   ]
  },
  {
   "cell_type": "code",
   "execution_count": 209,
   "metadata": {},
   "outputs": [
    {
     "data": {
      "text/html": [
       "<div>\n",
       "<style scoped>\n",
       "    .dataframe tbody tr th:only-of-type {\n",
       "        vertical-align: middle;\n",
       "    }\n",
       "\n",
       "    .dataframe tbody tr th {\n",
       "        vertical-align: top;\n",
       "    }\n",
       "\n",
       "    .dataframe thead th {\n",
       "        text-align: right;\n",
       "    }\n",
       "</style>\n",
       "<table border=\"1\" class=\"dataframe\">\n",
       "  <thead>\n",
       "    <tr style=\"text-align: right;\">\n",
       "      <th></th>\n",
       "      <th>Age</th>\n",
       "      <th>Gender</th>\n",
       "      <th>City</th>\n",
       "      <th>State</th>\n",
       "      <th>No_of_orders_placed</th>\n",
       "      <th>Sign_up_date</th>\n",
       "      <th>Last_order_placed_date</th>\n",
       "      <th>is_premium_member</th>\n",
       "      <th>Women’s_Clothing</th>\n",
       "      <th>Men’s_Clothing</th>\n",
       "      <th>Kid’s_Clothing</th>\n",
       "      <th>Home_&amp;_Living</th>\n",
       "      <th>Beauty</th>\n",
       "      <th>Electronics</th>\n",
       "      <th>Preferred_Theme</th>\n",
       "    </tr>\n",
       "  </thead>\n",
       "  <tbody>\n",
       "    <tr>\n",
       "      <th>count</th>\n",
       "      <td>14147.000000</td>\n",
       "      <td>15150</td>\n",
       "      <td>15150</td>\n",
       "      <td>15150</td>\n",
       "      <td>14377.000000</td>\n",
       "      <td>15150</td>\n",
       "      <td>15150</td>\n",
       "      <td>15150.000000</td>\n",
       "      <td>15150.000000</td>\n",
       "      <td>15150.000000</td>\n",
       "      <td>14215.000000</td>\n",
       "      <td>14302.000000</td>\n",
       "      <td>15150.000000</td>\n",
       "      <td>15150.000000</td>\n",
       "      <td>15150</td>\n",
       "    </tr>\n",
       "    <tr>\n",
       "      <th>unique</th>\n",
       "      <td>NaN</td>\n",
       "      <td>3</td>\n",
       "      <td>23</td>\n",
       "      <td>21</td>\n",
       "      <td>NaN</td>\n",
       "      <td>1455</td>\n",
       "      <td>670</td>\n",
       "      <td>NaN</td>\n",
       "      <td>NaN</td>\n",
       "      <td>NaN</td>\n",
       "      <td>NaN</td>\n",
       "      <td>NaN</td>\n",
       "      <td>NaN</td>\n",
       "      <td>NaN</td>\n",
       "      <td>2</td>\n",
       "    </tr>\n",
       "    <tr>\n",
       "      <th>top</th>\n",
       "      <td>NaN</td>\n",
       "      <td>Male</td>\n",
       "      <td>Mumbai</td>\n",
       "      <td>California</td>\n",
       "      <td>NaN</td>\n",
       "      <td>2017-06-23</td>\n",
       "      <td>2021-04-01</td>\n",
       "      <td>NaN</td>\n",
       "      <td>NaN</td>\n",
       "      <td>NaN</td>\n",
       "      <td>NaN</td>\n",
       "      <td>NaN</td>\n",
       "      <td>NaN</td>\n",
       "      <td>NaN</td>\n",
       "      <td>New_UI</td>\n",
       "    </tr>\n",
       "    <tr>\n",
       "      <th>freq</th>\n",
       "      <td>NaN</td>\n",
       "      <td>6608</td>\n",
       "      <td>1131</td>\n",
       "      <td>1975</td>\n",
       "      <td>NaN</td>\n",
       "      <td>416</td>\n",
       "      <td>449</td>\n",
       "      <td>NaN</td>\n",
       "      <td>NaN</td>\n",
       "      <td>NaN</td>\n",
       "      <td>NaN</td>\n",
       "      <td>NaN</td>\n",
       "      <td>NaN</td>\n",
       "      <td>NaN</td>\n",
       "      <td>7674</td>\n",
       "    </tr>\n",
       "    <tr>\n",
       "      <th>mean</th>\n",
       "      <td>28.356613</td>\n",
       "      <td>NaN</td>\n",
       "      <td>NaN</td>\n",
       "      <td>NaN</td>\n",
       "      <td>8.200876</td>\n",
       "      <td>NaN</td>\n",
       "      <td>NaN</td>\n",
       "      <td>0.323828</td>\n",
       "      <td>1.848024</td>\n",
       "      <td>4.464372</td>\n",
       "      <td>4.573373</td>\n",
       "      <td>4.576805</td>\n",
       "      <td>4.069482</td>\n",
       "      <td>2.830962</td>\n",
       "      <td>NaN</td>\n",
       "    </tr>\n",
       "    <tr>\n",
       "      <th>std</th>\n",
       "      <td>7.563249</td>\n",
       "      <td>NaN</td>\n",
       "      <td>NaN</td>\n",
       "      <td>NaN</td>\n",
       "      <td>3.606418</td>\n",
       "      <td>NaN</td>\n",
       "      <td>NaN</td>\n",
       "      <td>0.467951</td>\n",
       "      <td>12.814344</td>\n",
       "      <td>2.979838</td>\n",
       "      <td>2.628990</td>\n",
       "      <td>2.380538</td>\n",
       "      <td>3.808290</td>\n",
       "      <td>13.056017</td>\n",
       "      <td>NaN</td>\n",
       "    </tr>\n",
       "    <tr>\n",
       "      <th>min</th>\n",
       "      <td>15.000000</td>\n",
       "      <td>NaN</td>\n",
       "      <td>NaN</td>\n",
       "      <td>NaN</td>\n",
       "      <td>0.000000</td>\n",
       "      <td>NaN</td>\n",
       "      <td>NaN</td>\n",
       "      <td>0.000000</td>\n",
       "      <td>-99.000000</td>\n",
       "      <td>-1.000000</td>\n",
       "      <td>-3.000000</td>\n",
       "      <td>-2.000000</td>\n",
       "      <td>-20.114294</td>\n",
       "      <td>-99.000000</td>\n",
       "      <td>NaN</td>\n",
       "    </tr>\n",
       "    <tr>\n",
       "      <th>25%</th>\n",
       "      <td>22.000000</td>\n",
       "      <td>NaN</td>\n",
       "      <td>NaN</td>\n",
       "      <td>NaN</td>\n",
       "      <td>5.000000</td>\n",
       "      <td>NaN</td>\n",
       "      <td>NaN</td>\n",
       "      <td>0.000000</td>\n",
       "      <td>1.301135</td>\n",
       "      <td>2.019508</td>\n",
       "      <td>2.602179</td>\n",
       "      <td>2.817589</td>\n",
       "      <td>1.135181</td>\n",
       "      <td>2.472861</td>\n",
       "      <td>NaN</td>\n",
       "    </tr>\n",
       "    <tr>\n",
       "      <th>50%</th>\n",
       "      <td>29.000000</td>\n",
       "      <td>NaN</td>\n",
       "      <td>NaN</td>\n",
       "      <td>NaN</td>\n",
       "      <td>8.000000</td>\n",
       "      <td>NaN</td>\n",
       "      <td>NaN</td>\n",
       "      <td>0.000000</td>\n",
       "      <td>3.305220</td>\n",
       "      <td>3.603376</td>\n",
       "      <td>4.826021</td>\n",
       "      <td>4.338659</td>\n",
       "      <td>2.914518</td>\n",
       "      <td>4.602270</td>\n",
       "      <td>NaN</td>\n",
       "    </tr>\n",
       "    <tr>\n",
       "      <th>75%</th>\n",
       "      <td>33.000000</td>\n",
       "      <td>NaN</td>\n",
       "      <td>NaN</td>\n",
       "      <td>NaN</td>\n",
       "      <td>10.000000</td>\n",
       "      <td>NaN</td>\n",
       "      <td>NaN</td>\n",
       "      <td>1.000000</td>\n",
       "      <td>6.656113</td>\n",
       "      <td>7.595931</td>\n",
       "      <td>6.482865</td>\n",
       "      <td>6.532475</td>\n",
       "      <td>7.634503</td>\n",
       "      <td>7.872561</td>\n",
       "      <td>NaN</td>\n",
       "    </tr>\n",
       "    <tr>\n",
       "      <th>max</th>\n",
       "      <td>50.000000</td>\n",
       "      <td>NaN</td>\n",
       "      <td>NaN</td>\n",
       "      <td>NaN</td>\n",
       "      <td>15.000000</td>\n",
       "      <td>NaN</td>\n",
       "      <td>NaN</td>\n",
       "      <td>1.000000</td>\n",
       "      <td>9.998061</td>\n",
       "      <td>9.999751</td>\n",
       "      <td>9.997132</td>\n",
       "      <td>9.993163</td>\n",
       "      <td>26.564845</td>\n",
       "      <td>9.999038</td>\n",
       "      <td>NaN</td>\n",
       "    </tr>\n",
       "  </tbody>\n",
       "</table>\n",
       "</div>"
      ],
      "text/plain": [
       "                 Age Gender    City       State  No_of_orders_placed  \\\n",
       "count   14147.000000  15150   15150       15150         14377.000000   \n",
       "unique           NaN      3      23          21                  NaN   \n",
       "top              NaN   Male  Mumbai  California                  NaN   \n",
       "freq             NaN   6608    1131        1975                  NaN   \n",
       "mean       28.356613    NaN     NaN         NaN             8.200876   \n",
       "std         7.563249    NaN     NaN         NaN             3.606418   \n",
       "min        15.000000    NaN     NaN         NaN             0.000000   \n",
       "25%        22.000000    NaN     NaN         NaN             5.000000   \n",
       "50%        29.000000    NaN     NaN         NaN             8.000000   \n",
       "75%        33.000000    NaN     NaN         NaN            10.000000   \n",
       "max        50.000000    NaN     NaN         NaN            15.000000   \n",
       "\n",
       "       Sign_up_date Last_order_placed_date  is_premium_member  \\\n",
       "count         15150                  15150       15150.000000   \n",
       "unique         1455                    670                NaN   \n",
       "top      2017-06-23             2021-04-01                NaN   \n",
       "freq            416                    449                NaN   \n",
       "mean            NaN                    NaN           0.323828   \n",
       "std             NaN                    NaN           0.467951   \n",
       "min             NaN                    NaN           0.000000   \n",
       "25%             NaN                    NaN           0.000000   \n",
       "50%             NaN                    NaN           0.000000   \n",
       "75%             NaN                    NaN           1.000000   \n",
       "max             NaN                    NaN           1.000000   \n",
       "\n",
       "        Women’s_Clothing  Men’s_Clothing  Kid’s_Clothing  Home_&_Living  \\\n",
       "count       15150.000000    15150.000000    14215.000000   14302.000000   \n",
       "unique               NaN             NaN             NaN            NaN   \n",
       "top                  NaN             NaN             NaN            NaN   \n",
       "freq                 NaN             NaN             NaN            NaN   \n",
       "mean            1.848024        4.464372        4.573373       4.576805   \n",
       "std            12.814344        2.979838        2.628990       2.380538   \n",
       "min           -99.000000       -1.000000       -3.000000      -2.000000   \n",
       "25%             1.301135        2.019508        2.602179       2.817589   \n",
       "50%             3.305220        3.603376        4.826021       4.338659   \n",
       "75%             6.656113        7.595931        6.482865       6.532475   \n",
       "max             9.998061        9.999751        9.997132       9.993163   \n",
       "\n",
       "              Beauty   Electronics Preferred_Theme  \n",
       "count   15150.000000  15150.000000           15150  \n",
       "unique           NaN           NaN               2  \n",
       "top              NaN           NaN          New_UI  \n",
       "freq             NaN           NaN            7674  \n",
       "mean        4.069482      2.830962             NaN  \n",
       "std         3.808290     13.056017             NaN  \n",
       "min       -20.114294    -99.000000             NaN  \n",
       "25%         1.135181      2.472861             NaN  \n",
       "50%         2.914518      4.602270             NaN  \n",
       "75%         7.634503      7.872561             NaN  \n",
       "max        26.564845      9.999038             NaN  "
      ]
     },
     "execution_count": 209,
     "metadata": {},
     "output_type": "execute_result"
    }
   ],
   "source": [
    "train_df.describe(include='all')"
   ]
  },
  {
   "cell_type": "markdown",
   "metadata": {},
   "source": [
    "# Preprocessing "
   ]
  },
  {
   "cell_type": "code",
   "execution_count": 345,
   "metadata": {},
   "outputs": [],
   "source": [
    "train_df=train_df.replace('Not_Specified',np.nan)\n"
   ]
  },
  {
   "cell_type": "code",
   "execution_count": 346,
   "metadata": {
    "scrolled": true
   },
   "outputs": [
    {
     "name": "stdout",
     "output_type": "stream",
     "text": [
      "Male      6608\n",
      "Female    6328\n",
      "Name: Gender, dtype: int64\n"
     ]
    }
   ],
   "source": [
    "print(train_df.Gender.value_counts())"
   ]
  },
  {
   "cell_type": "code",
   "execution_count": 347,
   "metadata": {},
   "outputs": [
    {
     "data": {
      "text/plain": [
       "Age                       float64\n",
       "Gender                     object\n",
       "City                       object\n",
       "State                      object\n",
       "No_of_orders_placed       float64\n",
       "Sign_up_date               object\n",
       "Last_order_placed_date     object\n",
       "is_premium_member           int64\n",
       "Women’s_Clothing          float64\n",
       "Men’s_Clothing            float64\n",
       "Kid’s_Clothing            float64\n",
       "Home_&_Living             float64\n",
       "Beauty                    float64\n",
       "Electronics               float64\n",
       "Preferred_Theme            object\n",
       "dtype: object"
      ]
     },
     "execution_count": 347,
     "metadata": {},
     "output_type": "execute_result"
    }
   ],
   "source": [
    "train_df.dtypes"
   ]
  },
  {
   "cell_type": "code",
   "execution_count": 349,
   "metadata": {},
   "outputs": [],
   "source": [
    "train_df=train_df.replace('?',np.nan)"
   ]
  },
  {
   "cell_type": "code",
   "execution_count": null,
   "metadata": {},
   "outputs": [],
   "source": [
    "# Removing the columns  Last_order_placed_date & Sign_up_date"
   ]
  },
  {
   "cell_type": "code",
   "execution_count": 350,
   "metadata": {},
   "outputs": [],
   "source": [
    "train=train_df[['Age', 'Gender', 'City', 'State', 'No_of_orders_placed','is_premium_member', 'Women’s_Clothing',\n",
    "       'Men’s_Clothing', 'Kid’s_Clothing', 'Home_&_Living', 'Beauty','Electronics','Preferred_Theme']]"
   ]
  },
  {
   "cell_type": "code",
   "execution_count": 351,
   "metadata": {},
   "outputs": [
    {
     "data": {
      "text/plain": [
       "Age                    float64\n",
       "Gender                  object\n",
       "City                    object\n",
       "State                   object\n",
       "No_of_orders_placed    float64\n",
       "is_premium_member        int64\n",
       "Women’s_Clothing       float64\n",
       "Men’s_Clothing         float64\n",
       "Kid’s_Clothing         float64\n",
       "Home_&_Living          float64\n",
       "Beauty                 float64\n",
       "Electronics            float64\n",
       "Preferred_Theme         object\n",
       "dtype: object"
      ]
     },
     "execution_count": 351,
     "metadata": {},
     "output_type": "execute_result"
    }
   ],
   "source": [
    "train.dtypes"
   ]
  },
  {
   "cell_type": "markdown",
   "metadata": {},
   "source": [
    "# Handling missing values in Training data"
   ]
  },
  {
   "cell_type": "code",
   "execution_count": 352,
   "metadata": {
    "scrolled": true
   },
   "outputs": [
    {
     "data": {
      "text/plain": [
       "Age                    1003\n",
       "Gender                 2214\n",
       "City                    446\n",
       "State                     0\n",
       "No_of_orders_placed     773\n",
       "is_premium_member         0\n",
       "Women’s_Clothing          0\n",
       "Men’s_Clothing            0\n",
       "Kid’s_Clothing          935\n",
       "Home_&_Living           848\n",
       "Beauty                    0\n",
       "Electronics               0\n",
       "Preferred_Theme           0\n",
       "dtype: int64"
      ]
     },
     "execution_count": 352,
     "metadata": {},
     "output_type": "execute_result"
    }
   ],
   "source": [
    "train.isnull().sum()"
   ]
  },
  {
   "cell_type": "code",
   "execution_count": 353,
   "metadata": {},
   "outputs": [],
   "source": [
    "num_col=['Age','No_of_orders_placed','Kid’s_Clothing','Home_&_Living']\n",
    "char_col=['Gender','City']"
   ]
  },
  {
   "cell_type": "code",
   "execution_count": 354,
   "metadata": {},
   "outputs": [],
   "source": [
    "for i in num_col:\n",
    "    train[i].fillna(train[i].mean(),inplace=True)"
   ]
  },
  {
   "cell_type": "code",
   "execution_count": 355,
   "metadata": {},
   "outputs": [],
   "source": [
    "for i in char_col:\n",
    "    train[i].fillna(train[i].mode()[0],inplace=True)"
   ]
  },
  {
   "cell_type": "code",
   "execution_count": 224,
   "metadata": {},
   "outputs": [
    {
     "data": {
      "text/plain": [
       "Age                    0\n",
       "Gender                 0\n",
       "City                   0\n",
       "State                  0\n",
       "No_of_orders_placed    0\n",
       "is_premium_member      0\n",
       "Women’s_Clothing       0\n",
       "Men’s_Clothing         0\n",
       "Kid’s_Clothing         0\n",
       "Home_&_Living          0\n",
       "Beauty                 0\n",
       "Electronics            0\n",
       "Preferred_Theme        0\n",
       "dtype: int64"
      ]
     },
     "execution_count": 224,
     "metadata": {},
     "output_type": "execute_result"
    }
   ],
   "source": [
    "train.isnull().sum()"
   ]
  },
  {
   "cell_type": "code",
   "execution_count": null,
   "metadata": {},
   "outputs": [],
   "source": [
    "#Data Visualization"
   ]
  },
  {
   "cell_type": "code",
   "execution_count": 356,
   "metadata": {},
   "outputs": [],
   "source": [
    "import seaborn as sns"
   ]
  },
  {
   "cell_type": "code",
   "execution_count": 360,
   "metadata": {},
   "outputs": [
    {
     "data": {
      "image/png": "[encoded data removed]",
      "text/plain": [
       "<Figure size 432x288 with 1 Axes>"
      ]
     },
     "metadata": {
      "needs_background": "light"
     },
     "output_type": "display_data"
    }
   ],
   "source": [
    "sns.countplot(x='Gender',data=train,palette='cool')\n",
    "plt.show()"
   ]
  },
  {
   "cell_type": "code",
   "execution_count": 362,
   "metadata": {},
   "outputs": [
    {
     "data": {
      "image/png": "[encoded data removed]",
      "text/plain": [
       "<Figure size 432x288 with 1 Axes>"
      ]
     },
     "metadata": {
      "needs_background": "light"
     },
     "output_type": "display_data"
    }
   ],
   "source": [
    "sns.countplot(x='Preferred_Theme',data=train,palette='spring')\n",
    "plt.show()"
   ]
  },
  {
   "cell_type": "code",
   "execution_count": null,
   "metadata": {},
   "outputs": [],
   "source": [
    "# data is not biased"
   ]
  },
  {
   "cell_type": "code",
   "execution_count": 365,
   "metadata": {},
   "outputs": [
    {
     "data": {
      "image/png": "[encoded data removed]",
      "text/plain": [
       "<Figure size 432x288 with 1 Axes>"
      ]
     },
     "metadata": {
      "needs_background": "light"
     },
     "output_type": "display_data"
    }
   ],
   "source": [
    "sns.barplot(x=\"Gender\",y=\"Age\",data=train)\n",
    "plt.show()"
   ]
  },
  {
   "cell_type": "markdown",
   "metadata": {},
   "source": [
    "# Converting Categorical data into numerical data"
   ]
  },
  {
   "cell_type": "code",
   "execution_count": 225,
   "metadata": {},
   "outputs": [
    {
     "data": {
      "text/plain": [
       "New_UI    7674\n",
       "Old_UI    7476\n",
       "Name: Preferred_Theme, dtype: int64"
      ]
     },
     "execution_count": 225,
     "metadata": {},
     "output_type": "execute_result"
    }
   ],
   "source": [
    "train.Preferred_Theme.value_counts()"
   ]
  },
  {
   "cell_type": "code",
   "execution_count": 226,
   "metadata": {},
   "outputs": [
    {
     "name": "stdout",
     "output_type": "stream",
     "text": [
      "1    7674\n",
      "0    7476\n",
      "Name: Preferred_Theme, dtype: int64\n"
     ]
    }
   ],
   "source": [
    "train['Preferred_Theme']=train['Preferred_Theme'].map({'Old_UI':0,'New_UI':1})\n",
    "print(train.Preferred_Theme.value_counts())"
   ]
  },
  {
   "cell_type": "code",
   "execution_count": 227,
   "metadata": {},
   "outputs": [
    {
     "data": {
      "text/plain": [
       "Index(['Age', 'Gender', 'City', 'State', 'No_of_orders_placed',\n",
       "       'is_premium_member', 'Women’s_Clothing', 'Men’s_Clothing',\n",
       "       'Kid’s_Clothing', 'Home_&_Living', 'Beauty', 'Electronics',\n",
       "       'Preferred_Theme'],\n",
       "      dtype='object')"
      ]
     },
     "execution_count": 227,
     "metadata": {},
     "output_type": "execute_result"
    }
   ],
   "source": [
    "train.columns"
   ]
  },
  {
   "cell_type": "code",
   "execution_count": 228,
   "metadata": {},
   "outputs": [],
   "source": [
    "from sklearn.preprocessing import LabelEncoder\n",
    "le=LabelEncoder()"
   ]
  },
  {
   "cell_type": "code",
   "execution_count": 229,
   "metadata": {},
   "outputs": [
    {
     "name": "stdout",
     "output_type": "stream",
     "text": [
      "                   Age  Gender  City  State  No_of_orders_placed  \\\n",
      "CustomerID                                                         \n",
      "CusID_00126  22.000000       1    20      2             4.000000   \n",
      "CusID_00927  28.356613       0     2      5             9.000000   \n",
      "CusID_01646  26.000000       1    10      8             8.200876   \n",
      "CusID_06228  28.356613       1    15      3             7.000000   \n",
      "CusID_04239  29.000000       0    18     14             8.200876   \n",
      "\n",
      "             is_premium_member  Women’s_Clothing  Men’s_Clothing  \\\n",
      "CustomerID                                                         \n",
      "CusID_00126                  0          2.945701        8.924431   \n",
      "CusID_00927                  0          6.115229        2.363926   \n",
      "CusID_01646                  0          1.000000        3.000000   \n",
      "CusID_06228                  0          2.116475        9.064060   \n",
      "CusID_04239                  0          7.352878        1.995744   \n",
      "\n",
      "             Kid’s_Clothing  Home_&_Living    Beauty  Electronics  \\\n",
      "CustomerID                                                          \n",
      "CusID_00126        2.000000       2.325376  1.924891     9.820254   \n",
      "CusID_00927        6.968752       7.355854  8.561461     2.162229   \n",
      "CusID_01646        1.766530       3.471802  0.808147     9.055563   \n",
      "CusID_06228        5.387599       4.576805  0.459090     7.343461   \n",
      "CusID_04239        2.676853       7.159554  8.184695     2.000000   \n",
      "\n",
      "             Preferred_Theme  \n",
      "CustomerID                    \n",
      "CusID_00126                1  \n",
      "CusID_00927                0  \n",
      "CusID_01646                1  \n",
      "CusID_06228                1  \n",
      "CusID_04239                0  \n"
     ]
    }
   ],
   "source": [
    "\n",
    "col=['Gender','City','State']\n",
    "for i in col:\n",
    "    train[i]=le.fit_transform(train[i])\n",
    "print(train.head())\n",
    "    "
   ]
  },
  {
   "cell_type": "code",
   "execution_count": 230,
   "metadata": {},
   "outputs": [],
   "source": [
    "train.Age=train.Age.astype(int)\n"
   ]
  },
  {
   "cell_type": "code",
   "execution_count": 231,
   "metadata": {},
   "outputs": [
    {
     "data": {
      "text/plain": [
       "Age                      int32\n",
       "Gender                   int32\n",
       "City                     int32\n",
       "State                    int32\n",
       "No_of_orders_placed    float64\n",
       "is_premium_member        int64\n",
       "Women’s_Clothing       float64\n",
       "Men’s_Clothing         float64\n",
       "Kid’s_Clothing         float64\n",
       "Home_&_Living          float64\n",
       "Beauty                 float64\n",
       "Electronics            float64\n",
       "Preferred_Theme          int64\n",
       "dtype: object"
      ]
     },
     "execution_count": 231,
     "metadata": {},
     "output_type": "execute_result"
    }
   ],
   "source": [
    "train.dtypes"
   ]
  },
  {
   "cell_type": "markdown",
   "metadata": {},
   "source": [
    "# Handling the Test data"
   ]
  },
  {
   "cell_type": "code",
   "execution_count": 233,
   "metadata": {},
   "outputs": [
    {
     "data": {
      "text/html": [
       "<div>\n",
       "<style scoped>\n",
       "    .dataframe tbody tr th:only-of-type {\n",
       "        vertical-align: middle;\n",
       "    }\n",
       "\n",
       "    .dataframe tbody tr th {\n",
       "        vertical-align: top;\n",
       "    }\n",
       "\n",
       "    .dataframe thead th {\n",
       "        text-align: right;\n",
       "    }\n",
       "</style>\n",
       "<table border=\"1\" class=\"dataframe\">\n",
       "  <thead>\n",
       "    <tr style=\"text-align: right;\">\n",
       "      <th></th>\n",
       "      <th>Age</th>\n",
       "      <th>Gender</th>\n",
       "      <th>City</th>\n",
       "      <th>State</th>\n",
       "      <th>No_of_orders_placed</th>\n",
       "      <th>Sign_up_date</th>\n",
       "      <th>Last_order_placed_date</th>\n",
       "      <th>is_premium_member</th>\n",
       "      <th>Women’s_Clothing</th>\n",
       "      <th>Men’s_Clothing</th>\n",
       "      <th>Kid’s_Clothing</th>\n",
       "      <th>Home_&amp;_Living</th>\n",
       "      <th>Beauty</th>\n",
       "      <th>Electronics</th>\n",
       "    </tr>\n",
       "    <tr>\n",
       "      <th>CustomerID</th>\n",
       "      <th></th>\n",
       "      <th></th>\n",
       "      <th></th>\n",
       "      <th></th>\n",
       "      <th></th>\n",
       "      <th></th>\n",
       "      <th></th>\n",
       "      <th></th>\n",
       "      <th></th>\n",
       "      <th></th>\n",
       "      <th></th>\n",
       "      <th></th>\n",
       "      <th></th>\n",
       "      <th></th>\n",
       "    </tr>\n",
       "  </thead>\n",
       "  <tbody>\n",
       "    <tr>\n",
       "      <th>CusID_09654</th>\n",
       "      <td>20.0</td>\n",
       "      <td>Female</td>\n",
       "      <td>Vancouver</td>\n",
       "      <td>British Columbia</td>\n",
       "      <td>5.0</td>\n",
       "      <td>2019-11-27</td>\n",
       "      <td>2020-03-22</td>\n",
       "      <td>0</td>\n",
       "      <td>4.000000</td>\n",
       "      <td>3.043023</td>\n",
       "      <td>6.231789</td>\n",
       "      <td>8.561328</td>\n",
       "      <td>9.893144</td>\n",
       "      <td>1.197478</td>\n",
       "    </tr>\n",
       "    <tr>\n",
       "      <th>CusID_09727</th>\n",
       "      <td>25.0</td>\n",
       "      <td>Not_Specified</td>\n",
       "      <td>Budapest</td>\n",
       "      <td>Central Hungary</td>\n",
       "      <td>11.0</td>\n",
       "      <td>2016-12-01</td>\n",
       "      <td>2021-08-22</td>\n",
       "      <td>1</td>\n",
       "      <td>4.379066</td>\n",
       "      <td>5.819171</td>\n",
       "      <td>6.923614</td>\n",
       "      <td>4.529057</td>\n",
       "      <td>5.105539</td>\n",
       "      <td>4.608664</td>\n",
       "    </tr>\n",
       "    <tr>\n",
       "      <th>CusID_07391</th>\n",
       "      <td>31.0</td>\n",
       "      <td>Female</td>\n",
       "      <td>Perth</td>\n",
       "      <td>Western Australia</td>\n",
       "      <td>1.0</td>\n",
       "      <td>2019-10-31</td>\n",
       "      <td>2020-11-28</td>\n",
       "      <td>1</td>\n",
       "      <td>7.946141</td>\n",
       "      <td>4.000000</td>\n",
       "      <td>9.939050</td>\n",
       "      <td>9.744879</td>\n",
       "      <td>8.874676</td>\n",
       "      <td>2.069313</td>\n",
       "    </tr>\n",
       "    <tr>\n",
       "      <th>CusID_08577</th>\n",
       "      <td>17.0</td>\n",
       "      <td>Female</td>\n",
       "      <td>Kolkata</td>\n",
       "      <td>West Bengal</td>\n",
       "      <td>7.0</td>\n",
       "      <td>2019-09-05</td>\n",
       "      <td>2021-03-20</td>\n",
       "      <td>0</td>\n",
       "      <td>8.396490</td>\n",
       "      <td>3.636100</td>\n",
       "      <td>4.170301</td>\n",
       "      <td>8.412250</td>\n",
       "      <td>9.389648</td>\n",
       "      <td>3.103196</td>\n",
       "    </tr>\n",
       "    <tr>\n",
       "      <th>CusID_08122</th>\n",
       "      <td>39.0</td>\n",
       "      <td>Male</td>\n",
       "      <td>New York City</td>\n",
       "      <td>New York</td>\n",
       "      <td>8.0</td>\n",
       "      <td>2019-07-17</td>\n",
       "      <td>2021-01-19</td>\n",
       "      <td>0</td>\n",
       "      <td>2.443467</td>\n",
       "      <td>9.143171</td>\n",
       "      <td>6.307817</td>\n",
       "      <td>3.224570</td>\n",
       "      <td>1.892078</td>\n",
       "      <td>7.298316</td>\n",
       "    </tr>\n",
       "  </tbody>\n",
       "</table>\n",
       "</div>"
      ],
      "text/plain": [
       "              Age         Gender           City              State  \\\n",
       "CustomerID                                                           \n",
       "CusID_09654  20.0         Female      Vancouver   British Columbia   \n",
       "CusID_09727  25.0  Not_Specified       Budapest    Central Hungary   \n",
       "CusID_07391  31.0         Female          Perth  Western Australia   \n",
       "CusID_08577  17.0         Female        Kolkata        West Bengal   \n",
       "CusID_08122  39.0           Male  New York City           New York   \n",
       "\n",
       "             No_of_orders_placed Sign_up_date Last_order_placed_date  \\\n",
       "CustomerID                                                             \n",
       "CusID_09654                  5.0   2019-11-27             2020-03-22   \n",
       "CusID_09727                 11.0   2016-12-01             2021-08-22   \n",
       "CusID_07391                  1.0   2019-10-31             2020-11-28   \n",
       "CusID_08577                  7.0   2019-09-05             2021-03-20   \n",
       "CusID_08122                  8.0   2019-07-17             2021-01-19   \n",
       "\n",
       "             is_premium_member  Women’s_Clothing  Men’s_Clothing  \\\n",
       "CustomerID                                                         \n",
       "CusID_09654                  0          4.000000        3.043023   \n",
       "CusID_09727                  1          4.379066        5.819171   \n",
       "CusID_07391                  1          7.946141        4.000000   \n",
       "CusID_08577                  0          8.396490        3.636100   \n",
       "CusID_08122                  0          2.443467        9.143171   \n",
       "\n",
       "             Kid’s_Clothing  Home_&_Living    Beauty  Electronics  \n",
       "CustomerID                                                         \n",
       "CusID_09654        6.231789       8.561328  9.893144     1.197478  \n",
       "CusID_09727        6.923614       4.529057  5.105539     4.608664  \n",
       "CusID_07391        9.939050       9.744879  8.874676     2.069313  \n",
       "CusID_08577        4.170301       8.412250  9.389648     3.103196  \n",
       "CusID_08122        6.307817       3.224570  1.892078     7.298316  "
      ]
     },
     "execution_count": 233,
     "metadata": {},
     "output_type": "execute_result"
    }
   ],
   "source": [
    "test_df.head()"
   ]
  },
  {
   "cell_type": "code",
   "execution_count": 234,
   "metadata": {},
   "outputs": [
    {
     "data": {
      "text/html": [
       "<div>\n",
       "<style scoped>\n",
       "    .dataframe tbody tr th:only-of-type {\n",
       "        vertical-align: middle;\n",
       "    }\n",
       "\n",
       "    .dataframe tbody tr th {\n",
       "        vertical-align: top;\n",
       "    }\n",
       "\n",
       "    .dataframe thead th {\n",
       "        text-align: right;\n",
       "    }\n",
       "</style>\n",
       "<table border=\"1\" class=\"dataframe\">\n",
       "  <thead>\n",
       "    <tr style=\"text-align: right;\">\n",
       "      <th></th>\n",
       "      <th>Age</th>\n",
       "      <th>Gender</th>\n",
       "      <th>City</th>\n",
       "      <th>State</th>\n",
       "      <th>No_of_orders_placed</th>\n",
       "      <th>Sign_up_date</th>\n",
       "      <th>Last_order_placed_date</th>\n",
       "      <th>is_premium_member</th>\n",
       "      <th>Women’s_Clothing</th>\n",
       "      <th>Men’s_Clothing</th>\n",
       "      <th>Kid’s_Clothing</th>\n",
       "      <th>Home_&amp;_Living</th>\n",
       "      <th>Beauty</th>\n",
       "      <th>Electronics</th>\n",
       "    </tr>\n",
       "  </thead>\n",
       "  <tbody>\n",
       "    <tr>\n",
       "      <th>count</th>\n",
       "      <td>1819.000000</td>\n",
       "      <td>1850</td>\n",
       "      <td>1850</td>\n",
       "      <td>1850</td>\n",
       "      <td>1778.000000</td>\n",
       "      <td>1850</td>\n",
       "      <td>1850</td>\n",
       "      <td>1850.000000</td>\n",
       "      <td>1850.000000</td>\n",
       "      <td>1850.000000</td>\n",
       "      <td>1827.000000</td>\n",
       "      <td>1827.000000</td>\n",
       "      <td>1850.000000</td>\n",
       "      <td>1850.000000</td>\n",
       "    </tr>\n",
       "    <tr>\n",
       "      <th>unique</th>\n",
       "      <td>NaN</td>\n",
       "      <td>3</td>\n",
       "      <td>23</td>\n",
       "      <td>21</td>\n",
       "      <td>NaN</td>\n",
       "      <td>1037</td>\n",
       "      <td>630</td>\n",
       "      <td>NaN</td>\n",
       "      <td>NaN</td>\n",
       "      <td>NaN</td>\n",
       "      <td>NaN</td>\n",
       "      <td>NaN</td>\n",
       "      <td>NaN</td>\n",
       "      <td>NaN</td>\n",
       "    </tr>\n",
       "    <tr>\n",
       "      <th>top</th>\n",
       "      <td>NaN</td>\n",
       "      <td>Male</td>\n",
       "      <td>Sydney</td>\n",
       "      <td>California</td>\n",
       "      <td>NaN</td>\n",
       "      <td>?</td>\n",
       "      <td>2021-03-25</td>\n",
       "      <td>NaN</td>\n",
       "      <td>NaN</td>\n",
       "      <td>NaN</td>\n",
       "      <td>NaN</td>\n",
       "      <td>NaN</td>\n",
       "      <td>NaN</td>\n",
       "      <td>NaN</td>\n",
       "    </tr>\n",
       "    <tr>\n",
       "      <th>freq</th>\n",
       "      <td>NaN</td>\n",
       "      <td>798</td>\n",
       "      <td>97</td>\n",
       "      <td>173</td>\n",
       "      <td>NaN</td>\n",
       "      <td>22</td>\n",
       "      <td>8</td>\n",
       "      <td>NaN</td>\n",
       "      <td>NaN</td>\n",
       "      <td>NaN</td>\n",
       "      <td>NaN</td>\n",
       "      <td>NaN</td>\n",
       "      <td>NaN</td>\n",
       "      <td>NaN</td>\n",
       "    </tr>\n",
       "    <tr>\n",
       "      <th>mean</th>\n",
       "      <td>29.272128</td>\n",
       "      <td>NaN</td>\n",
       "      <td>NaN</td>\n",
       "      <td>NaN</td>\n",
       "      <td>8.242407</td>\n",
       "      <td>NaN</td>\n",
       "      <td>NaN</td>\n",
       "      <td>0.340541</td>\n",
       "      <td>4.384352</td>\n",
       "      <td>4.315254</td>\n",
       "      <td>4.945404</td>\n",
       "      <td>4.505756</td>\n",
       "      <td>4.174118</td>\n",
       "      <td>4.877670</td>\n",
       "    </tr>\n",
       "    <tr>\n",
       "      <th>std</th>\n",
       "      <td>8.187110</td>\n",
       "      <td>NaN</td>\n",
       "      <td>NaN</td>\n",
       "      <td>NaN</td>\n",
       "      <td>3.657581</td>\n",
       "      <td>NaN</td>\n",
       "      <td>NaN</td>\n",
       "      <td>0.474019</td>\n",
       "      <td>2.886372</td>\n",
       "      <td>2.948271</td>\n",
       "      <td>2.582262</td>\n",
       "      <td>2.643967</td>\n",
       "      <td>3.273865</td>\n",
       "      <td>2.904890</td>\n",
       "    </tr>\n",
       "    <tr>\n",
       "      <th>min</th>\n",
       "      <td>15.000000</td>\n",
       "      <td>NaN</td>\n",
       "      <td>NaN</td>\n",
       "      <td>NaN</td>\n",
       "      <td>0.000000</td>\n",
       "      <td>NaN</td>\n",
       "      <td>NaN</td>\n",
       "      <td>0.000000</td>\n",
       "      <td>-2.000000</td>\n",
       "      <td>-1.000000</td>\n",
       "      <td>-2.000000</td>\n",
       "      <td>-1.000000</td>\n",
       "      <td>-1.000000</td>\n",
       "      <td>-2.000000</td>\n",
       "    </tr>\n",
       "    <tr>\n",
       "      <th>25%</th>\n",
       "      <td>23.000000</td>\n",
       "      <td>NaN</td>\n",
       "      <td>NaN</td>\n",
       "      <td>NaN</td>\n",
       "      <td>5.000000</td>\n",
       "      <td>NaN</td>\n",
       "      <td>NaN</td>\n",
       "      <td>0.000000</td>\n",
       "      <td>2.000000</td>\n",
       "      <td>2.000000</td>\n",
       "      <td>3.000000</td>\n",
       "      <td>2.276267</td>\n",
       "      <td>1.363882</td>\n",
       "      <td>2.348540</td>\n",
       "    </tr>\n",
       "    <tr>\n",
       "      <th>50%</th>\n",
       "      <td>29.000000</td>\n",
       "      <td>NaN</td>\n",
       "      <td>NaN</td>\n",
       "      <td>NaN</td>\n",
       "      <td>8.000000</td>\n",
       "      <td>NaN</td>\n",
       "      <td>NaN</td>\n",
       "      <td>0.000000</td>\n",
       "      <td>3.739130</td>\n",
       "      <td>3.646886</td>\n",
       "      <td>5.073131</td>\n",
       "      <td>4.313613</td>\n",
       "      <td>3.000000</td>\n",
       "      <td>4.632417</td>\n",
       "    </tr>\n",
       "    <tr>\n",
       "      <th>75%</th>\n",
       "      <td>34.000000</td>\n",
       "      <td>NaN</td>\n",
       "      <td>NaN</td>\n",
       "      <td>NaN</td>\n",
       "      <td>11.000000</td>\n",
       "      <td>NaN</td>\n",
       "      <td>NaN</td>\n",
       "      <td>1.000000</td>\n",
       "      <td>6.958571</td>\n",
       "      <td>6.929417</td>\n",
       "      <td>6.920714</td>\n",
       "      <td>6.631530</td>\n",
       "      <td>7.690696</td>\n",
       "      <td>7.533786</td>\n",
       "    </tr>\n",
       "    <tr>\n",
       "      <th>max</th>\n",
       "      <td>50.000000</td>\n",
       "      <td>NaN</td>\n",
       "      <td>NaN</td>\n",
       "      <td>NaN</td>\n",
       "      <td>15.000000</td>\n",
       "      <td>NaN</td>\n",
       "      <td>NaN</td>\n",
       "      <td>1.000000</td>\n",
       "      <td>9.991346</td>\n",
       "      <td>9.998916</td>\n",
       "      <td>9.995912</td>\n",
       "      <td>9.989994</td>\n",
       "      <td>9.999745</td>\n",
       "      <td>9.997705</td>\n",
       "    </tr>\n",
       "  </tbody>\n",
       "</table>\n",
       "</div>"
      ],
      "text/plain": [
       "                Age Gender    City       State  No_of_orders_placed  \\\n",
       "count   1819.000000   1850    1850        1850          1778.000000   \n",
       "unique          NaN      3      23          21                  NaN   \n",
       "top             NaN   Male  Sydney  California                  NaN   \n",
       "freq            NaN    798      97         173                  NaN   \n",
       "mean      29.272128    NaN     NaN         NaN             8.242407   \n",
       "std        8.187110    NaN     NaN         NaN             3.657581   \n",
       "min       15.000000    NaN     NaN         NaN             0.000000   \n",
       "25%       23.000000    NaN     NaN         NaN             5.000000   \n",
       "50%       29.000000    NaN     NaN         NaN             8.000000   \n",
       "75%       34.000000    NaN     NaN         NaN            11.000000   \n",
       "max       50.000000    NaN     NaN         NaN            15.000000   \n",
       "\n",
       "       Sign_up_date Last_order_placed_date  is_premium_member  \\\n",
       "count          1850                   1850        1850.000000   \n",
       "unique         1037                    630                NaN   \n",
       "top               ?             2021-03-25                NaN   \n",
       "freq             22                      8                NaN   \n",
       "mean            NaN                    NaN           0.340541   \n",
       "std             NaN                    NaN           0.474019   \n",
       "min             NaN                    NaN           0.000000   \n",
       "25%             NaN                    NaN           0.000000   \n",
       "50%             NaN                    NaN           0.000000   \n",
       "75%             NaN                    NaN           1.000000   \n",
       "max             NaN                    NaN           1.000000   \n",
       "\n",
       "        Women’s_Clothing  Men’s_Clothing  Kid’s_Clothing  Home_&_Living  \\\n",
       "count        1850.000000     1850.000000     1827.000000    1827.000000   \n",
       "unique               NaN             NaN             NaN            NaN   \n",
       "top                  NaN             NaN             NaN            NaN   \n",
       "freq                 NaN             NaN             NaN            NaN   \n",
       "mean            4.384352        4.315254        4.945404       4.505756   \n",
       "std             2.886372        2.948271        2.582262       2.643967   \n",
       "min            -2.000000       -1.000000       -2.000000      -1.000000   \n",
       "25%             2.000000        2.000000        3.000000       2.276267   \n",
       "50%             3.739130        3.646886        5.073131       4.313613   \n",
       "75%             6.958571        6.929417        6.920714       6.631530   \n",
       "max             9.991346        9.998916        9.995912       9.989994   \n",
       "\n",
       "             Beauty  Electronics  \n",
       "count   1850.000000  1850.000000  \n",
       "unique          NaN          NaN  \n",
       "top             NaN          NaN  \n",
       "freq            NaN          NaN  \n",
       "mean       4.174118     4.877670  \n",
       "std        3.273865     2.904890  \n",
       "min       -1.000000    -2.000000  \n",
       "25%        1.363882     2.348540  \n",
       "50%        3.000000     4.632417  \n",
       "75%        7.690696     7.533786  \n",
       "max        9.999745     9.997705  "
      ]
     },
     "execution_count": 234,
     "metadata": {},
     "output_type": "execute_result"
    }
   ],
   "source": [
    "test_df.describe(include='all')"
   ]
  },
  {
   "cell_type": "code",
   "execution_count": 235,
   "metadata": {},
   "outputs": [],
   "source": [
    "test_df=test_df.replace('Not_Specified',np.nan)\n"
   ]
  },
  {
   "cell_type": "code",
   "execution_count": 236,
   "metadata": {},
   "outputs": [],
   "source": [
    "test_df=test_df.replace('?',np.nan)"
   ]
  },
  {
   "cell_type": "code",
   "execution_count": 237,
   "metadata": {},
   "outputs": [
    {
     "data": {
      "text/plain": [
       "Male      798\n",
       "Female    762\n",
       "Name: Gender, dtype: int64"
      ]
     },
     "execution_count": 237,
     "metadata": {},
     "output_type": "execute_result"
    }
   ],
   "source": [
    "test_df.Gender.value_counts()"
   ]
  },
  {
   "cell_type": "code",
   "execution_count": 238,
   "metadata": {},
   "outputs": [],
   "source": [
    "test=test_df[['Age', 'Gender', 'City', 'State', 'No_of_orders_placed','is_premium_member', 'Women’s_Clothing',\n",
    "       'Men’s_Clothing', 'Kid’s_Clothing', 'Home_&_Living', 'Beauty','Electronics']]"
   ]
  },
  {
   "cell_type": "code",
   "execution_count": 239,
   "metadata": {},
   "outputs": [
    {
     "data": {
      "text/plain": [
       "Age                    float64\n",
       "Gender                  object\n",
       "City                    object\n",
       "State                   object\n",
       "No_of_orders_placed    float64\n",
       "is_premium_member        int64\n",
       "Women’s_Clothing       float64\n",
       "Men’s_Clothing         float64\n",
       "Kid’s_Clothing         float64\n",
       "Home_&_Living          float64\n",
       "Beauty                 float64\n",
       "Electronics            float64\n",
       "dtype: object"
      ]
     },
     "execution_count": 239,
     "metadata": {},
     "output_type": "execute_result"
    }
   ],
   "source": [
    "test.dtypes"
   ]
  },
  {
   "cell_type": "markdown",
   "metadata": {},
   "source": [
    "# Handling missing values in test data"
   ]
  },
  {
   "cell_type": "code",
   "execution_count": 240,
   "metadata": {},
   "outputs": [
    {
     "data": {
      "text/plain": [
       "Age                     31\n",
       "Gender                 290\n",
       "City                    43\n",
       "State                    0\n",
       "No_of_orders_placed     72\n",
       "is_premium_member        0\n",
       "Women’s_Clothing         0\n",
       "Men’s_Clothing           0\n",
       "Kid’s_Clothing          23\n",
       "Home_&_Living           23\n",
       "Beauty                   0\n",
       "Electronics              0\n",
       "dtype: int64"
      ]
     },
     "execution_count": 240,
     "metadata": {},
     "output_type": "execute_result"
    }
   ],
   "source": [
    "test.isnull().sum()"
   ]
  },
  {
   "cell_type": "code",
   "execution_count": 241,
   "metadata": {},
   "outputs": [],
   "source": [
    "num_col=['Age','No_of_orders_placed','Kid’s_Clothing','Home_&_Living']\n",
    "char_col=['Gender','City']"
   ]
  },
  {
   "cell_type": "code",
   "execution_count": 242,
   "metadata": {},
   "outputs": [],
   "source": [
    "for i in num_col:\n",
    "    test[i].fillna(test[i].mean(),inplace=True)"
   ]
  },
  {
   "cell_type": "code",
   "execution_count": 243,
   "metadata": {},
   "outputs": [],
   "source": [
    "for i in char_col:\n",
    "    test[i].fillna(test[i].mode()[0],inplace=True)"
   ]
  },
  {
   "cell_type": "code",
   "execution_count": 244,
   "metadata": {},
   "outputs": [
    {
     "data": {
      "text/plain": [
       "Age                    0\n",
       "Gender                 0\n",
       "City                   0\n",
       "State                  0\n",
       "No_of_orders_placed    0\n",
       "is_premium_member      0\n",
       "Women’s_Clothing       0\n",
       "Men’s_Clothing         0\n",
       "Kid’s_Clothing         0\n",
       "Home_&_Living          0\n",
       "Beauty                 0\n",
       "Electronics            0\n",
       "dtype: int64"
      ]
     },
     "execution_count": 244,
     "metadata": {},
     "output_type": "execute_result"
    }
   ],
   "source": [
    "test.isnull().sum()"
   ]
  },
  {
   "cell_type": "markdown",
   "metadata": {},
   "source": [
    "# Converting categorical values to numerical in Test data\n"
   ]
  },
  {
   "cell_type": "code",
   "execution_count": 245,
   "metadata": {},
   "outputs": [
    {
     "data": {
      "text/plain": [
       "Index(['Age', 'Gender', 'City', 'State', 'No_of_orders_placed',\n",
       "       'is_premium_member', 'Women’s_Clothing', 'Men’s_Clothing',\n",
       "       'Kid’s_Clothing', 'Home_&_Living', 'Beauty', 'Electronics'],\n",
       "      dtype='object')"
      ]
     },
     "execution_count": 245,
     "metadata": {},
     "output_type": "execute_result"
    }
   ],
   "source": [
    "test.columns"
   ]
  },
  {
   "cell_type": "code",
   "execution_count": 246,
   "metadata": {},
   "outputs": [],
   "source": [
    "from sklearn.preprocessing import LabelEncoder\n",
    "le=LabelEncoder()"
   ]
  },
  {
   "cell_type": "code",
   "execution_count": 247,
   "metadata": {},
   "outputs": [
    {
     "name": "stdout",
     "output_type": "stream",
     "text": [
      "              Age  Gender  City  State  No_of_orders_placed  \\\n",
      "CustomerID                                                    \n",
      "CusID_09654  20.0       0    20      2                  5.0   \n",
      "CusID_09727  25.0       1     2      5                 11.0   \n",
      "CusID_07391  31.0       0    14     20                  1.0   \n",
      "CusID_08577  17.0       0     6     19                  7.0   \n",
      "CusID_08122  39.0       1    12     11                  8.0   \n",
      "\n",
      "             is_premium_member  Women’s_Clothing  Men’s_Clothing  \\\n",
      "CustomerID                                                         \n",
      "CusID_09654                  0          4.000000        3.043023   \n",
      "CusID_09727                  1          4.379066        5.819171   \n",
      "CusID_07391                  1          7.946141        4.000000   \n",
      "CusID_08577                  0          8.396490        3.636100   \n",
      "CusID_08122                  0          2.443467        9.143171   \n",
      "\n",
      "             Kid’s_Clothing  Home_&_Living    Beauty  Electronics  \n",
      "CustomerID                                                         \n",
      "CusID_09654        6.231789       8.561328  9.893144     1.197478  \n",
      "CusID_09727        6.923614       4.529057  5.105539     4.608664  \n",
      "CusID_07391        9.939050       9.744879  8.874676     2.069313  \n",
      "CusID_08577        4.170301       8.412250  9.389648     3.103196  \n",
      "CusID_08122        6.307817       3.224570  1.892078     7.298316  \n"
     ]
    }
   ],
   "source": [
    "col=['Gender','City','State']\n",
    "for i in col:\n",
    "    test[i]=le.fit_transform(test[i])\n",
    "print(test.head())\n",
    "    "
   ]
  },
  {
   "cell_type": "code",
   "execution_count": 248,
   "metadata": {},
   "outputs": [],
   "source": [
    "test.Age=test.Age.astype(int)"
   ]
  },
  {
   "cell_type": "code",
   "execution_count": 249,
   "metadata": {},
   "outputs": [
    {
     "data": {
      "text/plain": [
       "Age                      int32\n",
       "Gender                   int32\n",
       "City                     int32\n",
       "State                    int32\n",
       "No_of_orders_placed    float64\n",
       "is_premium_member        int64\n",
       "Women’s_Clothing       float64\n",
       "Men’s_Clothing         float64\n",
       "Kid’s_Clothing         float64\n",
       "Home_&_Living          float64\n",
       "Beauty                 float64\n",
       "Electronics            float64\n",
       "dtype: object"
      ]
     },
     "execution_count": 249,
     "metadata": {},
     "output_type": "execute_result"
    }
   ],
   "source": [
    "test.dtypes"
   ]
  },
  {
   "cell_type": "code",
   "execution_count": null,
   "metadata": {},
   "outputs": [],
   "source": []
  },
  {
   "cell_type": "markdown",
   "metadata": {},
   "source": [
    "# Converting Training and Testing data -X & Y"
   ]
  },
  {
   "cell_type": "code",
   "execution_count": 253,
   "metadata": {},
   "outputs": [],
   "source": [
    "X_train=train.values[:,0:-1]\n",
    "Y_train=train.values[:,-1]\n",
    "Y_train=Y_train.astype(int)\n",
    "                     "
   ]
  },
  {
   "cell_type": "code",
   "execution_count": 254,
   "metadata": {},
   "outputs": [
    {
     "name": "stdout",
     "output_type": "stream",
     "text": [
      "(15150, 12)\n",
      "(15150,)\n"
     ]
    }
   ],
   "source": [
    "print(X_train.shape)\n",
    "print(Y_train.shape)"
   ]
  },
  {
   "cell_type": "code",
   "execution_count": 255,
   "metadata": {},
   "outputs": [],
   "source": [
    "X_test=test.values[:,:]"
   ]
  },
  {
   "cell_type": "code",
   "execution_count": 256,
   "metadata": {},
   "outputs": [
    {
     "name": "stdout",
     "output_type": "stream",
     "text": [
      "(1850, 12)\n"
     ]
    }
   ],
   "source": [
    "print(X_test.shape)"
   ]
  },
  {
   "cell_type": "markdown",
   "metadata": {},
   "source": [
    "# Scaling the data"
   ]
  },
  {
   "cell_type": "code",
   "execution_count": 257,
   "metadata": {},
   "outputs": [],
   "source": [
    "from sklearn.preprocessing import StandardScaler\n",
    "\n",
    "scaler = StandardScaler()\n",
    "\n",
    "X_train= scaler.fit_transform(X_train)\n",
    "\n",
    "X_test = scaler.transform(X_test)"
   ]
  },
  {
   "cell_type": "code",
   "execution_count": null,
   "metadata": {},
   "outputs": [],
   "source": [
    "#Logistic Regression"
   ]
  },
  {
   "cell_type": "code",
   "execution_count": 258,
   "metadata": {},
   "outputs": [],
   "source": [
    "from sklearn.linear_model import LogisticRegression\n",
    "classifier=LogisticRegression()\n",
    "classifier.fit(X_train,Y_train)\n",
    "Y_pred=classifier.predict(X_test)"
   ]
  },
  {
   "cell_type": "code",
   "execution_count": 259,
   "metadata": {},
   "outputs": [
    {
     "data": {
      "text/html": [
       "<div>\n",
       "<style scoped>\n",
       "    .dataframe tbody tr th:only-of-type {\n",
       "        vertical-align: middle;\n",
       "    }\n",
       "\n",
       "    .dataframe tbody tr th {\n",
       "        vertical-align: top;\n",
       "    }\n",
       "\n",
       "    .dataframe thead th {\n",
       "        text-align: right;\n",
       "    }\n",
       "</style>\n",
       "<table border=\"1\" class=\"dataframe\">\n",
       "  <thead>\n",
       "    <tr style=\"text-align: right;\">\n",
       "      <th></th>\n",
       "      <th>Age</th>\n",
       "      <th>Gender</th>\n",
       "      <th>City</th>\n",
       "      <th>State</th>\n",
       "      <th>No_of_orders_placed</th>\n",
       "      <th>Sign_up_date</th>\n",
       "      <th>Last_order_placed_date</th>\n",
       "      <th>is_premium_member</th>\n",
       "      <th>Women’s_Clothing</th>\n",
       "      <th>Men’s_Clothing</th>\n",
       "      <th>Kid’s_Clothing</th>\n",
       "      <th>Home_&amp;_Living</th>\n",
       "      <th>Beauty</th>\n",
       "      <th>Electronics</th>\n",
       "      <th>Preferred_Theme</th>\n",
       "    </tr>\n",
       "    <tr>\n",
       "      <th>CustomerID</th>\n",
       "      <th></th>\n",
       "      <th></th>\n",
       "      <th></th>\n",
       "      <th></th>\n",
       "      <th></th>\n",
       "      <th></th>\n",
       "      <th></th>\n",
       "      <th></th>\n",
       "      <th></th>\n",
       "      <th></th>\n",
       "      <th></th>\n",
       "      <th></th>\n",
       "      <th></th>\n",
       "      <th></th>\n",
       "      <th></th>\n",
       "    </tr>\n",
       "  </thead>\n",
       "  <tbody>\n",
       "    <tr>\n",
       "      <th>CusID_09654</th>\n",
       "      <td>20.0</td>\n",
       "      <td>Female</td>\n",
       "      <td>Vancouver</td>\n",
       "      <td>British Columbia</td>\n",
       "      <td>5.0</td>\n",
       "      <td>2019-11-27</td>\n",
       "      <td>2020-03-22</td>\n",
       "      <td>0</td>\n",
       "      <td>4.000000</td>\n",
       "      <td>3.043023</td>\n",
       "      <td>6.231789</td>\n",
       "      <td>8.561328</td>\n",
       "      <td>9.893144</td>\n",
       "      <td>1.197478</td>\n",
       "      <td>1</td>\n",
       "    </tr>\n",
       "    <tr>\n",
       "      <th>CusID_09727</th>\n",
       "      <td>25.0</td>\n",
       "      <td>NaN</td>\n",
       "      <td>Budapest</td>\n",
       "      <td>Central Hungary</td>\n",
       "      <td>11.0</td>\n",
       "      <td>2016-12-01</td>\n",
       "      <td>2021-08-22</td>\n",
       "      <td>1</td>\n",
       "      <td>4.379066</td>\n",
       "      <td>5.819171</td>\n",
       "      <td>6.923614</td>\n",
       "      <td>4.529057</td>\n",
       "      <td>5.105539</td>\n",
       "      <td>4.608664</td>\n",
       "      <td>0</td>\n",
       "    </tr>\n",
       "    <tr>\n",
       "      <th>CusID_07391</th>\n",
       "      <td>31.0</td>\n",
       "      <td>Female</td>\n",
       "      <td>Perth</td>\n",
       "      <td>Western Australia</td>\n",
       "      <td>1.0</td>\n",
       "      <td>2019-10-31</td>\n",
       "      <td>2020-11-28</td>\n",
       "      <td>1</td>\n",
       "      <td>7.946141</td>\n",
       "      <td>4.000000</td>\n",
       "      <td>9.939050</td>\n",
       "      <td>9.744879</td>\n",
       "      <td>8.874676</td>\n",
       "      <td>2.069313</td>\n",
       "      <td>0</td>\n",
       "    </tr>\n",
       "    <tr>\n",
       "      <th>CusID_08577</th>\n",
       "      <td>17.0</td>\n",
       "      <td>Female</td>\n",
       "      <td>Kolkata</td>\n",
       "      <td>West Bengal</td>\n",
       "      <td>7.0</td>\n",
       "      <td>2019-09-05</td>\n",
       "      <td>2021-03-20</td>\n",
       "      <td>0</td>\n",
       "      <td>8.396490</td>\n",
       "      <td>3.636100</td>\n",
       "      <td>4.170301</td>\n",
       "      <td>8.412250</td>\n",
       "      <td>9.389648</td>\n",
       "      <td>3.103196</td>\n",
       "      <td>0</td>\n",
       "    </tr>\n",
       "    <tr>\n",
       "      <th>CusID_08122</th>\n",
       "      <td>39.0</td>\n",
       "      <td>Male</td>\n",
       "      <td>New York City</td>\n",
       "      <td>New York</td>\n",
       "      <td>8.0</td>\n",
       "      <td>2019-07-17</td>\n",
       "      <td>2021-01-19</td>\n",
       "      <td>0</td>\n",
       "      <td>2.443467</td>\n",
       "      <td>9.143171</td>\n",
       "      <td>6.307817</td>\n",
       "      <td>3.224570</td>\n",
       "      <td>1.892078</td>\n",
       "      <td>7.298316</td>\n",
       "      <td>1</td>\n",
       "    </tr>\n",
       "  </tbody>\n",
       "</table>\n",
       "</div>"
      ],
      "text/plain": [
       "              Age  Gender           City              State  \\\n",
       "CustomerID                                                    \n",
       "CusID_09654  20.0  Female      Vancouver   British Columbia   \n",
       "CusID_09727  25.0     NaN       Budapest    Central Hungary   \n",
       "CusID_07391  31.0  Female          Perth  Western Australia   \n",
       "CusID_08577  17.0  Female        Kolkata        West Bengal   \n",
       "CusID_08122  39.0    Male  New York City           New York   \n",
       "\n",
       "             No_of_orders_placed Sign_up_date Last_order_placed_date  \\\n",
       "CustomerID                                                             \n",
       "CusID_09654                  5.0   2019-11-27             2020-03-22   \n",
       "CusID_09727                 11.0   2016-12-01             2021-08-22   \n",
       "CusID_07391                  1.0   2019-10-31             2020-11-28   \n",
       "CusID_08577                  7.0   2019-09-05             2021-03-20   \n",
       "CusID_08122                  8.0   2019-07-17             2021-01-19   \n",
       "\n",
       "             is_premium_member  Women’s_Clothing  Men’s_Clothing  \\\n",
       "CustomerID                                                         \n",
       "CusID_09654                  0          4.000000        3.043023   \n",
       "CusID_09727                  1          4.379066        5.819171   \n",
       "CusID_07391                  1          7.946141        4.000000   \n",
       "CusID_08577                  0          8.396490        3.636100   \n",
       "CusID_08122                  0          2.443467        9.143171   \n",
       "\n",
       "             Kid’s_Clothing  Home_&_Living    Beauty  Electronics  \\\n",
       "CustomerID                                                          \n",
       "CusID_09654        6.231789       8.561328  9.893144     1.197478   \n",
       "CusID_09727        6.923614       4.529057  5.105539     4.608664   \n",
       "CusID_07391        9.939050       9.744879  8.874676     2.069313   \n",
       "CusID_08577        4.170301       8.412250  9.389648     3.103196   \n",
       "CusID_08122        6.307817       3.224570  1.892078     7.298316   \n",
       "\n",
       "             Preferred_Theme  \n",
       "CustomerID                    \n",
       "CusID_09654                1  \n",
       "CusID_09727                0  \n",
       "CusID_07391                0  \n",
       "CusID_08577                0  \n",
       "CusID_08122                1  "
      ]
     },
     "execution_count": 259,
     "metadata": {},
     "output_type": "execute_result"
    }
   ],
   "source": [
    "test_df[\"Preferred_Theme\"]=Y_pred\n",
    "test_df.head()"
   ]
  },
  {
   "cell_type": "code",
   "execution_count": 261,
   "metadata": {},
   "outputs": [],
   "source": [
    "submit_df=test_df[['Preferred_Theme']]"
   ]
  },
  {
   "cell_type": "code",
   "execution_count": 262,
   "metadata": {},
   "outputs": [],
   "source": [
    "submit_df.Preferred_Theme=test_df.Preferred_Theme.map({0:'Old_UI',1:'New_UI'})"
   ]
  },
  {
   "cell_type": "code",
   "execution_count": 263,
   "metadata": {},
   "outputs": [],
   "source": [
    "submit_df.to_csv(r'C:\\Users\\Lenovo\\Desktop\\hackathons-hackereath\\Submission\\Logistic_reg_1.csv')"
   ]
  },
  {
   "cell_type": "markdown",
   "metadata": {},
   "source": [
    "# SGD Classifier"
   ]
  },
  {
   "cell_type": "code",
   "execution_count": 280,
   "metadata": {},
   "outputs": [],
   "source": [
    "from sklearn.linear_model import SGDClassifier\n",
    "clf=SGDClassifier(loss='log',penalty='l2',max_iter=1000,alpha=0.01)\n",
    "clf.fit(X_train,Y_train)\n",
    "Y_Pred=clf.predict(X_test)"
   ]
  },
  {
   "cell_type": "code",
   "execution_count": 281,
   "metadata": {},
   "outputs": [
    {
     "data": {
      "text/html": [
       "<div>\n",
       "<style scoped>\n",
       "    .dataframe tbody tr th:only-of-type {\n",
       "        vertical-align: middle;\n",
       "    }\n",
       "\n",
       "    .dataframe tbody tr th {\n",
       "        vertical-align: top;\n",
       "    }\n",
       "\n",
       "    .dataframe thead th {\n",
       "        text-align: right;\n",
       "    }\n",
       "</style>\n",
       "<table border=\"1\" class=\"dataframe\">\n",
       "  <thead>\n",
       "    <tr style=\"text-align: right;\">\n",
       "      <th></th>\n",
       "      <th>Age</th>\n",
       "      <th>Gender</th>\n",
       "      <th>City</th>\n",
       "      <th>State</th>\n",
       "      <th>No_of_orders_placed</th>\n",
       "      <th>Sign_up_date</th>\n",
       "      <th>Last_order_placed_date</th>\n",
       "      <th>is_premium_member</th>\n",
       "      <th>Women’s_Clothing</th>\n",
       "      <th>Men’s_Clothing</th>\n",
       "      <th>Kid’s_Clothing</th>\n",
       "      <th>Home_&amp;_Living</th>\n",
       "      <th>Beauty</th>\n",
       "      <th>Electronics</th>\n",
       "      <th>Preferred_Theme</th>\n",
       "    </tr>\n",
       "    <tr>\n",
       "      <th>CustomerID</th>\n",
       "      <th></th>\n",
       "      <th></th>\n",
       "      <th></th>\n",
       "      <th></th>\n",
       "      <th></th>\n",
       "      <th></th>\n",
       "      <th></th>\n",
       "      <th></th>\n",
       "      <th></th>\n",
       "      <th></th>\n",
       "      <th></th>\n",
       "      <th></th>\n",
       "      <th></th>\n",
       "      <th></th>\n",
       "      <th></th>\n",
       "    </tr>\n",
       "  </thead>\n",
       "  <tbody>\n",
       "    <tr>\n",
       "      <th>CusID_09654</th>\n",
       "      <td>20.0</td>\n",
       "      <td>Female</td>\n",
       "      <td>Vancouver</td>\n",
       "      <td>British Columbia</td>\n",
       "      <td>5.0</td>\n",
       "      <td>2019-11-27</td>\n",
       "      <td>2020-03-22</td>\n",
       "      <td>0</td>\n",
       "      <td>4.000000</td>\n",
       "      <td>3.043023</td>\n",
       "      <td>6.231789</td>\n",
       "      <td>8.561328</td>\n",
       "      <td>9.893144</td>\n",
       "      <td>1.197478</td>\n",
       "      <td>1</td>\n",
       "    </tr>\n",
       "    <tr>\n",
       "      <th>CusID_09727</th>\n",
       "      <td>25.0</td>\n",
       "      <td>Not_Specified</td>\n",
       "      <td>Budapest</td>\n",
       "      <td>Central Hungary</td>\n",
       "      <td>11.0</td>\n",
       "      <td>2016-12-01</td>\n",
       "      <td>2021-08-22</td>\n",
       "      <td>1</td>\n",
       "      <td>4.379066</td>\n",
       "      <td>5.819171</td>\n",
       "      <td>6.923614</td>\n",
       "      <td>4.529057</td>\n",
       "      <td>5.105539</td>\n",
       "      <td>4.608664</td>\n",
       "      <td>0</td>\n",
       "    </tr>\n",
       "    <tr>\n",
       "      <th>CusID_07391</th>\n",
       "      <td>31.0</td>\n",
       "      <td>Female</td>\n",
       "      <td>Perth</td>\n",
       "      <td>Western Australia</td>\n",
       "      <td>1.0</td>\n",
       "      <td>2019-10-31</td>\n",
       "      <td>2020-11-28</td>\n",
       "      <td>1</td>\n",
       "      <td>7.946141</td>\n",
       "      <td>4.000000</td>\n",
       "      <td>9.939050</td>\n",
       "      <td>9.744879</td>\n",
       "      <td>8.874676</td>\n",
       "      <td>2.069313</td>\n",
       "      <td>0</td>\n",
       "    </tr>\n",
       "    <tr>\n",
       "      <th>CusID_08577</th>\n",
       "      <td>17.0</td>\n",
       "      <td>Female</td>\n",
       "      <td>Kolkata</td>\n",
       "      <td>West Bengal</td>\n",
       "      <td>7.0</td>\n",
       "      <td>2019-09-05</td>\n",
       "      <td>2021-03-20</td>\n",
       "      <td>0</td>\n",
       "      <td>8.396490</td>\n",
       "      <td>3.636100</td>\n",
       "      <td>4.170301</td>\n",
       "      <td>8.412250</td>\n",
       "      <td>9.389648</td>\n",
       "      <td>3.103196</td>\n",
       "      <td>0</td>\n",
       "    </tr>\n",
       "    <tr>\n",
       "      <th>CusID_08122</th>\n",
       "      <td>39.0</td>\n",
       "      <td>Male</td>\n",
       "      <td>New York City</td>\n",
       "      <td>New York</td>\n",
       "      <td>8.0</td>\n",
       "      <td>2019-07-17</td>\n",
       "      <td>2021-01-19</td>\n",
       "      <td>0</td>\n",
       "      <td>2.443467</td>\n",
       "      <td>9.143171</td>\n",
       "      <td>6.307817</td>\n",
       "      <td>3.224570</td>\n",
       "      <td>1.892078</td>\n",
       "      <td>7.298316</td>\n",
       "      <td>1</td>\n",
       "    </tr>\n",
       "  </tbody>\n",
       "</table>\n",
       "</div>"
      ],
      "text/plain": [
       "              Age         Gender           City              State  \\\n",
       "CustomerID                                                           \n",
       "CusID_09654  20.0         Female      Vancouver   British Columbia   \n",
       "CusID_09727  25.0  Not_Specified       Budapest    Central Hungary   \n",
       "CusID_07391  31.0         Female          Perth  Western Australia   \n",
       "CusID_08577  17.0         Female        Kolkata        West Bengal   \n",
       "CusID_08122  39.0           Male  New York City           New York   \n",
       "\n",
       "             No_of_orders_placed Sign_up_date Last_order_placed_date  \\\n",
       "CustomerID                                                             \n",
       "CusID_09654                  5.0   2019-11-27             2020-03-22   \n",
       "CusID_09727                 11.0   2016-12-01             2021-08-22   \n",
       "CusID_07391                  1.0   2019-10-31             2020-11-28   \n",
       "CusID_08577                  7.0   2019-09-05             2021-03-20   \n",
       "CusID_08122                  8.0   2019-07-17             2021-01-19   \n",
       "\n",
       "             is_premium_member  Women’s_Clothing  Men’s_Clothing  \\\n",
       "CustomerID                                                         \n",
       "CusID_09654                  0          4.000000        3.043023   \n",
       "CusID_09727                  1          4.379066        5.819171   \n",
       "CusID_07391                  1          7.946141        4.000000   \n",
       "CusID_08577                  0          8.396490        3.636100   \n",
       "CusID_08122                  0          2.443467        9.143171   \n",
       "\n",
       "             Kid’s_Clothing  Home_&_Living    Beauty  Electronics  \\\n",
       "CustomerID                                                          \n",
       "CusID_09654        6.231789       8.561328  9.893144     1.197478   \n",
       "CusID_09727        6.923614       4.529057  5.105539     4.608664   \n",
       "CusID_07391        9.939050       9.744879  8.874676     2.069313   \n",
       "CusID_08577        4.170301       8.412250  9.389648     3.103196   \n",
       "CusID_08122        6.307817       3.224570  1.892078     7.298316   \n",
       "\n",
       "             Preferred_Theme  \n",
       "CustomerID                    \n",
       "CusID_09654                1  \n",
       "CusID_09727                0  \n",
       "CusID_07391                0  \n",
       "CusID_08577                0  \n",
       "CusID_08122                1  "
      ]
     },
     "execution_count": 281,
     "metadata": {},
     "output_type": "execute_result"
    }
   ],
   "source": [
    "test_df[\"Preferred_Theme\"]=Y_Pred\n",
    "test_df.head()"
   ]
  },
  {
   "cell_type": "code",
   "execution_count": 282,
   "metadata": {},
   "outputs": [],
   "source": [
    "submit_df=test_df[['Preferred_Theme']]\n",
    "submit_df.Preferred_Theme=test_df.Preferred_Theme.map({0:'Old_UI',1:'New_UI'})\n",
    "submit_df.to_csv(r'C:\\Users\\Lenovo\\Desktop\\hackathons-hackereath\\Submission\\sgd_3.csv')"
   ]
  },
  {
   "cell_type": "markdown",
   "metadata": {},
   "source": [
    "# Randomn Forest"
   ]
  },
  {
   "cell_type": "code",
   "execution_count": 297,
   "metadata": {},
   "outputs": [],
   "source": [
    "from sklearn.ensemble import RandomForestClassifier\n",
    "RF=RandomForestClassifier(n_estimators=200,random_state=10,max_depth=10)\n",
    "RF.fit(X_train,Y_train)\n",
    "Y_Pred=RF.predict(X_test)"
   ]
  },
  {
   "cell_type": "code",
   "execution_count": 298,
   "metadata": {},
   "outputs": [
    {
     "data": {
      "text/html": [
       "<div>\n",
       "<style scoped>\n",
       "    .dataframe tbody tr th:only-of-type {\n",
       "        vertical-align: middle;\n",
       "    }\n",
       "\n",
       "    .dataframe tbody tr th {\n",
       "        vertical-align: top;\n",
       "    }\n",
       "\n",
       "    .dataframe thead th {\n",
       "        text-align: right;\n",
       "    }\n",
       "</style>\n",
       "<table border=\"1\" class=\"dataframe\">\n",
       "  <thead>\n",
       "    <tr style=\"text-align: right;\">\n",
       "      <th></th>\n",
       "      <th>Age</th>\n",
       "      <th>Gender</th>\n",
       "      <th>City</th>\n",
       "      <th>State</th>\n",
       "      <th>No_of_orders_placed</th>\n",
       "      <th>Sign_up_date</th>\n",
       "      <th>Last_order_placed_date</th>\n",
       "      <th>is_premium_member</th>\n",
       "      <th>Women’s_Clothing</th>\n",
       "      <th>Men’s_Clothing</th>\n",
       "      <th>Kid’s_Clothing</th>\n",
       "      <th>Home_&amp;_Living</th>\n",
       "      <th>Beauty</th>\n",
       "      <th>Electronics</th>\n",
       "      <th>Preferred_Theme</th>\n",
       "    </tr>\n",
       "    <tr>\n",
       "      <th>CustomerID</th>\n",
       "      <th></th>\n",
       "      <th></th>\n",
       "      <th></th>\n",
       "      <th></th>\n",
       "      <th></th>\n",
       "      <th></th>\n",
       "      <th></th>\n",
       "      <th></th>\n",
       "      <th></th>\n",
       "      <th></th>\n",
       "      <th></th>\n",
       "      <th></th>\n",
       "      <th></th>\n",
       "      <th></th>\n",
       "      <th></th>\n",
       "    </tr>\n",
       "  </thead>\n",
       "  <tbody>\n",
       "    <tr>\n",
       "      <th>CusID_09654</th>\n",
       "      <td>20.0</td>\n",
       "      <td>Female</td>\n",
       "      <td>Vancouver</td>\n",
       "      <td>British Columbia</td>\n",
       "      <td>5.0</td>\n",
       "      <td>2019-11-27</td>\n",
       "      <td>2020-03-22</td>\n",
       "      <td>0</td>\n",
       "      <td>4.000000</td>\n",
       "      <td>3.043023</td>\n",
       "      <td>6.231789</td>\n",
       "      <td>8.561328</td>\n",
       "      <td>9.893144</td>\n",
       "      <td>1.197478</td>\n",
       "      <td>1</td>\n",
       "    </tr>\n",
       "    <tr>\n",
       "      <th>CusID_09727</th>\n",
       "      <td>25.0</td>\n",
       "      <td>Not_Specified</td>\n",
       "      <td>Budapest</td>\n",
       "      <td>Central Hungary</td>\n",
       "      <td>11.0</td>\n",
       "      <td>2016-12-01</td>\n",
       "      <td>2021-08-22</td>\n",
       "      <td>1</td>\n",
       "      <td>4.379066</td>\n",
       "      <td>5.819171</td>\n",
       "      <td>6.923614</td>\n",
       "      <td>4.529057</td>\n",
       "      <td>5.105539</td>\n",
       "      <td>4.608664</td>\n",
       "      <td>0</td>\n",
       "    </tr>\n",
       "    <tr>\n",
       "      <th>CusID_07391</th>\n",
       "      <td>31.0</td>\n",
       "      <td>Female</td>\n",
       "      <td>Perth</td>\n",
       "      <td>Western Australia</td>\n",
       "      <td>1.0</td>\n",
       "      <td>2019-10-31</td>\n",
       "      <td>2020-11-28</td>\n",
       "      <td>1</td>\n",
       "      <td>7.946141</td>\n",
       "      <td>4.000000</td>\n",
       "      <td>9.939050</td>\n",
       "      <td>9.744879</td>\n",
       "      <td>8.874676</td>\n",
       "      <td>2.069313</td>\n",
       "      <td>0</td>\n",
       "    </tr>\n",
       "    <tr>\n",
       "      <th>CusID_08577</th>\n",
       "      <td>17.0</td>\n",
       "      <td>Female</td>\n",
       "      <td>Kolkata</td>\n",
       "      <td>West Bengal</td>\n",
       "      <td>7.0</td>\n",
       "      <td>2019-09-05</td>\n",
       "      <td>2021-03-20</td>\n",
       "      <td>0</td>\n",
       "      <td>8.396490</td>\n",
       "      <td>3.636100</td>\n",
       "      <td>4.170301</td>\n",
       "      <td>8.412250</td>\n",
       "      <td>9.389648</td>\n",
       "      <td>3.103196</td>\n",
       "      <td>1</td>\n",
       "    </tr>\n",
       "    <tr>\n",
       "      <th>CusID_08122</th>\n",
       "      <td>39.0</td>\n",
       "      <td>Male</td>\n",
       "      <td>New York City</td>\n",
       "      <td>New York</td>\n",
       "      <td>8.0</td>\n",
       "      <td>2019-07-17</td>\n",
       "      <td>2021-01-19</td>\n",
       "      <td>0</td>\n",
       "      <td>2.443467</td>\n",
       "      <td>9.143171</td>\n",
       "      <td>6.307817</td>\n",
       "      <td>3.224570</td>\n",
       "      <td>1.892078</td>\n",
       "      <td>7.298316</td>\n",
       "      <td>1</td>\n",
       "    </tr>\n",
       "  </tbody>\n",
       "</table>\n",
       "</div>"
      ],
      "text/plain": [
       "              Age         Gender           City              State  \\\n",
       "CustomerID                                                           \n",
       "CusID_09654  20.0         Female      Vancouver   British Columbia   \n",
       "CusID_09727  25.0  Not_Specified       Budapest    Central Hungary   \n",
       "CusID_07391  31.0         Female          Perth  Western Australia   \n",
       "CusID_08577  17.0         Female        Kolkata        West Bengal   \n",
       "CusID_08122  39.0           Male  New York City           New York   \n",
       "\n",
       "             No_of_orders_placed Sign_up_date Last_order_placed_date  \\\n",
       "CustomerID                                                             \n",
       "CusID_09654                  5.0   2019-11-27             2020-03-22   \n",
       "CusID_09727                 11.0   2016-12-01             2021-08-22   \n",
       "CusID_07391                  1.0   2019-10-31             2020-11-28   \n",
       "CusID_08577                  7.0   2019-09-05             2021-03-20   \n",
       "CusID_08122                  8.0   2019-07-17             2021-01-19   \n",
       "\n",
       "             is_premium_member  Women’s_Clothing  Men’s_Clothing  \\\n",
       "CustomerID                                                         \n",
       "CusID_09654                  0          4.000000        3.043023   \n",
       "CusID_09727                  1          4.379066        5.819171   \n",
       "CusID_07391                  1          7.946141        4.000000   \n",
       "CusID_08577                  0          8.396490        3.636100   \n",
       "CusID_08122                  0          2.443467        9.143171   \n",
       "\n",
       "             Kid’s_Clothing  Home_&_Living    Beauty  Electronics  \\\n",
       "CustomerID                                                          \n",
       "CusID_09654        6.231789       8.561328  9.893144     1.197478   \n",
       "CusID_09727        6.923614       4.529057  5.105539     4.608664   \n",
       "CusID_07391        9.939050       9.744879  8.874676     2.069313   \n",
       "CusID_08577        4.170301       8.412250  9.389648     3.103196   \n",
       "CusID_08122        6.307817       3.224570  1.892078     7.298316   \n",
       "\n",
       "             Preferred_Theme  \n",
       "CustomerID                    \n",
       "CusID_09654                1  \n",
       "CusID_09727                0  \n",
       "CusID_07391                0  \n",
       "CusID_08577                1  \n",
       "CusID_08122                1  "
      ]
     },
     "execution_count": 298,
     "metadata": {},
     "output_type": "execute_result"
    }
   ],
   "source": [
    "test_df[\"Preferred_Theme\"]=Y_Pred\n",
    "test_df.head()"
   ]
  },
  {
   "cell_type": "code",
   "execution_count": 300,
   "metadata": {},
   "outputs": [],
   "source": [
    "submit_df=test_df[['Preferred_Theme']]\n",
    "submit_df.Preferred_Theme=test_df.Preferred_Theme.map({0:'Old_UI',1:'New_UI'})\n",
    "submit_df.to_csv(r'C:\\Users\\Lenovo\\Desktop\\hackathons-hackereath\\Submission\\RF_5.csv')"
   ]
  },
  {
   "cell_type": "markdown",
   "metadata": {},
   "source": [
    "# XG Boosting"
   ]
  },
  {
   "cell_type": "code",
   "execution_count": 334,
   "metadata": {},
   "outputs": [
    {
     "name": "stdout",
     "output_type": "stream",
     "text": [
      "[16:39:04] WARNING: C:/Users/Administrator/workspace/xgboost-win64_release_1.4.0/src/learner.cc:1095: Starting in XGBoost 1.3.0, the default evaluation metric used with the objective 'binary:logistic' was changed from 'error' to 'logloss'. Explicitly set eval_metric if you'd like to restore the old behavior.\n"
     ]
    }
   ],
   "source": [
    "from xgboost import XGBClassifier\n",
    "xg=XGBClassifier(max_depth=10,subsample=0.5,n_estimators=200,learning_rate=0.01)\n",
    "xg.fit(X_train,Y_train)\n",
    "Y_Pred=xg.predict(X_test)"
   ]
  },
  {
   "cell_type": "code",
   "execution_count": 335,
   "metadata": {},
   "outputs": [
    {
     "data": {
      "text/html": [
       "<div>\n",
       "<style scoped>\n",
       "    .dataframe tbody tr th:only-of-type {\n",
       "        vertical-align: middle;\n",
       "    }\n",
       "\n",
       "    .dataframe tbody tr th {\n",
       "        vertical-align: top;\n",
       "    }\n",
       "\n",
       "    .dataframe thead th {\n",
       "        text-align: right;\n",
       "    }\n",
       "</style>\n",
       "<table border=\"1\" class=\"dataframe\">\n",
       "  <thead>\n",
       "    <tr style=\"text-align: right;\">\n",
       "      <th></th>\n",
       "      <th>Age</th>\n",
       "      <th>Gender</th>\n",
       "      <th>City</th>\n",
       "      <th>State</th>\n",
       "      <th>No_of_orders_placed</th>\n",
       "      <th>Sign_up_date</th>\n",
       "      <th>Last_order_placed_date</th>\n",
       "      <th>is_premium_member</th>\n",
       "      <th>Women’s_Clothing</th>\n",
       "      <th>Men’s_Clothing</th>\n",
       "      <th>Kid’s_Clothing</th>\n",
       "      <th>Home_&amp;_Living</th>\n",
       "      <th>Beauty</th>\n",
       "      <th>Electronics</th>\n",
       "      <th>Preferred_Theme</th>\n",
       "    </tr>\n",
       "    <tr>\n",
       "      <th>CustomerID</th>\n",
       "      <th></th>\n",
       "      <th></th>\n",
       "      <th></th>\n",
       "      <th></th>\n",
       "      <th></th>\n",
       "      <th></th>\n",
       "      <th></th>\n",
       "      <th></th>\n",
       "      <th></th>\n",
       "      <th></th>\n",
       "      <th></th>\n",
       "      <th></th>\n",
       "      <th></th>\n",
       "      <th></th>\n",
       "      <th></th>\n",
       "    </tr>\n",
       "  </thead>\n",
       "  <tbody>\n",
       "    <tr>\n",
       "      <th>CusID_09654</th>\n",
       "      <td>20.0</td>\n",
       "      <td>Female</td>\n",
       "      <td>Vancouver</td>\n",
       "      <td>British Columbia</td>\n",
       "      <td>5.0</td>\n",
       "      <td>2019-11-27</td>\n",
       "      <td>2020-03-22</td>\n",
       "      <td>0</td>\n",
       "      <td>4.000000</td>\n",
       "      <td>3.043023</td>\n",
       "      <td>6.231789</td>\n",
       "      <td>8.561328</td>\n",
       "      <td>9.893144</td>\n",
       "      <td>1.197478</td>\n",
       "      <td>1</td>\n",
       "    </tr>\n",
       "    <tr>\n",
       "      <th>CusID_09727</th>\n",
       "      <td>25.0</td>\n",
       "      <td>Not_Specified</td>\n",
       "      <td>Budapest</td>\n",
       "      <td>Central Hungary</td>\n",
       "      <td>11.0</td>\n",
       "      <td>2016-12-01</td>\n",
       "      <td>2021-08-22</td>\n",
       "      <td>1</td>\n",
       "      <td>4.379066</td>\n",
       "      <td>5.819171</td>\n",
       "      <td>6.923614</td>\n",
       "      <td>4.529057</td>\n",
       "      <td>5.105539</td>\n",
       "      <td>4.608664</td>\n",
       "      <td>0</td>\n",
       "    </tr>\n",
       "    <tr>\n",
       "      <th>CusID_07391</th>\n",
       "      <td>31.0</td>\n",
       "      <td>Female</td>\n",
       "      <td>Perth</td>\n",
       "      <td>Western Australia</td>\n",
       "      <td>1.0</td>\n",
       "      <td>2019-10-31</td>\n",
       "      <td>2020-11-28</td>\n",
       "      <td>1</td>\n",
       "      <td>7.946141</td>\n",
       "      <td>4.000000</td>\n",
       "      <td>9.939050</td>\n",
       "      <td>9.744879</td>\n",
       "      <td>8.874676</td>\n",
       "      <td>2.069313</td>\n",
       "      <td>0</td>\n",
       "    </tr>\n",
       "    <tr>\n",
       "      <th>CusID_08577</th>\n",
       "      <td>17.0</td>\n",
       "      <td>Female</td>\n",
       "      <td>Kolkata</td>\n",
       "      <td>West Bengal</td>\n",
       "      <td>7.0</td>\n",
       "      <td>2019-09-05</td>\n",
       "      <td>2021-03-20</td>\n",
       "      <td>0</td>\n",
       "      <td>8.396490</td>\n",
       "      <td>3.636100</td>\n",
       "      <td>4.170301</td>\n",
       "      <td>8.412250</td>\n",
       "      <td>9.389648</td>\n",
       "      <td>3.103196</td>\n",
       "      <td>1</td>\n",
       "    </tr>\n",
       "    <tr>\n",
       "      <th>CusID_08122</th>\n",
       "      <td>39.0</td>\n",
       "      <td>Male</td>\n",
       "      <td>New York City</td>\n",
       "      <td>New York</td>\n",
       "      <td>8.0</td>\n",
       "      <td>2019-07-17</td>\n",
       "      <td>2021-01-19</td>\n",
       "      <td>0</td>\n",
       "      <td>2.443467</td>\n",
       "      <td>9.143171</td>\n",
       "      <td>6.307817</td>\n",
       "      <td>3.224570</td>\n",
       "      <td>1.892078</td>\n",
       "      <td>7.298316</td>\n",
       "      <td>0</td>\n",
       "    </tr>\n",
       "  </tbody>\n",
       "</table>\n",
       "</div>"
      ],
      "text/plain": [
       "              Age         Gender           City              State  \\\n",
       "CustomerID                                                           \n",
       "CusID_09654  20.0         Female      Vancouver   British Columbia   \n",
       "CusID_09727  25.0  Not_Specified       Budapest    Central Hungary   \n",
       "CusID_07391  31.0         Female          Perth  Western Australia   \n",
       "CusID_08577  17.0         Female        Kolkata        West Bengal   \n",
       "CusID_08122  39.0           Male  New York City           New York   \n",
       "\n",
       "             No_of_orders_placed Sign_up_date Last_order_placed_date  \\\n",
       "CustomerID                                                             \n",
       "CusID_09654                  5.0   2019-11-27             2020-03-22   \n",
       "CusID_09727                 11.0   2016-12-01             2021-08-22   \n",
       "CusID_07391                  1.0   2019-10-31             2020-11-28   \n",
       "CusID_08577                  7.0   2019-09-05             2021-03-20   \n",
       "CusID_08122                  8.0   2019-07-17             2021-01-19   \n",
       "\n",
       "             is_premium_member  Women’s_Clothing  Men’s_Clothing  \\\n",
       "CustomerID                                                         \n",
       "CusID_09654                  0          4.000000        3.043023   \n",
       "CusID_09727                  1          4.379066        5.819171   \n",
       "CusID_07391                  1          7.946141        4.000000   \n",
       "CusID_08577                  0          8.396490        3.636100   \n",
       "CusID_08122                  0          2.443467        9.143171   \n",
       "\n",
       "             Kid’s_Clothing  Home_&_Living    Beauty  Electronics  \\\n",
       "CustomerID                                                          \n",
       "CusID_09654        6.231789       8.561328  9.893144     1.197478   \n",
       "CusID_09727        6.923614       4.529057  5.105539     4.608664   \n",
       "CusID_07391        9.939050       9.744879  8.874676     2.069313   \n",
       "CusID_08577        4.170301       8.412250  9.389648     3.103196   \n",
       "CusID_08122        6.307817       3.224570  1.892078     7.298316   \n",
       "\n",
       "             Preferred_Theme  \n",
       "CustomerID                    \n",
       "CusID_09654                1  \n",
       "CusID_09727                0  \n",
       "CusID_07391                0  \n",
       "CusID_08577                1  \n",
       "CusID_08122                0  "
      ]
     },
     "execution_count": 335,
     "metadata": {},
     "output_type": "execute_result"
    }
   ],
   "source": [
    "test_df[\"Preferred_Theme\"]=Y_Pred\n",
    "test_df.head()"
   ]
  },
  {
   "cell_type": "code",
   "execution_count": 336,
   "metadata": {},
   "outputs": [],
   "source": [
    "submit_df=test_df[['Preferred_Theme']]\n",
    "submit_df.Preferred_Theme=test_df.Preferred_Theme.map({0:'Old_UI',1:'New_UI'})\n",
    "submit_df.to_csv(r'C:\\Users\\Lenovo\\Desktop\\hackathons-hackereath\\Submission\\XGB_3.csv')"
   ]
  },
  {
   "cell_type": "code",
   "execution_count": null,
   "metadata": {},
   "outputs": [],
   "source": []
  }
 ],
 "metadata": {
  "kernelspec": {
   "display_name": "Python 3",
   "language": "python",
   "name": "python3"
  },
  "language_info": {
   "codemirror_mode": {
    "name": "ipython",
    "version": 3
   },
   "file_extension": ".py",
   "mimetype": "text/x-python",
   "name": "python",
   "nbconvert_exporter": "python",
   "pygments_lexer": "ipython3",
   "version": "3.7.4"
  }
 },
 "nbformat": 4,
 "nbformat_minor": 2
}
