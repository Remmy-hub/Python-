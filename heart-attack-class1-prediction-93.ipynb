{
 "cells": [
  {
   "cell_type": "code",
   "execution_count": 1,
   "id": "familiar-information",
   "metadata": {
    "_cell_guid": "b1076dfc-b9ad-4769-8c92-a6c4dae69d19",
    "_uuid": "8f2839f25d086af736a60e9eeb907d3b93b6e0e5",
    "execution": {
     "iopub.execute_input": "2021-05-08T15:46:50.233508Z",
     "iopub.status.busy": "2021-05-08T15:46:50.232865Z",
     "iopub.status.idle": "2021-05-08T15:46:50.246485Z",
     "shell.execute_reply": "2021-05-08T15:46:50.245544Z"
    },
    "papermill": {
     "duration": 0.047584,
     "end_time": "2021-05-08T15:46:50.246716",
     "exception": false,
     "start_time": "2021-05-08T15:46:50.199132",
     "status": "completed"
    },
    "tags": []
   },
   "outputs": [
    {
     "name": "stdout",
     "output_type": "stream",
     "text": [
      "/kaggle/input/heart-attack-analysis-prediction-dataset/o2Saturation.csv\n",
      "/kaggle/input/heart-attack-analysis-prediction-dataset/heart.csv\n"
     ]
    }
   ],
   "source": [
    "# This Python 3 environment comes with many helpful analytics libraries installed\n",
    "# It is defined by the kaggle/python Docker image: https://github.com/kaggle/docker-python\n",
    "# For example, here's several helpful packages to load\n",
    "\n",
    "import numpy as np # linear algebra\n",
    "import pandas as pd # data processing, CSV file I/O (e.g. pd.read_csv)\n",
    "\n",
    "# Input data files are available in the read-only \"../input/\" directory\n",
    "# For example, running this (by clicking run or pressing Shift+Enter) will list all files under the input directory\n",
    "\n",
    "import os\n",
    "for dirname, _, filenames in os.walk('/kaggle/input'):\n",
    "    for filename in filenames:\n",
    "        print(os.path.join(dirname, filename))\n",
    "\n",
    "# You can write up to 20GB to the current directory (/kaggle/working/) that gets preserved as output when you create a version using \"Save & Run All\" \n",
    "# You can also write temporary files to /kaggle/temp/, but they won't be saved outside of the current session"
   ]
  },
  {
   "cell_type": "code",
   "execution_count": 2,
   "id": "descending-steel",
   "metadata": {
    "execution": {
     "iopub.execute_input": "2021-05-08T15:46:50.295957Z",
     "iopub.status.busy": "2021-05-08T15:46:50.295344Z",
     "iopub.status.idle": "2021-05-08T15:46:51.159669Z",
     "shell.execute_reply": "2021-05-08T15:46:51.158995Z"
    },
    "papermill": {
     "duration": 0.890465,
     "end_time": "2021-05-08T15:46:51.159816",
     "exception": false,
     "start_time": "2021-05-08T15:46:50.269351",
     "status": "completed"
    },
    "tags": []
   },
   "outputs": [],
   "source": [
    "import pandas as pd\n",
    "import numpy as  np\n",
    "import matplotlib.pyplot as  plt\n",
    "import seaborn as sns\n",
    "pd.set_option('display.max_columns',None)\n",
    "import warnings\n",
    "warnings.simplefilter(action='ignore', category=FutureWarning)\n"
   ]
  },
  {
   "cell_type": "code",
   "execution_count": 3,
   "id": "developed-ferry",
   "metadata": {
    "execution": {
     "iopub.execute_input": "2021-05-08T15:46:51.209597Z",
     "iopub.status.busy": "2021-05-08T15:46:51.208946Z",
     "iopub.status.idle": "2021-05-08T15:46:51.247973Z",
     "shell.execute_reply": "2021-05-08T15:46:51.248476Z"
    },
    "papermill": {
     "duration": 0.06669,
     "end_time": "2021-05-08T15:46:51.248688",
     "exception": false,
     "start_time": "2021-05-08T15:46:51.181998",
     "status": "completed"
    },
    "tags": []
   },
   "outputs": [
    {
     "data": {
      "text/html": [
       "<div>\n",
       "<style scoped>\n",
       "    .dataframe tbody tr th:only-of-type {\n",
       "        vertical-align: middle;\n",
       "    }\n",
       "\n",
       "    .dataframe tbody tr th {\n",
       "        vertical-align: top;\n",
       "    }\n",
       "\n",
       "    .dataframe thead th {\n",
       "        text-align: right;\n",
       "    }\n",
       "</style>\n",
       "<table border=\"1\" class=\"dataframe\">\n",
       "  <thead>\n",
       "    <tr style=\"text-align: right;\">\n",
       "      <th></th>\n",
       "      <th>age</th>\n",
       "      <th>sex</th>\n",
       "      <th>cp</th>\n",
       "      <th>trtbps</th>\n",
       "      <th>chol</th>\n",
       "      <th>fbs</th>\n",
       "      <th>restecg</th>\n",
       "      <th>thalachh</th>\n",
       "      <th>exng</th>\n",
       "      <th>oldpeak</th>\n",
       "      <th>slp</th>\n",
       "      <th>caa</th>\n",
       "      <th>thall</th>\n",
       "      <th>output</th>\n",
       "    </tr>\n",
       "  </thead>\n",
       "  <tbody>\n",
       "    <tr>\n",
       "      <th>0</th>\n",
       "      <td>63</td>\n",
       "      <td>1</td>\n",
       "      <td>3</td>\n",
       "      <td>145</td>\n",
       "      <td>233</td>\n",
       "      <td>1</td>\n",
       "      <td>0</td>\n",
       "      <td>150</td>\n",
       "      <td>0</td>\n",
       "      <td>2.3</td>\n",
       "      <td>0</td>\n",
       "      <td>0</td>\n",
       "      <td>1</td>\n",
       "      <td>1</td>\n",
       "    </tr>\n",
       "    <tr>\n",
       "      <th>1</th>\n",
       "      <td>37</td>\n",
       "      <td>1</td>\n",
       "      <td>2</td>\n",
       "      <td>130</td>\n",
       "      <td>250</td>\n",
       "      <td>0</td>\n",
       "      <td>1</td>\n",
       "      <td>187</td>\n",
       "      <td>0</td>\n",
       "      <td>3.5</td>\n",
       "      <td>0</td>\n",
       "      <td>0</td>\n",
       "      <td>2</td>\n",
       "      <td>1</td>\n",
       "    </tr>\n",
       "    <tr>\n",
       "      <th>2</th>\n",
       "      <td>41</td>\n",
       "      <td>0</td>\n",
       "      <td>1</td>\n",
       "      <td>130</td>\n",
       "      <td>204</td>\n",
       "      <td>0</td>\n",
       "      <td>0</td>\n",
       "      <td>172</td>\n",
       "      <td>0</td>\n",
       "      <td>1.4</td>\n",
       "      <td>2</td>\n",
       "      <td>0</td>\n",
       "      <td>2</td>\n",
       "      <td>1</td>\n",
       "    </tr>\n",
       "    <tr>\n",
       "      <th>3</th>\n",
       "      <td>56</td>\n",
       "      <td>1</td>\n",
       "      <td>1</td>\n",
       "      <td>120</td>\n",
       "      <td>236</td>\n",
       "      <td>0</td>\n",
       "      <td>1</td>\n",
       "      <td>178</td>\n",
       "      <td>0</td>\n",
       "      <td>0.8</td>\n",
       "      <td>2</td>\n",
       "      <td>0</td>\n",
       "      <td>2</td>\n",
       "      <td>1</td>\n",
       "    </tr>\n",
       "    <tr>\n",
       "      <th>4</th>\n",
       "      <td>57</td>\n",
       "      <td>0</td>\n",
       "      <td>0</td>\n",
       "      <td>120</td>\n",
       "      <td>354</td>\n",
       "      <td>0</td>\n",
       "      <td>1</td>\n",
       "      <td>163</td>\n",
       "      <td>1</td>\n",
       "      <td>0.6</td>\n",
       "      <td>2</td>\n",
       "      <td>0</td>\n",
       "      <td>2</td>\n",
       "      <td>1</td>\n",
       "    </tr>\n",
       "  </tbody>\n",
       "</table>\n",
       "</div>"
      ],
      "text/plain": [
       "   age  sex  cp  trtbps  chol  fbs  restecg  thalachh  exng  oldpeak  slp  \\\n",
       "0   63    1   3     145   233    1        0       150     0      2.3    0   \n",
       "1   37    1   2     130   250    0        1       187     0      3.5    0   \n",
       "2   41    0   1     130   204    0        0       172     0      1.4    2   \n",
       "3   56    1   1     120   236    0        1       178     0      0.8    2   \n",
       "4   57    0   0     120   354    0        1       163     1      0.6    2   \n",
       "\n",
       "   caa  thall  output  \n",
       "0    0      1       1  \n",
       "1    0      2       1  \n",
       "2    0      2       1  \n",
       "3    0      2       1  \n",
       "4    0      2       1  "
      ]
     },
     "execution_count": 3,
     "metadata": {},
     "output_type": "execute_result"
    }
   ],
   "source": [
    "df= pd.read_csv(r'/kaggle/input/heart-attack-analysis-prediction-dataset/heart.csv',header=0)\n",
    "df.head()"
   ]
  },
  {
   "cell_type": "code",
   "execution_count": 4,
   "id": "mobile-thickness",
   "metadata": {
    "execution": {
     "iopub.execute_input": "2021-05-08T15:46:51.301618Z",
     "iopub.status.busy": "2021-05-08T15:46:51.300785Z",
     "iopub.status.idle": "2021-05-08T15:46:51.317335Z",
     "shell.execute_reply": "2021-05-08T15:46:51.317834Z"
    },
    "papermill": {
     "duration": 0.046697,
     "end_time": "2021-05-08T15:46:51.318003",
     "exception": false,
     "start_time": "2021-05-08T15:46:51.271306",
     "status": "completed"
    },
    "tags": []
   },
   "outputs": [
    {
     "name": "stdout",
     "output_type": "stream",
     "text": [
      "(303, 14)\n",
      "age           int64\n",
      "sex           int64\n",
      "cp            int64\n",
      "trtbps        int64\n",
      "chol          int64\n",
      "fbs           int64\n",
      "restecg       int64\n",
      "thalachh      int64\n",
      "exng          int64\n",
      "oldpeak     float64\n",
      "slp           int64\n",
      "caa           int64\n",
      "thall         int64\n",
      "output        int64\n",
      "dtype: object\n",
      "<class 'pandas.core.frame.DataFrame'>\n",
      "RangeIndex: 303 entries, 0 to 302\n",
      "Data columns (total 14 columns):\n",
      " #   Column    Non-Null Count  Dtype  \n",
      "---  ------    --------------  -----  \n",
      " 0   age       303 non-null    int64  \n",
      " 1   sex       303 non-null    int64  \n",
      " 2   cp        303 non-null    int64  \n",
      " 3   trtbps    303 non-null    int64  \n",
      " 4   chol      303 non-null    int64  \n",
      " 5   fbs       303 non-null    int64  \n",
      " 6   restecg   303 non-null    int64  \n",
      " 7   thalachh  303 non-null    int64  \n",
      " 8   exng      303 non-null    int64  \n",
      " 9   oldpeak   303 non-null    float64\n",
      " 10  slp       303 non-null    int64  \n",
      " 11  caa       303 non-null    int64  \n",
      " 12  thall     303 non-null    int64  \n",
      " 13  output    303 non-null    int64  \n",
      "dtypes: float64(1), int64(13)\n",
      "memory usage: 33.3 KB\n",
      "None\n"
     ]
    }
   ],
   "source": [
    "# understanding the data \n",
    "print(df.shape)\n",
    "print(df.dtypes)\n",
    "\n",
    "print(df.info())\n"
   ]
  },
  {
   "cell_type": "code",
   "execution_count": 5,
   "id": "imported-tanzania",
   "metadata": {
    "execution": {
     "iopub.execute_input": "2021-05-08T15:46:51.369458Z",
     "iopub.status.busy": "2021-05-08T15:46:51.368796Z",
     "iopub.status.idle": "2021-05-08T15:46:51.372919Z",
     "shell.execute_reply": "2021-05-08T15:46:51.372455Z"
    },
    "papermill": {
     "duration": 0.031573,
     "end_time": "2021-05-08T15:46:51.373060",
     "exception": false,
     "start_time": "2021-05-08T15:46:51.341487",
     "status": "completed"
    },
    "tags": []
   },
   "outputs": [
    {
     "data": {
      "text/plain": [
       "Index(['age', 'sex', 'cp', 'trtbps', 'chol', 'fbs', 'restecg', 'thalachh',\n",
       "       'exng', 'oldpeak', 'slp', 'caa', 'thall', 'output'],\n",
       "      dtype='object')"
      ]
     },
     "execution_count": 5,
     "metadata": {},
     "output_type": "execute_result"
    }
   ],
   "source": [
    "df.columns"
   ]
  },
  {
   "cell_type": "code",
   "execution_count": 6,
   "id": "elementary-gazette",
   "metadata": {
    "execution": {
     "iopub.execute_input": "2021-05-08T15:46:51.432235Z",
     "iopub.status.busy": "2021-05-08T15:46:51.431651Z",
     "iopub.status.idle": "2021-05-08T15:46:51.479795Z",
     "shell.execute_reply": "2021-05-08T15:46:51.479317Z"
    },
    "papermill": {
     "duration": 0.082252,
     "end_time": "2021-05-08T15:46:51.479941",
     "exception": false,
     "start_time": "2021-05-08T15:46:51.397689",
     "status": "completed"
    },
    "tags": []
   },
   "outputs": [
    {
     "data": {
      "text/html": [
       "<div>\n",
       "<style scoped>\n",
       "    .dataframe tbody tr th:only-of-type {\n",
       "        vertical-align: middle;\n",
       "    }\n",
       "\n",
       "    .dataframe tbody tr th {\n",
       "        vertical-align: top;\n",
       "    }\n",
       "\n",
       "    .dataframe thead th {\n",
       "        text-align: right;\n",
       "    }\n",
       "</style>\n",
       "<table border=\"1\" class=\"dataframe\">\n",
       "  <thead>\n",
       "    <tr style=\"text-align: right;\">\n",
       "      <th></th>\n",
       "      <th>age</th>\n",
       "      <th>sex</th>\n",
       "      <th>cp</th>\n",
       "      <th>trtbps</th>\n",
       "      <th>chol</th>\n",
       "      <th>fbs</th>\n",
       "      <th>restecg</th>\n",
       "      <th>thalachh</th>\n",
       "      <th>exng</th>\n",
       "      <th>oldpeak</th>\n",
       "      <th>slp</th>\n",
       "      <th>caa</th>\n",
       "      <th>thall</th>\n",
       "      <th>output</th>\n",
       "    </tr>\n",
       "  </thead>\n",
       "  <tbody>\n",
       "    <tr>\n",
       "      <th>count</th>\n",
       "      <td>303.000000</td>\n",
       "      <td>303.000000</td>\n",
       "      <td>303.000000</td>\n",
       "      <td>303.000000</td>\n",
       "      <td>303.000000</td>\n",
       "      <td>303.000000</td>\n",
       "      <td>303.000000</td>\n",
       "      <td>303.000000</td>\n",
       "      <td>303.000000</td>\n",
       "      <td>303.000000</td>\n",
       "      <td>303.000000</td>\n",
       "      <td>303.000000</td>\n",
       "      <td>303.000000</td>\n",
       "      <td>303.000000</td>\n",
       "    </tr>\n",
       "    <tr>\n",
       "      <th>mean</th>\n",
       "      <td>54.366337</td>\n",
       "      <td>0.683168</td>\n",
       "      <td>0.966997</td>\n",
       "      <td>131.623762</td>\n",
       "      <td>246.264026</td>\n",
       "      <td>0.148515</td>\n",
       "      <td>0.528053</td>\n",
       "      <td>149.646865</td>\n",
       "      <td>0.326733</td>\n",
       "      <td>1.039604</td>\n",
       "      <td>1.399340</td>\n",
       "      <td>0.729373</td>\n",
       "      <td>2.313531</td>\n",
       "      <td>0.544554</td>\n",
       "    </tr>\n",
       "    <tr>\n",
       "      <th>std</th>\n",
       "      <td>9.082101</td>\n",
       "      <td>0.466011</td>\n",
       "      <td>1.032052</td>\n",
       "      <td>17.538143</td>\n",
       "      <td>51.830751</td>\n",
       "      <td>0.356198</td>\n",
       "      <td>0.525860</td>\n",
       "      <td>22.905161</td>\n",
       "      <td>0.469794</td>\n",
       "      <td>1.161075</td>\n",
       "      <td>0.616226</td>\n",
       "      <td>1.022606</td>\n",
       "      <td>0.612277</td>\n",
       "      <td>0.498835</td>\n",
       "    </tr>\n",
       "    <tr>\n",
       "      <th>min</th>\n",
       "      <td>29.000000</td>\n",
       "      <td>0.000000</td>\n",
       "      <td>0.000000</td>\n",
       "      <td>94.000000</td>\n",
       "      <td>126.000000</td>\n",
       "      <td>0.000000</td>\n",
       "      <td>0.000000</td>\n",
       "      <td>71.000000</td>\n",
       "      <td>0.000000</td>\n",
       "      <td>0.000000</td>\n",
       "      <td>0.000000</td>\n",
       "      <td>0.000000</td>\n",
       "      <td>0.000000</td>\n",
       "      <td>0.000000</td>\n",
       "    </tr>\n",
       "    <tr>\n",
       "      <th>25%</th>\n",
       "      <td>47.500000</td>\n",
       "      <td>0.000000</td>\n",
       "      <td>0.000000</td>\n",
       "      <td>120.000000</td>\n",
       "      <td>211.000000</td>\n",
       "      <td>0.000000</td>\n",
       "      <td>0.000000</td>\n",
       "      <td>133.500000</td>\n",
       "      <td>0.000000</td>\n",
       "      <td>0.000000</td>\n",
       "      <td>1.000000</td>\n",
       "      <td>0.000000</td>\n",
       "      <td>2.000000</td>\n",
       "      <td>0.000000</td>\n",
       "    </tr>\n",
       "    <tr>\n",
       "      <th>50%</th>\n",
       "      <td>55.000000</td>\n",
       "      <td>1.000000</td>\n",
       "      <td>1.000000</td>\n",
       "      <td>130.000000</td>\n",
       "      <td>240.000000</td>\n",
       "      <td>0.000000</td>\n",
       "      <td>1.000000</td>\n",
       "      <td>153.000000</td>\n",
       "      <td>0.000000</td>\n",
       "      <td>0.800000</td>\n",
       "      <td>1.000000</td>\n",
       "      <td>0.000000</td>\n",
       "      <td>2.000000</td>\n",
       "      <td>1.000000</td>\n",
       "    </tr>\n",
       "    <tr>\n",
       "      <th>75%</th>\n",
       "      <td>61.000000</td>\n",
       "      <td>1.000000</td>\n",
       "      <td>2.000000</td>\n",
       "      <td>140.000000</td>\n",
       "      <td>274.500000</td>\n",
       "      <td>0.000000</td>\n",
       "      <td>1.000000</td>\n",
       "      <td>166.000000</td>\n",
       "      <td>1.000000</td>\n",
       "      <td>1.600000</td>\n",
       "      <td>2.000000</td>\n",
       "      <td>1.000000</td>\n",
       "      <td>3.000000</td>\n",
       "      <td>1.000000</td>\n",
       "    </tr>\n",
       "    <tr>\n",
       "      <th>max</th>\n",
       "      <td>77.000000</td>\n",
       "      <td>1.000000</td>\n",
       "      <td>3.000000</td>\n",
       "      <td>200.000000</td>\n",
       "      <td>564.000000</td>\n",
       "      <td>1.000000</td>\n",
       "      <td>2.000000</td>\n",
       "      <td>202.000000</td>\n",
       "      <td>1.000000</td>\n",
       "      <td>6.200000</td>\n",
       "      <td>2.000000</td>\n",
       "      <td>4.000000</td>\n",
       "      <td>3.000000</td>\n",
       "      <td>1.000000</td>\n",
       "    </tr>\n",
       "  </tbody>\n",
       "</table>\n",
       "</div>"
      ],
      "text/plain": [
       "              age         sex          cp      trtbps        chol         fbs  \\\n",
       "count  303.000000  303.000000  303.000000  303.000000  303.000000  303.000000   \n",
       "mean    54.366337    0.683168    0.966997  131.623762  246.264026    0.148515   \n",
       "std      9.082101    0.466011    1.032052   17.538143   51.830751    0.356198   \n",
       "min     29.000000    0.000000    0.000000   94.000000  126.000000    0.000000   \n",
       "25%     47.500000    0.000000    0.000000  120.000000  211.000000    0.000000   \n",
       "50%     55.000000    1.000000    1.000000  130.000000  240.000000    0.000000   \n",
       "75%     61.000000    1.000000    2.000000  140.000000  274.500000    0.000000   \n",
       "max     77.000000    1.000000    3.000000  200.000000  564.000000    1.000000   \n",
       "\n",
       "          restecg    thalachh        exng     oldpeak         slp         caa  \\\n",
       "count  303.000000  303.000000  303.000000  303.000000  303.000000  303.000000   \n",
       "mean     0.528053  149.646865    0.326733    1.039604    1.399340    0.729373   \n",
       "std      0.525860   22.905161    0.469794    1.161075    0.616226    1.022606   \n",
       "min      0.000000   71.000000    0.000000    0.000000    0.000000    0.000000   \n",
       "25%      0.000000  133.500000    0.000000    0.000000    1.000000    0.000000   \n",
       "50%      1.000000  153.000000    0.000000    0.800000    1.000000    0.000000   \n",
       "75%      1.000000  166.000000    1.000000    1.600000    2.000000    1.000000   \n",
       "max      2.000000  202.000000    1.000000    6.200000    2.000000    4.000000   \n",
       "\n",
       "            thall      output  \n",
       "count  303.000000  303.000000  \n",
       "mean     2.313531    0.544554  \n",
       "std      0.612277    0.498835  \n",
       "min      0.000000    0.000000  \n",
       "25%      2.000000    0.000000  \n",
       "50%      2.000000    1.000000  \n",
       "75%      3.000000    1.000000  \n",
       "max      3.000000    1.000000  "
      ]
     },
     "execution_count": 6,
     "metadata": {},
     "output_type": "execute_result"
    }
   ],
   "source": [
    "df.describe()"
   ]
  },
  {
   "cell_type": "code",
   "execution_count": 7,
   "id": "supposed-community",
   "metadata": {
    "execution": {
     "iopub.execute_input": "2021-05-08T15:46:51.537419Z",
     "iopub.status.busy": "2021-05-08T15:46:51.536736Z",
     "iopub.status.idle": "2021-05-08T15:46:52.471982Z",
     "shell.execute_reply": "2021-05-08T15:46:52.471018Z"
    },
    "papermill": {
     "duration": 0.967768,
     "end_time": "2021-05-08T15:46:52.472198",
     "exception": false,
     "start_time": "2021-05-08T15:46:51.504430",
     "status": "completed"
    },
    "tags": []
   },
   "outputs": [
    {
     "name": "stdout",
     "output_type": "stream",
     "text": [
      "1    207\n",
      "0     96\n",
      "Name: sex, dtype: int64\n"
     ]
    },
    {
     "data": {
      "image/png": "[encoded data removed]",
      "text/plain": [
       "<Figure size 432x288 with 1 Axes>"
      ]
     },
     "metadata": {
      "needs_background": "light"
     },
     "output_type": "display_data"
    },
    {
     "name": "stdout",
     "output_type": "stream",
     "text": [
      "0    143\n",
      "2     87\n",
      "1     50\n",
      "3     23\n",
      "Name: cp, dtype: int64\n"
     ]
    },
    {
     "data": {
      "image/png": "[encoded data removed]",
      "text/plain": [
       "<Figure size 432x288 with 1 Axes>"
      ]
     },
     "metadata": {
      "needs_background": "light"
     },
     "output_type": "display_data"
    },
    {
     "name": "stdout",
     "output_type": "stream",
     "text": [
      "0    258\n",
      "1     45\n",
      "Name: fbs, dtype: int64\n"
     ]
    },
    {
     "data": {
      "image/png": "[encoded data removed]",
      "text/plain": [
       "<Figure size 432x288 with 1 Axes>"
      ]
     },
     "metadata": {
      "needs_background": "light"
     },
     "output_type": "display_data"
    },
    {
     "name": "stdout",
     "output_type": "stream",
     "text": [
      "1    152\n",
      "0    147\n",
      "2      4\n",
      "Name: restecg, dtype: int64\n"
     ]
    },
    {
     "data": {
      "image/png": "[encoded data removed]",
      "text/plain": [
       "<Figure size 432x288 with 1 Axes>"
      ]
     },
     "metadata": {
      "needs_background": "light"
     },
     "output_type": "display_data"
    },
    {
     "name": "stdout",
     "output_type": "stream",
     "text": [
      "0    204\n",
      "1     99\n",
      "Name: exng, dtype: int64\n"
     ]
    },
    {
     "data": {
      "image/png": "[encoded data removed]",
      "text/plain": [
       "<Figure size 432x288 with 1 Axes>"
      ]
     },
     "metadata": {
      "needs_background": "light"
     },
     "output_type": "display_data"
    },
    {
     "name": "stdout",
     "output_type": "stream",
     "text": [
      "2    142\n",
      "1    140\n",
      "0     21\n",
      "Name: slp, dtype: int64\n"
     ]
    },
    {
     "data": {
      "image/png": "[encoded data removed]",
      "text/plain": [
       "<Figure size 432x288 with 1 Axes>"
      ]
     },
     "metadata": {
      "needs_background": "light"
     },
     "output_type": "display_data"
    },
    {
     "name": "stdout",
     "output_type": "stream",
     "text": [
      "0    175\n",
      "1     65\n",
      "2     38\n",
      "3     20\n",
      "4      5\n",
      "Name: caa, dtype: int64\n"
     ]
    },
    {
     "data": {
      "image/png": "[encoded data removed]",
      "text/plain": [
       "<Figure size 432x288 with 1 Axes>"
      ]
     },
     "metadata": {
      "needs_background": "light"
     },
     "output_type": "display_data"
    },
    {
     "name": "stdout",
     "output_type": "stream",
     "text": [
      "2    166\n",
      "3    117\n",
      "1     18\n",
      "0      2\n",
      "Name: thall, dtype: int64\n"
     ]
    },
    {
     "data": {
      "image/png": "[encoded data removed]",
      "text/plain": [
       "<Figure size 432x288 with 1 Axes>"
      ]
     },
     "metadata": {
      "needs_background": "light"
     },
     "output_type": "display_data"
    }
   ],
   "source": [
    "#Understanding the categorical variables\n",
    "a=['sex','cp','fbs','restecg','exng','slp','caa','thall']\n",
    "for i in a:\n",
    "    print(df[i].value_counts())\n",
    "    sns.countplot(df[i])\n",
    "    plt.title([i])\n",
    "    plt.show()\n"
   ]
  },
  {
   "cell_type": "markdown",
   "id": "palestinian-wedding",
   "metadata": {
    "papermill": {
     "duration": 0.044316,
     "end_time": "2021-05-08T15:46:52.559094",
     "exception": false,
     "start_time": "2021-05-08T15:46:52.514778",
     "status": "completed"
    },
    "tags": []
   },
   "source": [
    "# Handling Missing  Values"
   ]
  },
  {
   "cell_type": "code",
   "execution_count": 8,
   "id": "surgical-bankruptcy",
   "metadata": {
    "execution": {
     "iopub.execute_input": "2021-05-08T15:46:52.631763Z",
     "iopub.status.busy": "2021-05-08T15:46:52.631045Z",
     "iopub.status.idle": "2021-05-08T15:46:52.634715Z",
     "shell.execute_reply": "2021-05-08T15:46:52.634142Z"
    },
    "papermill": {
     "duration": 0.040002,
     "end_time": "2021-05-08T15:46:52.634852",
     "exception": false,
     "start_time": "2021-05-08T15:46:52.594850",
     "status": "completed"
    },
    "tags": []
   },
   "outputs": [
    {
     "name": "stdout",
     "output_type": "stream",
     "text": [
      "0    2.0\n",
      "dtype: float64\n"
     ]
    }
   ],
   "source": [
    "# as per the data set  description the variable 'Thal  has to have  only  3  values 1,2 & 3 .  the  value  0  is  given  are  null- values.\n",
    "df.thall=df.thall.replace(0,np.nan)\n",
    "\n",
    "print(df.thall.mode())"
   ]
  },
  {
   "cell_type": "code",
   "execution_count": 9,
   "id": "skilled-transmission",
   "metadata": {
    "execution": {
     "iopub.execute_input": "2021-05-08T15:46:52.702459Z",
     "iopub.status.busy": "2021-05-08T15:46:52.701682Z",
     "iopub.status.idle": "2021-05-08T15:46:52.705088Z",
     "shell.execute_reply": "2021-05-08T15:46:52.704612Z"
    },
    "papermill": {
     "duration": 0.039756,
     "end_time": "2021-05-08T15:46:52.705218",
     "exception": false,
     "start_time": "2021-05-08T15:46:52.665462",
     "status": "completed"
    },
    "tags": []
   },
   "outputs": [
    {
     "name": "stdout",
     "output_type": "stream",
     "text": [
      "2.0    168\n",
      "3.0    117\n",
      "1.0     18\n",
      "Name: thall, dtype: int64\n"
     ]
    }
   ],
   "source": [
    "df.thall.fillna(df.thall.mode()[0],inplace=True)\n",
    "print(df.thall.value_counts())\n"
   ]
  },
  {
   "cell_type": "code",
   "execution_count": 10,
   "id": "metric-naples",
   "metadata": {
    "execution": {
     "iopub.execute_input": "2021-05-08T15:46:52.773487Z",
     "iopub.status.busy": "2021-05-08T15:46:52.772568Z",
     "iopub.status.idle": "2021-05-08T15:46:52.777327Z",
     "shell.execute_reply": "2021-05-08T15:46:52.776818Z"
    },
    "papermill": {
     "duration": 0.041871,
     "end_time": "2021-05-08T15:46:52.777465",
     "exception": false,
     "start_time": "2021-05-08T15:46:52.735594",
     "status": "completed"
    },
    "tags": []
   },
   "outputs": [
    {
     "data": {
      "text/plain": [
       "age         0\n",
       "sex         0\n",
       "cp          0\n",
       "trtbps      0\n",
       "chol        0\n",
       "fbs         0\n",
       "restecg     0\n",
       "thalachh    0\n",
       "exng        0\n",
       "oldpeak     0\n",
       "slp         0\n",
       "caa         0\n",
       "thall       0\n",
       "output      0\n",
       "dtype: int64"
      ]
     },
     "execution_count": 10,
     "metadata": {},
     "output_type": "execute_result"
    }
   ],
   "source": [
    "# checking for  other  mising values \n",
    "df.isnull().sum().sort_values(ascending=False)"
   ]
  },
  {
   "cell_type": "code",
   "execution_count": 11,
   "id": "governmental-camcorder",
   "metadata": {
    "execution": {
     "iopub.execute_input": "2021-05-08T15:46:52.968804Z",
     "iopub.status.busy": "2021-05-08T15:46:52.957077Z",
     "iopub.status.idle": "2021-05-08T15:46:53.277319Z",
     "shell.execute_reply": "2021-05-08T15:46:53.276759Z"
    },
    "papermill": {
     "duration": 0.469388,
     "end_time": "2021-05-08T15:46:53.277466",
     "exception": false,
     "start_time": "2021-05-08T15:46:52.808078",
     "status": "completed"
    },
    "tags": []
   },
   "outputs": [
    {
     "name": "stdout",
     "output_type": "stream",
     "text": [
      "               age    trtbps      chol  thalachh   oldpeak\n",
      "age       1.000000  0.279351  0.213678 -0.398522  0.210013\n",
      "trtbps    0.279351  1.000000  0.123174 -0.046698  0.193216\n",
      "chol      0.213678  0.123174  1.000000 -0.009940  0.053952\n",
      "thalachh -0.398522 -0.046698 -0.009940  1.000000 -0.344187\n",
      "oldpeak   0.210013  0.193216  0.053952 -0.344187  1.000000\n"
     ]
    },
    {
     "data": {
      "image/png": "[encoded data removed]",
      "text/plain": [
       "<Figure size 432x288 with 2 Axes>"
      ]
     },
     "metadata": {
      "needs_background": "light"
     },
     "output_type": "display_data"
    }
   ],
   "source": [
    "# Checking for correlation between variables \n",
    "X=df[[\"age\",\"trtbps\",\"chol\",\"thalachh\",\"oldpeak\"]] \n",
    "corr_df=X.corr(method=\"pearson\")\n",
    "print(corr_df)\n",
    "\n",
    "sns.heatmap(corr_df,vmax=1.0,vmin=-1.0,annot=True)\n",
    "plt.savefig(\"heatmap.jpg\")"
   ]
  },
  {
   "cell_type": "code",
   "execution_count": 12,
   "id": "elegant-wallet",
   "metadata": {
    "execution": {
     "iopub.execute_input": "2021-05-08T15:46:53.345191Z",
     "iopub.status.busy": "2021-05-08T15:46:53.344563Z",
     "iopub.status.idle": "2021-05-08T15:46:53.602670Z",
     "shell.execute_reply": "2021-05-08T15:46:53.602022Z"
    },
    "papermill": {
     "duration": 0.29233,
     "end_time": "2021-05-08T15:46:53.602813",
     "exception": false,
     "start_time": "2021-05-08T15:46:53.310483",
     "status": "completed"
    },
    "tags": []
   },
   "outputs": [
    {
     "data": {
      "image/png": "[encoded data removed]",
      "text/plain": [
       "<Figure size 432x288 with 1 Axes>"
      ]
     },
     "metadata": {
      "needs_background": "light"
     },
     "output_type": "display_data"
    }
   ],
   "source": [
    "# Relationship between Sex, age and  output \n",
    "sns.barplot(x='sex',y='age',data=df,hue='output',palette='rocket')\n",
    "plt.show()"
   ]
  },
  {
   "cell_type": "code",
   "execution_count": 13,
   "id": "wrong-praise",
   "metadata": {
    "execution": {
     "iopub.execute_input": "2021-05-08T15:46:53.676761Z",
     "iopub.status.busy": "2021-05-08T15:46:53.675762Z",
     "iopub.status.idle": "2021-05-08T15:46:54.062036Z",
     "shell.execute_reply": "2021-05-08T15:46:54.062657Z"
    },
    "papermill": {
     "duration": 0.426309,
     "end_time": "2021-05-08T15:46:54.062833",
     "exception": false,
     "start_time": "2021-05-08T15:46:53.636524",
     "status": "completed"
    },
    "tags": []
   },
   "outputs": [
    {
     "data": {
      "image/png": "[encoded data removed]",
      "text/plain": [
       "<Figure size 432x288 with 1 Axes>"
      ]
     },
     "metadata": {
      "needs_background": "light"
     },
     "output_type": "display_data"
    }
   ],
   "source": [
    "# Different chestpains  and coletrol and  output\n",
    "sns.barplot(x='cp',y='chol',data=df,hue='output')\n",
    "plt.show()"
   ]
  },
  {
   "cell_type": "code",
   "execution_count": 14,
   "id": "collaborative-lunch",
   "metadata": {
    "execution": {
     "iopub.execute_input": "2021-05-08T15:46:54.152017Z",
     "iopub.status.busy": "2021-05-08T15:46:54.151087Z",
     "iopub.status.idle": "2021-05-08T15:46:54.269014Z",
     "shell.execute_reply": "2021-05-08T15:46:54.268505Z"
    },
    "papermill": {
     "duration": 0.165677,
     "end_time": "2021-05-08T15:46:54.269160",
     "exception": false,
     "start_time": "2021-05-08T15:46:54.103483",
     "status": "completed"
    },
    "tags": []
   },
   "outputs": [
    {
     "data": {
      "image/png": "[encoded data removed]",
      "text/plain": [
       "<Figure size 432x288 with 1 Axes>"
      ]
     },
     "metadata": {
      "needs_background": "light"
     },
     "output_type": "display_data"
    }
   ],
   "source": [
    "# check biasness in data \n",
    "sns.countplot(df.output)\n",
    "plt.show()"
   ]
  },
  {
   "cell_type": "markdown",
   "id": "looking-strap",
   "metadata": {
    "papermill": {
     "duration": 0.034946,
     "end_time": "2021-05-08T15:46:54.338851",
     "exception": false,
     "start_time": "2021-05-08T15:46:54.303905",
     "status": "completed"
    },
    "tags": []
   },
   "source": [
    "#Insight- Data is  not biased "
   ]
  },
  {
   "cell_type": "code",
   "execution_count": 15,
   "id": "japanese-latvia",
   "metadata": {
    "execution": {
     "iopub.execute_input": "2021-05-08T15:46:54.440172Z",
     "iopub.status.busy": "2021-05-08T15:46:54.437635Z",
     "iopub.status.idle": "2021-05-08T15:46:55.658382Z",
     "shell.execute_reply": "2021-05-08T15:46:55.658868Z"
    },
    "papermill": {
     "duration": 1.284713,
     "end_time": "2021-05-08T15:46:55.659038",
     "exception": false,
     "start_time": "2021-05-08T15:46:54.374325",
     "status": "completed"
    },
    "tags": []
   },
   "outputs": [
    {
     "data": {
      "image/png": "[encoded data removed]",
      "text/plain": [
       "<Figure size 942.375x180 with 6 Axes>"
      ]
     },
     "metadata": {
      "needs_background": "light"
     },
     "output_type": "display_data"
    }
   ],
   "source": [
    "\n",
    "sns.pairplot(x_vars=[\"age\",\"trtbps\",\"chol\",\"thalachh\",\"oldpeak\"],y_vars='age',data=df,hue='output')\n",
    "plt.show()\n"
   ]
  },
  {
   "cell_type": "markdown",
   "id": "corporate-jaguar",
   "metadata": {
    "papermill": {
     "duration": 0.03844,
     "end_time": "2021-05-08T15:46:55.734332",
     "exception": false,
     "start_time": "2021-05-08T15:46:55.695892",
     "status": "completed"
    },
    "tags": []
   },
   "source": [
    "# Splitting the Variables"
   ]
  },
  {
   "cell_type": "code",
   "execution_count": 16,
   "id": "automotive-treat",
   "metadata": {
    "execution": {
     "iopub.execute_input": "2021-05-08T15:46:55.816754Z",
     "iopub.status.busy": "2021-05-08T15:46:55.816105Z",
     "iopub.status.idle": "2021-05-08T15:46:55.820527Z",
     "shell.execute_reply": "2021-05-08T15:46:55.820976Z"
    },
    "papermill": {
     "duration": 0.049306,
     "end_time": "2021-05-08T15:46:55.821161",
     "exception": false,
     "start_time": "2021-05-08T15:46:55.771855",
     "status": "completed"
    },
    "tags": []
   },
   "outputs": [],
   "source": [
    "X=df.values[:,0:-1]\n",
    "Y=df.values[:,-1]\n",
    "Y=Y.astype(int)"
   ]
  },
  {
   "cell_type": "code",
   "execution_count": 17,
   "id": "technical-amateur",
   "metadata": {
    "execution": {
     "iopub.execute_input": "2021-05-08T15:46:55.899338Z",
     "iopub.status.busy": "2021-05-08T15:46:55.898759Z",
     "iopub.status.idle": "2021-05-08T15:46:55.904059Z",
     "shell.execute_reply": "2021-05-08T15:46:55.904537Z"
    },
    "papermill": {
     "duration": 0.046864,
     "end_time": "2021-05-08T15:46:55.904714",
     "exception": false,
     "start_time": "2021-05-08T15:46:55.857850",
     "status": "completed"
    },
    "tags": []
   },
   "outputs": [
    {
     "name": "stdout",
     "output_type": "stream",
     "text": [
      "(303, 13)\n",
      "(303,)\n"
     ]
    }
   ],
   "source": [
    "print(X.shape)\n",
    "print(Y.shape)"
   ]
  },
  {
   "cell_type": "markdown",
   "id": "tough-discovery",
   "metadata": {
    "papermill": {
     "duration": 0.036979,
     "end_time": "2021-05-08T15:46:55.979043",
     "exception": false,
     "start_time": "2021-05-08T15:46:55.942064",
     "status": "completed"
    },
    "tags": []
   },
   "source": [
    "# Preprocessing steps"
   ]
  },
  {
   "cell_type": "code",
   "execution_count": 18,
   "id": "legislative-daniel",
   "metadata": {
    "execution": {
     "iopub.execute_input": "2021-05-08T15:46:56.060937Z",
     "iopub.status.busy": "2021-05-08T15:46:56.060287Z",
     "iopub.status.idle": "2021-05-08T15:46:56.219428Z",
     "shell.execute_reply": "2021-05-08T15:46:56.218774Z"
    },
    "papermill": {
     "duration": 0.199615,
     "end_time": "2021-05-08T15:46:56.219571",
     "exception": false,
     "start_time": "2021-05-08T15:46:56.019956",
     "status": "completed"
    },
    "tags": []
   },
   "outputs": [
    {
     "name": "stdout",
     "output_type": "stream",
     "text": [
      "[[ 0.9521966   0.68100522  1.97312292 ... -2.27457861 -0.71442887\n",
      "  -2.27938629]\n",
      " [-1.91531289  0.68100522  1.00257707 ... -2.27457861 -0.71442887\n",
      "  -0.5613414 ]\n",
      " [-1.47415758 -1.46841752  0.03203122 ...  0.97635214 -0.71442887\n",
      "  -0.5613414 ]\n",
      " ...\n",
      " [ 1.50364073  0.68100522 -0.93851463 ... -0.64911323  1.24459328\n",
      "   1.15670349]\n",
      " [ 0.29046364  0.68100522 -0.93851463 ... -0.64911323  0.26508221\n",
      "   1.15670349]\n",
      " [ 0.29046364 -1.46841752  0.03203122 ... -0.64911323  0.26508221\n",
      "  -0.5613414 ]]\n"
     ]
    }
   ],
   "source": [
    "# Scaling the data\n",
    "from sklearn.preprocessing  import StandardScaler\n",
    "scaler=StandardScaler()\n",
    "scaler.fit(X)\n",
    "X=scaler.transform(X)\n",
    "print(X)"
   ]
  },
  {
   "cell_type": "markdown",
   "id": "reduced-height",
   "metadata": {
    "papermill": {
     "duration": 0.037132,
     "end_time": "2021-05-08T15:46:56.295648",
     "exception": false,
     "start_time": "2021-05-08T15:46:56.258516",
     "status": "completed"
    },
    "tags": []
   },
   "source": [
    "# Splitting the data"
   ]
  },
  {
   "cell_type": "code",
   "execution_count": 19,
   "id": "expected-coating",
   "metadata": {
    "execution": {
     "iopub.execute_input": "2021-05-08T15:46:56.376482Z",
     "iopub.status.busy": "2021-05-08T15:46:56.375781Z",
     "iopub.status.idle": "2021-05-08T15:46:56.444795Z",
     "shell.execute_reply": "2021-05-08T15:46:56.444196Z"
    },
    "papermill": {
     "duration": 0.111379,
     "end_time": "2021-05-08T15:46:56.444945",
     "exception": false,
     "start_time": "2021-05-08T15:46:56.333566",
     "status": "completed"
    },
    "tags": []
   },
   "outputs": [],
   "source": [
    "from sklearn.model_selection import train_test_split\n",
    "\n",
    "X_train,X_test,Y_train,Y_test=train_test_split(X,Y,test_size=0.3,random_state=10)"
   ]
  },
  {
   "cell_type": "markdown",
   "id": "severe-monroe",
   "metadata": {
    "papermill": {
     "duration": 0.037781,
     "end_time": "2021-05-08T15:46:56.521205",
     "exception": false,
     "start_time": "2021-05-08T15:46:56.483424",
     "status": "completed"
    },
    "tags": []
   },
   "source": [
    "# Logistic Regression"
   ]
  },
  {
   "cell_type": "code",
   "execution_count": 20,
   "id": "rocky-stockholm",
   "metadata": {
    "execution": {
     "iopub.execute_input": "2021-05-08T15:46:56.601951Z",
     "iopub.status.busy": "2021-05-08T15:46:56.601305Z",
     "iopub.status.idle": "2021-05-08T15:46:56.700672Z",
     "shell.execute_reply": "2021-05-08T15:46:56.700014Z"
    },
    "papermill": {
     "duration": 0.141407,
     "end_time": "2021-05-08T15:46:56.700811",
     "exception": false,
     "start_time": "2021-05-08T15:46:56.559404",
     "status": "completed"
    },
    "tags": []
   },
   "outputs": [],
   "source": [
    "from sklearn.linear_model import LogisticRegression\n",
    "lm=LogisticRegression()\n",
    "lm.fit(X_train,Y_train)\n",
    "Y_predict=lm.predict(X_test)"
   ]
  },
  {
   "cell_type": "code",
   "execution_count": 21,
   "id": "historical-burning",
   "metadata": {
    "execution": {
     "iopub.execute_input": "2021-05-08T15:46:56.784281Z",
     "iopub.status.busy": "2021-05-08T15:46:56.783628Z",
     "iopub.status.idle": "2021-05-08T15:46:56.787391Z",
     "shell.execute_reply": "2021-05-08T15:46:56.786909Z"
    },
    "papermill": {
     "duration": 0.047189,
     "end_time": "2021-05-08T15:46:56.787537",
     "exception": false,
     "start_time": "2021-05-08T15:46:56.740348",
     "status": "completed"
    },
    "tags": []
   },
   "outputs": [
    {
     "name": "stdout",
     "output_type": "stream",
     "text": [
      "[(0, 0), (0, 1), (0, 0), (1, 1), (0, 0), (1, 1), (1, 1), (0, 1), (1, 1), (0, 0), (1, 1), (0, 0), (0, 1), (1, 1), (0, 0), (1, 0), (0, 0), (0, 0), (1, 1), (0, 0), (1, 0), (1, 1), (0, 1), (1, 1), (0, 0), (0, 0), (0, 0), (0, 0), (1, 1), (0, 0), (1, 1), (1, 0), (0, 0), (1, 0), (0, 0), (0, 0), (1, 1), (0, 1), (1, 1), (0, 0), (0, 0), (0, 0), (1, 1), (0, 1), (1, 1), (0, 1), (0, 1), (1, 1), (1, 1), (1, 1), (0, 1), (1, 1), (0, 0), (0, 0), (1, 1), (1, 1), (0, 1), (1, 1), (0, 0), (0, 0), (0, 1), (0, 1), (1, 1), (0, 0), (1, 1), (1, 1), (1, 1), (0, 1), (0, 0), (0, 1), (1, 1), (1, 1), (1, 1), (1, 1), (0, 0), (1, 1), (0, 0), (0, 0), (0, 0), (1, 1), (0, 0), (1, 1), (0, 1), (0, 1), (1, 1), (0, 0), (1, 1), (1, 1), (0, 1), (1, 1), (0, 0)]\n"
     ]
    }
   ],
   "source": [
    "print(list(zip(Y_test,Y_predict)))"
   ]
  },
  {
   "cell_type": "code",
   "execution_count": 22,
   "id": "adapted-lightweight",
   "metadata": {
    "execution": {
     "iopub.execute_input": "2021-05-08T15:46:56.874180Z",
     "iopub.status.busy": "2021-05-08T15:46:56.873205Z",
     "iopub.status.idle": "2021-05-08T15:46:56.884096Z",
     "shell.execute_reply": "2021-05-08T15:46:56.883548Z"
    },
    "papermill": {
     "duration": 0.058054,
     "end_time": "2021-05-08T15:46:56.884257",
     "exception": false,
     "start_time": "2021-05-08T15:46:56.826203",
     "status": "completed"
    },
    "tags": []
   },
   "outputs": [
    {
     "name": "stdout",
     "output_type": "stream",
     "text": [
      "[[33 17]\n",
      " [ 4 37]]\n",
      "Classification report: \n",
      "              precision    recall  f1-score   support\n",
      "\n",
      "           0       0.89      0.66      0.76        50\n",
      "           1       0.69      0.90      0.78        41\n",
      "\n",
      "    accuracy                           0.77        91\n",
      "   macro avg       0.79      0.78      0.77        91\n",
      "weighted avg       0.80      0.77      0.77        91\n",
      "\n",
      "Accuracy of the model:  0.7692307692307693\n"
     ]
    }
   ],
   "source": [
    "from sklearn.metrics import confusion_matrix, accuracy_score, classification_report\n",
    "\n",
    "cfm=confusion_matrix(Y_test,Y_predict) \n",
    "print(cfm)\n",
    "\n",
    "print(\"Classification report: \")\n",
    "\n",
    "print(classification_report(Y_test,Y_predict))\n",
    "\n",
    "acc=accuracy_score(Y_test, Y_predict)\n",
    "print(\"Accuracy of the model: \",acc)"
   ]
  },
  {
   "cell_type": "markdown",
   "id": "published-jackson",
   "metadata": {
    "papermill": {
     "duration": 0.038007,
     "end_time": "2021-05-08T15:46:56.960428",
     "exception": false,
     "start_time": "2021-05-08T15:46:56.922421",
     "status": "completed"
    },
    "tags": []
   },
   "source": [
    "# Tuning Logistic Regression "
   ]
  },
  {
   "cell_type": "code",
   "execution_count": 23,
   "id": "spiritual-finding",
   "metadata": {
    "execution": {
     "iopub.execute_input": "2021-05-08T15:46:57.049176Z",
     "iopub.status.busy": "2021-05-08T15:46:57.048474Z",
     "iopub.status.idle": "2021-05-08T15:46:57.053029Z",
     "shell.execute_reply": "2021-05-08T15:46:57.052451Z"
    },
    "papermill": {
     "duration": 0.054385,
     "end_time": "2021-05-08T15:46:57.053167",
     "exception": false,
     "start_time": "2021-05-08T15:46:56.998782",
     "status": "completed"
    },
    "tags": []
   },
   "outputs": [
    {
     "name": "stdout",
     "output_type": "stream",
     "text": [
      "[[0.95736209 0.04263791]\n",
      " [0.4121733  0.5878267 ]\n",
      " [0.76256768 0.23743232]\n",
      " [0.18967567 0.81032433]\n",
      " [0.90426853 0.09573147]\n",
      " [0.29000984 0.70999016]\n",
      " [0.15371827 0.84628173]\n",
      " [0.26822293 0.73177707]\n",
      " [0.11498394 0.88501606]\n",
      " [0.89230473 0.10769527]\n",
      " [0.02807489 0.97192511]\n",
      " [0.9367955  0.0632045 ]\n",
      " [0.26346004 0.73653996]\n",
      " [0.40403884 0.59596116]\n",
      " [0.9054237  0.0945763 ]\n",
      " [0.52691142 0.47308858]\n",
      " [0.99322353 0.00677647]\n",
      " [0.99242297 0.00757703]\n",
      " [0.07950382 0.92049618]\n",
      " [0.91477473 0.08522527]\n",
      " [0.97145592 0.02854408]\n",
      " [0.09901313 0.90098687]\n",
      " [0.30291224 0.69708776]\n",
      " [0.04998522 0.95001478]\n",
      " [0.92568603 0.07431397]\n",
      " [0.96272122 0.03727878]\n",
      " [0.99275898 0.00724102]\n",
      " [0.87604492 0.12395508]\n",
      " [0.02849736 0.97150264]\n",
      " [0.99265702 0.00734298]\n",
      " [0.08331497 0.91668503]\n",
      " [0.85235952 0.14764048]\n",
      " [0.96252511 0.03747489]\n",
      " [0.68437519 0.31562481]\n",
      " [0.99155062 0.00844938]\n",
      " [0.80507983 0.19492017]\n",
      " [0.23553933 0.76446067]\n",
      " [0.46718872 0.53281128]\n",
      " [0.08650585 0.91349415]\n",
      " [0.90912703 0.09087297]\n",
      " [0.72744268 0.27255732]\n",
      " [0.95165024 0.04834976]\n",
      " [0.20267414 0.79732586]\n",
      " [0.36358716 0.63641284]\n",
      " [0.02252825 0.97747175]\n",
      " [0.38247448 0.61752552]\n",
      " [0.24338868 0.75661132]\n",
      " [0.10370164 0.89629836]\n",
      " [0.24967311 0.75032689]\n",
      " [0.36475001 0.63524999]\n",
      " [0.4898991  0.5101009 ]\n",
      " [0.07774328 0.92225672]\n",
      " [0.94399008 0.05600992]\n",
      " [0.69676756 0.30323244]\n",
      " [0.01057209 0.98942791]\n",
      " [0.3157829  0.6842171 ]\n",
      " [0.27171618 0.72828382]\n",
      " [0.2036941  0.7963059 ]\n",
      " [0.98420423 0.01579577]\n",
      " [0.93492684 0.06507316]\n",
      " [0.23639586 0.76360414]\n",
      " [0.11317597 0.88682403]\n",
      " [0.05141394 0.94858606]\n",
      " [0.91270621 0.08729379]\n",
      " [0.02610051 0.97389949]\n",
      " [0.15567495 0.84432505]\n",
      " [0.05419178 0.94580822]\n",
      " [0.18174389 0.81825611]\n",
      " [0.99232125 0.00767875]\n",
      " [0.2638667  0.7361333 ]\n",
      " [0.18682541 0.81317459]\n",
      " [0.26752487 0.73247513]\n",
      " [0.34043714 0.65956286]\n",
      " [0.31706364 0.68293636]\n",
      " [0.96934048 0.03065952]\n",
      " [0.18379251 0.81620749]\n",
      " [0.89232371 0.10767629]\n",
      " [0.7076591  0.2923409 ]\n",
      " [0.85723579 0.14276421]\n",
      " [0.18852313 0.81147687]\n",
      " [0.64239849 0.35760151]\n",
      " [0.02929444 0.97070556]\n",
      " [0.21433973 0.78566027]\n",
      " [0.28232366 0.71767634]\n",
      " [0.04205524 0.95794476]\n",
      " [0.81293536 0.18706464]\n",
      " [0.02883187 0.97116813]\n",
      " [0.08195851 0.91804149]\n",
      " [0.42256139 0.57743861]\n",
      " [0.04161025 0.95838975]\n",
      " [0.98376228 0.01623772]]\n"
     ]
    }
   ],
   "source": [
    "y_pred_prob = lm.predict_proba(X_test)\n",
    "print(y_pred_prob)"
   ]
  },
  {
   "cell_type": "markdown",
   "id": "another-palace",
   "metadata": {
    "papermill": {
     "duration": 0.04091,
     "end_time": "2021-05-08T15:46:57.134593",
     "exception": false,
     "start_time": "2021-05-08T15:46:57.093683",
     "status": "completed"
    },
    "tags": []
   },
   "source": [
    "#the accuracy has  slightly increased  to  "
   ]
  },
  {
   "cell_type": "code",
   "execution_count": 24,
   "id": "surprised-assistant",
   "metadata": {
    "execution": {
     "iopub.execute_input": "2021-05-08T15:46:57.223493Z",
     "iopub.status.busy": "2021-05-08T15:46:57.222858Z",
     "iopub.status.idle": "2021-05-08T15:46:57.265799Z",
     "shell.execute_reply": "2021-05-08T15:46:57.265133Z"
    },
    "papermill": {
     "duration": 0.09121,
     "end_time": "2021-05-08T15:46:57.266057",
     "exception": false,
     "start_time": "2021-05-08T15:46:57.174847",
     "status": "completed"
    },
    "tags": []
   },
   "outputs": [
    {
     "name": "stdout",
     "output_type": "stream",
     "text": [
      "errors at threshold: 0.4 : 20 Type_1: 17 type2_error: 3\n",
      "errors at threshold: 0.41000000000000003 : 20 Type_1: 17 type2_error: 3\n",
      "errors at threshold: 0.42000000000000004 : 20 Type_1: 17 type2_error: 3\n",
      "errors at threshold: 0.43000000000000005 : 20 Type_1: 17 type2_error: 3\n",
      "errors at threshold: 0.44000000000000006 : 20 Type_1: 17 type2_error: 3\n",
      "errors at threshold: 0.45000000000000007 : 20 Type_1: 17 type2_error: 3\n",
      "errors at threshold: 0.4600000000000001 : 20 Type_1: 17 type2_error: 3\n",
      "errors at threshold: 0.4700000000000001 : 20 Type_1: 17 type2_error: 3\n",
      "errors at threshold: 0.4800000000000001 : 21 Type_1: 17 type2_error: 4\n",
      "errors at threshold: 0.4900000000000001 : 21 Type_1: 17 type2_error: 4\n",
      "errors at threshold: 0.5000000000000001 : 21 Type_1: 17 type2_error: 4\n",
      "errors at threshold: 0.5100000000000001 : 21 Type_1: 17 type2_error: 4\n",
      "errors at threshold: 0.5200000000000001 : 20 Type_1: 16 type2_error: 4\n",
      "errors at threshold: 0.5300000000000001 : 20 Type_1: 16 type2_error: 4\n",
      "errors at threshold: 0.5400000000000001 : 19 Type_1: 15 type2_error: 4\n",
      "errors at threshold: 0.5500000000000002 : 19 Type_1: 15 type2_error: 4\n",
      "errors at threshold: 0.5600000000000002 : 19 Type_1: 15 type2_error: 4\n",
      "errors at threshold: 0.5700000000000002 : 19 Type_1: 15 type2_error: 4\n",
      "errors at threshold: 0.5800000000000002 : 18 Type_1: 14 type2_error: 4\n",
      "errors at threshold: 0.5900000000000002 : 17 Type_1: 13 type2_error: 4\n",
      "errors at threshold: 0.6000000000000002 : 18 Type_1: 13 type2_error: 5\n"
     ]
    }
   ],
   "source": [
    "for i in np.arange(0.4,0.61,0.01):\n",
    "    predict_new=np.where(y_pred_prob[:,1]>i,1,0)\n",
    "    cfm=confusion_matrix(Y_test,predict_new)\n",
    "    total_err=cfm[0,1]+cfm[1,0]\n",
    "    print('errors at threshold:',i,':',total_err,'Type_1:',cfm[0,1],'type2_error:',cfm[1,0])"
   ]
  },
  {
   "cell_type": "markdown",
   "id": "operational-selling",
   "metadata": {
    "papermill": {
     "duration": 0.04183,
     "end_time": "2021-05-08T15:46:57.349090",
     "exception": false,
     "start_time": "2021-05-08T15:46:57.307260",
     "status": "completed"
    },
    "tags": []
   },
   "source": [
    "#As its a sensitive data set and we want  to keep the type 2 error  minimal, we choose  0.4  "
   ]
  },
  {
   "cell_type": "code",
   "execution_count": 25,
   "id": "cultural-diploma",
   "metadata": {
    "execution": {
     "iopub.execute_input": "2021-05-08T15:46:57.436398Z",
     "iopub.status.busy": "2021-05-08T15:46:57.435755Z",
     "iopub.status.idle": "2021-05-08T15:46:57.439120Z",
     "shell.execute_reply": "2021-05-08T15:46:57.438463Z"
    },
    "papermill": {
     "duration": 0.050433,
     "end_time": "2021-05-08T15:46:57.439277",
     "exception": false,
     "start_time": "2021-05-08T15:46:57.388844",
     "status": "completed"
    },
    "tags": []
   },
   "outputs": [
    {
     "name": "stdout",
     "output_type": "stream",
     "text": [
      "[0, 1, 0, 1, 0, 1, 1, 1, 1, 0, 1, 0, 1, 1, 0, 1, 0, 0, 1, 0, 0, 1, 1, 1, 0, 0, 0, 0, 1, 0, 1, 0, 0, 0, 0, 0, 1, 1, 1, 0, 0, 0, 1, 1, 1, 1, 1, 1, 1, 1, 1, 1, 0, 0, 1, 1, 1, 1, 0, 0, 1, 1, 1, 0, 1, 1, 1, 1, 0, 1, 1, 1, 1, 1, 0, 1, 0, 0, 0, 1, 0, 1, 1, 1, 1, 0, 1, 1, 1, 1, 0]\n"
     ]
    }
   ],
   "source": [
    "y_pred_class=[]\n",
    "for i in y_pred_prob[:,1]:\n",
    "    if i>0.40:\n",
    "        y_pred_class.append(1)\n",
    "    else:\n",
    "        y_pred_class.append(0)\n",
    "print(y_pred_class)"
   ]
  },
  {
   "cell_type": "code",
   "execution_count": 26,
   "id": "working-cannon",
   "metadata": {
    "execution": {
     "iopub.execute_input": "2021-05-08T15:46:57.528340Z",
     "iopub.status.busy": "2021-05-08T15:46:57.527100Z",
     "iopub.status.idle": "2021-05-08T15:46:57.538541Z",
     "shell.execute_reply": "2021-05-08T15:46:57.538946Z"
    },
    "papermill": {
     "duration": 0.056138,
     "end_time": "2021-05-08T15:46:57.539129",
     "exception": false,
     "start_time": "2021-05-08T15:46:57.482991",
     "status": "completed"
    },
    "tags": []
   },
   "outputs": [
    {
     "name": "stdout",
     "output_type": "stream",
     "text": [
      "accuracy: 0.7802197802197802\n",
      "confusion_matrix [[33 17]\n",
      " [ 3 38]]\n",
      "              precision    recall  f1-score   support\n",
      "\n",
      "           0       0.92      0.66      0.77        50\n",
      "           1       0.69      0.93      0.79        41\n",
      "\n",
      "    accuracy                           0.78        91\n",
      "   macro avg       0.80      0.79      0.78        91\n",
      "weighted avg       0.81      0.78      0.78        91\n",
      "\n"
     ]
    }
   ],
   "source": [
    "from sklearn.metrics  import confusion_matrix, accuracy_score,classification_report\n",
    "accuracy_score= accuracy_score(Y_test,y_pred_class)\n",
    "print('accuracy:',accuracy_score)\n",
    "cfm=confusion_matrix(Y_test,y_pred_class)\n",
    "print('confusion_matrix',cfm)\n",
    "print(classification_report(Y_test,y_pred_class))"
   ]
  },
  {
   "cell_type": "code",
   "execution_count": 27,
   "id": "ruled-diversity",
   "metadata": {
    "execution": {
     "iopub.execute_input": "2021-05-08T15:46:57.626605Z",
     "iopub.status.busy": "2021-05-08T15:46:57.625983Z",
     "iopub.status.idle": "2021-05-08T15:46:57.750430Z",
     "shell.execute_reply": "2021-05-08T15:46:57.751186Z"
    },
    "papermill": {
     "duration": 0.17229,
     "end_time": "2021-05-08T15:46:57.751449",
     "exception": false,
     "start_time": "2021-05-08T15:46:57.579159",
     "status": "completed"
    },
    "tags": []
   },
   "outputs": [],
   "source": [
    "from sklearn.ensemble import VotingClassifier\n",
    "from sklearn.linear_model import LogisticRegression\n",
    "from sklearn.svm import SVC\n",
    "from sklearn.ensemble import VotingClassifier\n",
    "from sklearn.neighbors import KNeighborsClassifier\n",
    "from sklearn.ensemble import RandomForestClassifier"
   ]
  },
  {
   "cell_type": "code",
   "execution_count": 28,
   "id": "objective-textbook",
   "metadata": {
    "execution": {
     "iopub.execute_input": "2021-05-08T15:46:57.843634Z",
     "iopub.status.busy": "2021-05-08T15:46:57.842941Z",
     "iopub.status.idle": "2021-05-08T15:46:57.846024Z",
     "shell.execute_reply": "2021-05-08T15:46:57.845539Z"
    },
    "papermill": {
     "duration": 0.051446,
     "end_time": "2021-05-08T15:46:57.846175",
     "exception": false,
     "start_time": "2021-05-08T15:46:57.794729",
     "status": "completed"
    },
    "tags": []
   },
   "outputs": [],
   "source": [
    "estimators=[]\n",
    "svc_model=SVC(kernel='rbf',C=30.0,gamma=0.01)\n",
    "estimators.append(('SVM',svc_model))\n",
    "model_RF=RandomForestClassifier(n_estimators=35,random_state=10,max_depth=10,min_samples_leaf=5,min_samples_split=6)\n",
    "estimators.append(('RF',model_RF))\n",
    "model_LR=LogisticRegression()\n",
    "estimators.append(('LR',model_LR))\n",
    "model_knn=model_knn=KNeighborsClassifier(n_neighbors=int(np.sqrt(len(X_train))),metric='manhattan')\n",
    "estimators.append(('KNN',model_knn))"
   ]
  },
  {
   "cell_type": "code",
   "execution_count": 29,
   "id": "internal-employer",
   "metadata": {
    "execution": {
     "iopub.execute_input": "2021-05-08T15:46:57.934881Z",
     "iopub.status.busy": "2021-05-08T15:46:57.934289Z",
     "iopub.status.idle": "2021-05-08T15:46:58.003411Z",
     "shell.execute_reply": "2021-05-08T15:46:58.003846Z"
    },
    "papermill": {
     "duration": 0.115604,
     "end_time": "2021-05-08T15:46:58.004027",
     "exception": false,
     "start_time": "2021-05-08T15:46:57.888423",
     "status": "completed"
    },
    "tags": []
   },
   "outputs": [],
   "source": [
    "ensemble=VotingClassifier(estimators)\n",
    "ensemble.fit(X_train,Y_train)\n",
    "Y_pred=ensemble.predict(X_test)"
   ]
  },
  {
   "cell_type": "code",
   "execution_count": 30,
   "id": "portuguese-greenhouse",
   "metadata": {
    "execution": {
     "iopub.execute_input": "2021-05-08T15:46:58.088059Z",
     "iopub.status.busy": "2021-05-08T15:46:58.087455Z",
     "iopub.status.idle": "2021-05-08T15:46:58.093222Z",
     "shell.execute_reply": "2021-05-08T15:46:58.093674Z"
    },
    "papermill": {
     "duration": 0.049114,
     "end_time": "2021-05-08T15:46:58.093849",
     "exception": false,
     "start_time": "2021-05-08T15:46:58.044735",
     "status": "completed"
    },
    "tags": []
   },
   "outputs": [
    {
     "name": "stdout",
     "output_type": "stream",
     "text": [
      "[(0, 0), (0, 0), (0, 0), (1, 1), (0, 0), (1, 1), (1, 1), (0, 1), (1, 1), (0, 0), (1, 1), (0, 0), (0, 1), (1, 1), (0, 0), (1, 1), (0, 0), (0, 0), (1, 1), (0, 0), (1, 0), (1, 1), (0, 1), (1, 1), (0, 0), (0, 0), (0, 0), (0, 0), (1, 1), (0, 0), (1, 1), (1, 0), (0, 0), (1, 0), (0, 0), (0, 0), (1, 1), (0, 0), (1, 1), (0, 0), (0, 0), (0, 0), (1, 1), (0, 1), (1, 1), (0, 1), (0, 1), (1, 1), (1, 1), (1, 1), (0, 0), (1, 1), (0, 0), (0, 0), (1, 1), (1, 1), (0, 1), (1, 1), (0, 0), (0, 0), (0, 1), (0, 1), (1, 1), (0, 0), (1, 1), (1, 1), (1, 1), (0, 1), (0, 0), (0, 1), (1, 1), (1, 1), (1, 1), (1, 1), (0, 0), (1, 1), (0, 0), (0, 0), (0, 0), (1, 1), (0, 0), (1, 1), (0, 1), (0, 1), (1, 1), (0, 0), (1, 1), (1, 1), (0, 1), (1, 1), (0, 0)]\n"
     ]
    }
   ],
   "source": [
    "print(list(zip(Y_test,Y_pred)))"
   ]
  },
  {
   "cell_type": "code",
   "execution_count": 31,
   "id": "caroline-daughter",
   "metadata": {
    "execution": {
     "iopub.execute_input": "2021-05-08T15:46:58.184777Z",
     "iopub.status.busy": "2021-05-08T15:46:58.183635Z",
     "iopub.status.idle": "2021-05-08T15:46:58.193883Z",
     "shell.execute_reply": "2021-05-08T15:46:58.193307Z"
    },
    "papermill": {
     "duration": 0.058498,
     "end_time": "2021-05-08T15:46:58.194034",
     "exception": false,
     "start_time": "2021-05-08T15:46:58.135536",
     "status": "completed"
    },
    "tags": []
   },
   "outputs": [
    {
     "name": "stdout",
     "output_type": "stream",
     "text": [
      "accuracy: 0.8131868131868132\n",
      "confusion_matrix [[36 14]\n",
      " [ 3 38]]\n",
      "              precision    recall  f1-score   support\n",
      "\n",
      "           0       0.92      0.72      0.81        50\n",
      "           1       0.73      0.93      0.82        41\n",
      "\n",
      "    accuracy                           0.81        91\n",
      "   macro avg       0.83      0.82      0.81        91\n",
      "weighted avg       0.84      0.81      0.81        91\n",
      "\n"
     ]
    }
   ],
   "source": [
    "from sklearn.metrics  import confusion_matrix, accuracy_score,classification_report\n",
    "accuracy_score= accuracy_score(Y_test,Y_pred)\n",
    "print('accuracy:',accuracy_score)\n",
    "cfm=confusion_matrix(Y_test,Y_pred)\n",
    "print('confusion_matrix',cfm)\n",
    "print(classification_report(Y_test,Y_pred))"
   ]
  },
  {
   "cell_type": "code",
   "execution_count": null,
   "id": "middle-handle",
   "metadata": {
    "papermill": {
     "duration": 0.040747,
     "end_time": "2021-05-08T15:46:58.275857",
     "exception": false,
     "start_time": "2021-05-08T15:46:58.235110",
     "status": "completed"
    },
    "tags": []
   },
   "outputs": [],
   "source": []
  },
  {
   "cell_type": "markdown",
   "id": "polyphonic-harmony",
   "metadata": {
    "papermill": {
     "duration": 0.041129,
     "end_time": "2021-05-08T15:46:58.359827",
     "exception": false,
     "start_time": "2021-05-08T15:46:58.318698",
     "status": "completed"
    },
    "tags": []
   },
   "source": [
    "# USING THE  MODELS  GIVING  BETTER RECALL VALUE  FOR  CLASS1 "
   ]
  },
  {
   "cell_type": "code",
   "execution_count": 32,
   "id": "leading-russia",
   "metadata": {
    "execution": {
     "iopub.execute_input": "2021-05-08T15:46:58.454457Z",
     "iopub.status.busy": "2021-05-08T15:46:58.453842Z",
     "iopub.status.idle": "2021-05-08T15:46:58.457106Z",
     "shell.execute_reply": "2021-05-08T15:46:58.456590Z"
    },
    "papermill": {
     "duration": 0.055319,
     "end_time": "2021-05-08T15:46:58.457279",
     "exception": false,
     "start_time": "2021-05-08T15:46:58.401960",
     "status": "completed"
    },
    "tags": []
   },
   "outputs": [],
   "source": [
    "estimators=[]\n",
    "svc_model=SVC(kernel='rbf',C=30.0,gamma=0.01)\n",
    "estimators.append(('SVM',svc_model))\n",
    "model_RF=RandomForestClassifier(n_estimators=35,random_state=10,max_depth=10,min_samples_leaf=5,min_samples_split=6)\n",
    "estimators.append(('RF',model_RF))\n"
   ]
  },
  {
   "cell_type": "code",
   "execution_count": 33,
   "id": "realistic-anxiety",
   "metadata": {
    "execution": {
     "iopub.execute_input": "2021-05-08T15:46:58.548926Z",
     "iopub.status.busy": "2021-05-08T15:46:58.548229Z",
     "iopub.status.idle": "2021-05-08T15:46:58.608832Z",
     "shell.execute_reply": "2021-05-08T15:46:58.608142Z"
    },
    "papermill": {
     "duration": 0.110792,
     "end_time": "2021-05-08T15:46:58.608984",
     "exception": false,
     "start_time": "2021-05-08T15:46:58.498192",
     "status": "completed"
    },
    "tags": []
   },
   "outputs": [],
   "source": [
    "ensemble=VotingClassifier(estimators)\n",
    "ensemble.fit(X_train,Y_train)\n",
    "Y_pred=ensemble.predict(X_test)"
   ]
  },
  {
   "cell_type": "code",
   "execution_count": 34,
   "id": "involved-nicholas",
   "metadata": {
    "execution": {
     "iopub.execute_input": "2021-05-08T15:46:58.698600Z",
     "iopub.status.busy": "2021-05-08T15:46:58.697976Z",
     "iopub.status.idle": "2021-05-08T15:46:58.701975Z",
     "shell.execute_reply": "2021-05-08T15:46:58.701524Z"
    },
    "papermill": {
     "duration": 0.052328,
     "end_time": "2021-05-08T15:46:58.702116",
     "exception": false,
     "start_time": "2021-05-08T15:46:58.649788",
     "status": "completed"
    },
    "tags": []
   },
   "outputs": [
    {
     "name": "stdout",
     "output_type": "stream",
     "text": [
      "[(0, 0), (0, 0), (0, 0), (1, 1), (0, 0), (1, 1), (1, 1), (0, 1), (1, 1), (0, 0), (1, 1), (0, 0), (0, 1), (1, 1), (0, 0), (1, 1), (0, 0), (0, 0), (1, 1), (0, 0), (1, 0), (1, 1), (0, 1), (1, 1), (0, 0), (0, 0), (0, 0), (0, 0), (1, 1), (0, 0), (1, 1), (1, 0), (0, 0), (1, 0), (0, 0), (0, 0), (1, 1), (0, 0), (1, 1), (0, 0), (0, 0), (0, 0), (1, 1), (0, 0), (1, 1), (0, 0), (0, 1), (1, 1), (1, 1), (1, 1), (0, 0), (1, 1), (0, 0), (0, 0), (1, 1), (1, 1), (0, 1), (1, 1), (0, 0), (0, 0), (0, 1), (0, 1), (1, 1), (0, 0), (1, 1), (1, 1), (1, 1), (0, 1), (0, 0), (0, 1), (1, 1), (1, 1), (1, 1), (1, 1), (0, 0), (1, 1), (0, 0), (0, 0), (0, 0), (1, 1), (0, 0), (1, 1), (0, 1), (0, 0), (1, 1), (0, 0), (1, 1), (1, 1), (0, 0), (1, 1), (0, 0)]\n"
     ]
    }
   ],
   "source": [
    "print(list(zip(Y_test,Y_pred)))"
   ]
  },
  {
   "cell_type": "code",
   "execution_count": 35,
   "id": "nervous-amount",
   "metadata": {
    "execution": {
     "iopub.execute_input": "2021-05-08T15:46:58.792561Z",
     "iopub.status.busy": "2021-05-08T15:46:58.791927Z",
     "iopub.status.idle": "2021-05-08T15:46:58.801547Z",
     "shell.execute_reply": "2021-05-08T15:46:58.800915Z"
    },
    "papermill": {
     "duration": 0.057934,
     "end_time": "2021-05-08T15:46:58.801695",
     "exception": false,
     "start_time": "2021-05-08T15:46:58.743761",
     "status": "completed"
    },
    "tags": []
   },
   "outputs": [
    {
     "name": "stdout",
     "output_type": "stream",
     "text": [
      "accuracy: 0.8571428571428571\n",
      "confusion_matrix [[40 10]\n",
      " [ 3 38]]\n",
      "              precision    recall  f1-score   support\n",
      "\n",
      "           0       0.93      0.80      0.86        50\n",
      "           1       0.79      0.93      0.85        41\n",
      "\n",
      "    accuracy                           0.86        91\n",
      "   macro avg       0.86      0.86      0.86        91\n",
      "weighted avg       0.87      0.86      0.86        91\n",
      "\n"
     ]
    }
   ],
   "source": [
    "from sklearn.metrics  import confusion_matrix, accuracy_score,classification_report\n",
    "accuracy_score= accuracy_score(Y_test,Y_pred)\n",
    "print('accuracy:',accuracy_score)\n",
    "cfm=confusion_matrix(Y_test,Y_pred)\n",
    "print('confusion_matrix',cfm)\n",
    "print(classification_report(Y_test,Y_pred))"
   ]
  },
  {
   "cell_type": "code",
   "execution_count": 36,
   "id": "horizontal-henry",
   "metadata": {
    "execution": {
     "iopub.execute_input": "2021-05-08T15:46:58.937784Z",
     "iopub.status.busy": "2021-05-08T15:46:58.934830Z",
     "iopub.status.idle": "2021-05-08T15:46:59.113010Z",
     "shell.execute_reply": "2021-05-08T15:46:59.112475Z"
    },
    "papermill": {
     "duration": 0.269452,
     "end_time": "2021-05-08T15:46:59.113168",
     "exception": false,
     "start_time": "2021-05-08T15:46:58.843716",
     "status": "completed"
    },
    "tags": []
   },
   "outputs": [
    {
     "data": {
      "image/png": "[encoded data removed]",
      "text/plain": [
       "<Figure size 432x288 with 2 Axes>"
      ]
     },
     "metadata": {
      "needs_background": "light"
     },
     "output_type": "display_data"
    }
   ],
   "source": [
    "# Using Ensemble  model  with SVM  and  Random forest Classifiers\n",
    "sns.heatmap(cfm,annot=True)\n",
    "plt.show()"
   ]
  }
 ],
 "metadata": {
  "kernelspec": {
   "display_name": "Python 3",
   "language": "python",
   "name": "python3"
  },
  "language_info": {
   "codemirror_mode": {
    "name": "ipython",
    "version": 3
   },
   "file_extension": ".py",
   "mimetype": "text/x-python",
   "name": "python",
   "nbconvert_exporter": "python",
   "pygments_lexer": "ipython3",
   "version": "3.7.10"
  },
  "papermill": {
   "default_parameters": {},
   "duration": 17.950166,
   "end_time": "2021-05-08T15:47:00.418200",
   "environment_variables": {},
   "exception": null,
   "input_path": "__notebook__.ipynb",
   "output_path": "__notebook__.ipynb",
   "parameters": {},
   "start_time": "2021-05-08T15:46:42.468034",
   "version": "2.3.3"
  }
 },
 "nbformat": 4,
 "nbformat_minor": 5
}
