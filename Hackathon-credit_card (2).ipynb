{
 "cells": [
  {
   "cell_type": "code",
   "execution_count": 1,
   "metadata": {},
   "outputs": [],
   "source": [
    "import pandas as pd\n",
    "import numpy as  np\n",
    "import  warnings\n",
    "warnings.filterwarnings('ignore')\n",
    "import seaborn as  sns\n",
    "import matplotlib.pyplot as  plt \n",
    "pd.set_option('display.max_column',None)"
   ]
  },
  {
   "cell_type": "markdown",
   "metadata": {},
   "source": [
    "# Reading the data"
   ]
  },
  {
   "cell_type": "code",
   "execution_count": 2,
   "metadata": {},
   "outputs": [
    {
     "data": {
      "text/html": [
       "<div>\n",
       "<style scoped>\n",
       "    .dataframe tbody tr th:only-of-type {\n",
       "        vertical-align: middle;\n",
       "    }\n",
       "\n",
       "    .dataframe tbody tr th {\n",
       "        vertical-align: top;\n",
       "    }\n",
       "\n",
       "    .dataframe thead th {\n",
       "        text-align: right;\n",
       "    }\n",
       "</style>\n",
       "<table border=\"1\" class=\"dataframe\">\n",
       "  <thead>\n",
       "    <tr style=\"text-align: right;\">\n",
       "      <th></th>\n",
       "      <th>Gender</th>\n",
       "      <th>Age</th>\n",
       "      <th>Region_Code</th>\n",
       "      <th>Occupation</th>\n",
       "      <th>Channel_Code</th>\n",
       "      <th>Vintage</th>\n",
       "      <th>Credit_Product</th>\n",
       "      <th>Avg_Account_Balance</th>\n",
       "      <th>Is_Active</th>\n",
       "      <th>Is_Lead</th>\n",
       "    </tr>\n",
       "    <tr>\n",
       "      <th>ID</th>\n",
       "      <th></th>\n",
       "      <th></th>\n",
       "      <th></th>\n",
       "      <th></th>\n",
       "      <th></th>\n",
       "      <th></th>\n",
       "      <th></th>\n",
       "      <th></th>\n",
       "      <th></th>\n",
       "      <th></th>\n",
       "    </tr>\n",
       "  </thead>\n",
       "  <tbody>\n",
       "    <tr>\n",
       "      <th>NNVBBKZB</th>\n",
       "      <td>Female</td>\n",
       "      <td>73</td>\n",
       "      <td>RG268</td>\n",
       "      <td>Other</td>\n",
       "      <td>X3</td>\n",
       "      <td>43</td>\n",
       "      <td>No</td>\n",
       "      <td>1045696</td>\n",
       "      <td>No</td>\n",
       "      <td>0</td>\n",
       "    </tr>\n",
       "    <tr>\n",
       "      <th>IDD62UNG</th>\n",
       "      <td>Female</td>\n",
       "      <td>30</td>\n",
       "      <td>RG277</td>\n",
       "      <td>Salaried</td>\n",
       "      <td>X1</td>\n",
       "      <td>32</td>\n",
       "      <td>No</td>\n",
       "      <td>581988</td>\n",
       "      <td>No</td>\n",
       "      <td>0</td>\n",
       "    </tr>\n",
       "    <tr>\n",
       "      <th>HD3DSEMC</th>\n",
       "      <td>Female</td>\n",
       "      <td>56</td>\n",
       "      <td>RG268</td>\n",
       "      <td>Self_Employed</td>\n",
       "      <td>X3</td>\n",
       "      <td>26</td>\n",
       "      <td>No</td>\n",
       "      <td>1484315</td>\n",
       "      <td>Yes</td>\n",
       "      <td>0</td>\n",
       "    </tr>\n",
       "    <tr>\n",
       "      <th>BF3NC7KV</th>\n",
       "      <td>Male</td>\n",
       "      <td>34</td>\n",
       "      <td>RG270</td>\n",
       "      <td>Salaried</td>\n",
       "      <td>X1</td>\n",
       "      <td>19</td>\n",
       "      <td>No</td>\n",
       "      <td>470454</td>\n",
       "      <td>No</td>\n",
       "      <td>0</td>\n",
       "    </tr>\n",
       "    <tr>\n",
       "      <th>TEASRWXV</th>\n",
       "      <td>Female</td>\n",
       "      <td>30</td>\n",
       "      <td>RG282</td>\n",
       "      <td>Salaried</td>\n",
       "      <td>X1</td>\n",
       "      <td>33</td>\n",
       "      <td>No</td>\n",
       "      <td>886787</td>\n",
       "      <td>No</td>\n",
       "      <td>0</td>\n",
       "    </tr>\n",
       "    <tr>\n",
       "      <th>...</th>\n",
       "      <td>...</td>\n",
       "      <td>...</td>\n",
       "      <td>...</td>\n",
       "      <td>...</td>\n",
       "      <td>...</td>\n",
       "      <td>...</td>\n",
       "      <td>...</td>\n",
       "      <td>...</td>\n",
       "      <td>...</td>\n",
       "      <td>...</td>\n",
       "    </tr>\n",
       "    <tr>\n",
       "      <th>BPAWWXZN</th>\n",
       "      <td>Male</td>\n",
       "      <td>51</td>\n",
       "      <td>RG284</td>\n",
       "      <td>Self_Employed</td>\n",
       "      <td>X3</td>\n",
       "      <td>109</td>\n",
       "      <td>NaN</td>\n",
       "      <td>1925586</td>\n",
       "      <td>No</td>\n",
       "      <td>0</td>\n",
       "    </tr>\n",
       "    <tr>\n",
       "      <th>HFNB7JY8</th>\n",
       "      <td>Male</td>\n",
       "      <td>27</td>\n",
       "      <td>RG268</td>\n",
       "      <td>Salaried</td>\n",
       "      <td>X1</td>\n",
       "      <td>15</td>\n",
       "      <td>No</td>\n",
       "      <td>862952</td>\n",
       "      <td>Yes</td>\n",
       "      <td>0</td>\n",
       "    </tr>\n",
       "    <tr>\n",
       "      <th>GEHAUCWT</th>\n",
       "      <td>Female</td>\n",
       "      <td>26</td>\n",
       "      <td>RG281</td>\n",
       "      <td>Salaried</td>\n",
       "      <td>X1</td>\n",
       "      <td>13</td>\n",
       "      <td>No</td>\n",
       "      <td>670659</td>\n",
       "      <td>No</td>\n",
       "      <td>0</td>\n",
       "    </tr>\n",
       "    <tr>\n",
       "      <th>GE7V8SAH</th>\n",
       "      <td>Female</td>\n",
       "      <td>28</td>\n",
       "      <td>RG273</td>\n",
       "      <td>Salaried</td>\n",
       "      <td>X1</td>\n",
       "      <td>31</td>\n",
       "      <td>No</td>\n",
       "      <td>407504</td>\n",
       "      <td>No</td>\n",
       "      <td>0</td>\n",
       "    </tr>\n",
       "    <tr>\n",
       "      <th>BOCZSWLJ</th>\n",
       "      <td>Male</td>\n",
       "      <td>29</td>\n",
       "      <td>RG269</td>\n",
       "      <td>Salaried</td>\n",
       "      <td>X1</td>\n",
       "      <td>21</td>\n",
       "      <td>No</td>\n",
       "      <td>1129276</td>\n",
       "      <td>No</td>\n",
       "      <td>0</td>\n",
       "    </tr>\n",
       "  </tbody>\n",
       "</table>\n",
       "<p>245725 rows × 10 columns</p>\n",
       "</div>"
      ],
      "text/plain": [
       "          Gender  Age Region_Code     Occupation Channel_Code  Vintage  \\\n",
       "ID                                                                       \n",
       "NNVBBKZB  Female   73       RG268          Other           X3       43   \n",
       "IDD62UNG  Female   30       RG277       Salaried           X1       32   \n",
       "HD3DSEMC  Female   56       RG268  Self_Employed           X3       26   \n",
       "BF3NC7KV    Male   34       RG270       Salaried           X1       19   \n",
       "TEASRWXV  Female   30       RG282       Salaried           X1       33   \n",
       "...          ...  ...         ...            ...          ...      ...   \n",
       "BPAWWXZN    Male   51       RG284  Self_Employed           X3      109   \n",
       "HFNB7JY8    Male   27       RG268       Salaried           X1       15   \n",
       "GEHAUCWT  Female   26       RG281       Salaried           X1       13   \n",
       "GE7V8SAH  Female   28       RG273       Salaried           X1       31   \n",
       "BOCZSWLJ    Male   29       RG269       Salaried           X1       21   \n",
       "\n",
       "         Credit_Product  Avg_Account_Balance Is_Active  Is_Lead  \n",
       "ID                                                               \n",
       "NNVBBKZB             No              1045696        No        0  \n",
       "IDD62UNG             No               581988        No        0  \n",
       "HD3DSEMC             No              1484315       Yes        0  \n",
       "BF3NC7KV             No               470454        No        0  \n",
       "TEASRWXV             No               886787        No        0  \n",
       "...                 ...                  ...       ...      ...  \n",
       "BPAWWXZN            NaN              1925586        No        0  \n",
       "HFNB7JY8             No               862952       Yes        0  \n",
       "GEHAUCWT             No               670659        No        0  \n",
       "GE7V8SAH             No               407504        No        0  \n",
       "BOCZSWLJ             No              1129276        No        0  \n",
       "\n",
       "[245725 rows x 10 columns]"
      ]
     },
     "execution_count": 2,
     "metadata": {},
     "output_type": "execute_result"
    }
   ],
   "source": [
    "df_train=pd.read_csv(r'C:\\Users\\Lenovo\\Desktop\\Hackathon-Analytics_vidhya\\train_s3TEQDk.csv',header=0,index_col=0)\n",
    "df_train\n"
   ]
  },
  {
   "cell_type": "code",
   "execution_count": 50,
   "metadata": {},
   "outputs": [
    {
     "name": "stdout",
     "output_type": "stream",
     "text": [
      "(245725, 10)\n",
      "Gender                 object\n",
      "Age                     int64\n",
      "Region_Code            object\n",
      "Occupation             object\n",
      "Channel_Code           object\n",
      "Vintage                 int64\n",
      "Credit_Product         object\n",
      "Avg_Account_Balance     int64\n",
      "Is_Active              object\n",
      "Is_Lead                 int64\n",
      "dtype: object\n",
      "<class 'pandas.core.frame.DataFrame'>\n",
      "Index: 245725 entries, NNVBBKZB to BOCZSWLJ\n",
      "Data columns (total 10 columns):\n",
      " #   Column               Non-Null Count   Dtype \n",
      "---  ------               --------------   ----- \n",
      " 0   Gender               245725 non-null  object\n",
      " 1   Age                  245725 non-null  int64 \n",
      " 2   Region_Code          245725 non-null  object\n",
      " 3   Occupation           245725 non-null  object\n",
      " 4   Channel_Code         245725 non-null  object\n",
      " 5   Vintage              245725 non-null  int64 \n",
      " 6   Credit_Product       216400 non-null  object\n",
      " 7   Avg_Account_Balance  245725 non-null  int64 \n",
      " 8   Is_Active            245725 non-null  object\n",
      " 9   Is_Lead              245725 non-null  int64 \n",
      "dtypes: int64(4), object(6)\n",
      "memory usage: 20.6+ MB\n",
      "None\n"
     ]
    }
   ],
   "source": [
    "# understanding the Training data \n",
    "print(df_train.shape)\n",
    "print(df_train.dtypes)\n",
    "\n",
    "print(df_train.info())"
   ]
  },
  {
   "cell_type": "code",
   "execution_count": 3,
   "metadata": {},
   "outputs": [
    {
     "data": {
      "text/plain": [
       "Index(['Gender', 'Age', 'Region_Code', 'Occupation', 'Channel_Code', 'Vintage',\n",
       "       'Credit_Product', 'Avg_Account_Balance', 'Is_Active', 'Is_Lead'],\n",
       "      dtype='object')"
      ]
     },
     "execution_count": 3,
     "metadata": {},
     "output_type": "execute_result"
    }
   ],
   "source": [
    "df_train.columns"
   ]
  },
  {
   "cell_type": "code",
   "execution_count": 4,
   "metadata": {},
   "outputs": [
    {
     "name": "stdout",
     "output_type": "stream",
     "text": [
      "['Female' 'Male']\n",
      "['RG268' 'RG277' 'RG270' 'RG282' 'RG261' 'RG265' 'RG283' 'RG254' 'RG269'\n",
      " 'RG257' 'RG279' 'RG280' 'RG252' 'RG284' 'RG259' 'RG281' 'RG258' 'RG266'\n",
      " 'RG260' 'RG274' 'RG256' 'RG275' 'RG273' 'RG267' 'RG272' 'RG251' 'RG262'\n",
      " 'RG264' 'RG278' 'RG276' 'RG263' 'RG250' 'RG255' 'RG253' 'RG271']\n",
      "['Other' 'Salaried' 'Self_Employed' 'Entrepreneur']\n",
      "['X3' 'X1' 'X2' 'X4']\n",
      "[ 43  32  26  19  33  20  13  38  49 123  14  31  57  69  97  15  63  21\n",
      "  99  56  87  62  55 103 104  93  61  91  27  39  50  45  25 117  80  81\n",
      "  73  67 109  92 122  75  79 121 111 116  85 115  86  37  74 110  44   9\n",
      "  68  51  98 105 127 129 133   8   7 128 135 134]\n",
      "['No' nan 'Yes']\n",
      "['No' 'Yes']\n",
      "[0 1]\n"
     ]
    }
   ],
   "source": [
    "a=['Gender','Region_Code','Occupation','Channel_Code', 'Vintage','Credit_Product','Is_Active','Is_Lead']\n",
    "for i in a:\n",
    "    print(df_train[i].unique())"
   ]
  },
  {
   "cell_type": "markdown",
   "metadata": {},
   "source": [
    "## EXPLORATORY DATA ANALYSIS"
   ]
  },
  {
   "cell_type": "code",
   "execution_count": 70,
   "metadata": {},
   "outputs": [
    {
     "data": {
      "image/png": "[encoded data removed]",
      "text/plain": [
       "<Figure size 432x288 with 1 Axes>"
      ]
     },
     "metadata": {
      "needs_background": "light"
     },
     "output_type": "display_data"
    }
   ],
   "source": [
    "# cheking for  biasness  in data\n",
    "sns.countplot(df_train.Is_Lead)\n",
    "plt.show()"
   ]
  },
  {
   "cell_type": "markdown",
   "metadata": {},
   "source": [
    "Insight - The Data set  is  heavily  biased towards  people  not  interested in credit card"
   ]
  },
  {
   "cell_type": "code",
   "execution_count": 71,
   "metadata": {},
   "outputs": [
    {
     "data": {
      "image/png": "[encoded data removed]",
      "text/plain": [
       "<Figure size 432x288 with 1 Axes>"
      ]
     },
     "metadata": {
      "needs_background": "light"
     },
     "output_type": "display_data"
    },
    {
     "data": {
      "image/png": "[encoded data removed]",
      "text/plain": [
       "<Figure size 432x288 with 1 Axes>"
      ]
     },
     "metadata": {
      "needs_background": "light"
     },
     "output_type": "display_data"
    },
    {
     "data": {
      "image/png": "[encoded data removed]",
      "text/plain": [
       "<Figure size 432x288 with 1 Axes>"
      ]
     },
     "metadata": {
      "needs_background": "light"
     },
     "output_type": "display_data"
    },
    {
     "data": {
      "image/png": "[encoded data removed]",
      "text/plain": [
       "<Figure size 432x288 with 1 Axes>"
      ]
     },
     "metadata": {
      "needs_background": "light"
     },
     "output_type": "display_data"
    },
    {
     "data": {
      "image/png": "[encoded data removed]",
      "text/plain": [
       "<Figure size 432x288 with 1 Axes>"
      ]
     },
     "metadata": {
      "needs_background": "light"
     },
     "output_type": "display_data"
    }
   ],
   "source": [
    "a=['Gender','Occupation','Channel_Code','Credit_Product','Is_Active']\n",
    "for i in a:\n",
    "    sns.countplot(df_train[i])\n",
    "    plt.show()"
   ]
  },
  {
   "cell_type": "markdown",
   "metadata": {},
   "source": [
    "Insight- There  are  lesser customers through channel code X4 and customers with occupation as Entrepreneur"
   ]
  },
  {
   "cell_type": "code",
   "execution_count": 53,
   "metadata": {},
   "outputs": [
    {
     "data": {
      "image/png": "[encoded data removed]",
      "text/plain": [
       "<Figure size 432x288 with 1 Axes>"
      ]
     },
     "metadata": {
      "needs_background": "light"
     },
     "output_type": "display_data"
    }
   ],
   "source": [
    "# Gender\n",
    "sns.barplot(x='Is_Lead',y='Avg_Account_Balance',data=df_train,palette='rocket',hue='Gender')\n",
    "plt.show()"
   ]
  },
  {
   "cell_type": "code",
   "execution_count": 10,
   "metadata": {},
   "outputs": [
    {
     "data": {
      "image/png": "[encoded data removed]",
      "text/plain": [
       "<Figure size 432x288 with 1 Axes>"
      ]
     },
     "metadata": {
      "needs_background": "light"
     },
     "output_type": "display_data"
    }
   ],
   "source": [
    "sns.barplot(x='Is_Lead',y='Age',data=df_train,palette='rocket',hue='Gender')\n",
    "plt.show()"
   ]
  },
  {
   "cell_type": "markdown",
   "metadata": {},
   "source": [
    " Insight- There  is no difference in the  interest  of credit card  based  on Gender . "
   ]
  },
  {
   "cell_type": "code",
   "execution_count": 74,
   "metadata": {},
   "outputs": [
    {
     "data": {
      "image/png": "[encoded data removed]",
      "text/plain": [
       "<Figure size 432x288 with 1 Axes>"
      ]
     },
     "metadata": {
      "needs_background": "light"
     },
     "output_type": "display_data"
    }
   ],
   "source": [
    "#Vintage\n",
    "sns.barplot(x='Is_Lead',y='Vintage',data=df_train,palette='rocket')\n",
    "plt.show()"
   ]
  },
  {
   "cell_type": "markdown",
   "metadata": {},
   "source": [
    "Insight -Customers with longer relationship with bank  are more  interested  in credit card ."
   ]
  },
  {
   "cell_type": "code",
   "execution_count": 75,
   "metadata": {},
   "outputs": [
    {
     "data": {
      "image/png": "[encoded data removed]",
      "text/plain": [
       "<Figure size 432x288 with 1 Axes>"
      ]
     },
     "metadata": {
      "needs_background": "light"
     },
     "output_type": "display_data"
    }
   ],
   "source": [
    "#Occupation\n",
    "sns.barplot(x='Occupation',y='Vintage',data=df_train,palette='tab20',hue='Is_Lead')\n",
    "plt.show()"
   ]
  },
  {
   "cell_type": "code",
   "execution_count": 13,
   "metadata": {},
   "outputs": [
    {
     "data": {
      "image/png": "[encoded data removed]",
      "text/plain": [
       "<Figure size 432x288 with 1 Axes>"
      ]
     },
     "metadata": {
      "needs_background": "light"
     },
     "output_type": "display_data"
    }
   ],
   "source": [
    "\n",
    "sns.barplot(x='Occupation',y='Avg_Account_Balance',data=df_train,palette='tab20',hue='Is_Lead')\n",
    "plt.show()"
   ]
  },
  {
   "cell_type": "markdown",
   "metadata": {},
   "source": [
    "Insight - Salaried customers  recently joined with the  bank have the  least  interest in credit cards . While Entrepreneurs ,Other and Self_Employed with longer relationship with the  bank are  more  interested in availing credit cards."
   ]
  },
  {
   "cell_type": "code",
   "execution_count": 76,
   "metadata": {},
   "outputs": [
    {
     "data": {
      "image/png": "[encoded data removed]",
      "text/plain": [
       "<Figure size 432x288 with 1 Axes>"
      ]
     },
     "metadata": {
      "needs_background": "light"
     },
     "output_type": "display_data"
    }
   ],
   "source": [
    "# Vintage and Channel_code\n",
    "sns.barplot(x='Channel_Code',y='Vintage',data=df_train,hue='Is_Lead',palette='tab20')\n",
    "plt.show()"
   ]
  },
  {
   "cell_type": "markdown",
   "metadata": {},
   "source": [
    "Insight- Customers with channel code X4  seems  to  have the least interest for credit cards , while Customers with channel code X3 seems  to have more  interest for credit cards"
   ]
  },
  {
   "cell_type": "code",
   "execution_count": 77,
   "metadata": {},
   "outputs": [
    {
     "data": {
      "text/plain": [
       "<matplotlib.image.AxesImage at 0x1e640e09208>"
      ]
     },
     "execution_count": 77,
     "metadata": {},
     "output_type": "execute_result"
    },
    {
     "data": {
      "image/png": "[encoded data removed]",
      "text/plain": [
       "<Figure size 432x288 with 1 Axes>"
      ]
     },
     "metadata": {
      "needs_background": "light"
     },
     "output_type": "display_data"
    }
   ],
   "source": [
    "#Region \n",
    "import matplotlib.image as mpimg\n",
    "img = mpimg.imread('Region_3.png')\n",
    "plt.imshow(img)"
   ]
  },
  {
   "cell_type": "markdown",
   "metadata": {},
   "source": [
    "Insight  - Region with code 268  has more customers who are intersted in credit cards."
   ]
  },
  {
   "cell_type": "code",
   "execution_count": 78,
   "metadata": {},
   "outputs": [
    {
     "data": {
      "image/png": "[encoded data removed]",
      "text/plain": [
       "<Figure size 405.125x180 with 2 Axes>"
      ]
     },
     "metadata": {
      "needs_background": "light"
     },
     "output_type": "display_data"
    }
   ],
   "source": [
    "sns.pairplot(x_vars=[\"Age\",\"Avg_Account_Balance\"],y_vars='Vintage',data=df_train,hue='Is_Lead')\n",
    "plt.show()"
   ]
  },
  {
   "cell_type": "markdown",
   "metadata": {},
   "source": [
    "# Handling Missing Values in training data"
   ]
  },
  {
   "cell_type": "code",
   "execution_count": 5,
   "metadata": {},
   "outputs": [
    {
     "data": {
      "text/plain": [
       "Credit_Product         29325\n",
       "Is_Lead                    0\n",
       "Is_Active                  0\n",
       "Avg_Account_Balance        0\n",
       "Vintage                    0\n",
       "Channel_Code               0\n",
       "Occupation                 0\n",
       "Region_Code                0\n",
       "Age                        0\n",
       "Gender                     0\n",
       "dtype: int64"
      ]
     },
     "execution_count": 5,
     "metadata": {},
     "output_type": "execute_result"
    }
   ],
   "source": [
    "# checking for  other  missing values \n",
    "df_train.isnull().sum().sort_values(ascending=False)"
   ]
  },
  {
   "cell_type": "code",
   "execution_count": 6,
   "metadata": {},
   "outputs": [
    {
     "name": "stdout",
     "output_type": "stream",
     "text": [
      "          Gender  Age Region_Code     Occupation Channel_Code  Vintage  \\\n",
      "ID                                                                       \n",
      "NNVBBKZB  Female   73       RG268          Other           X3       43   \n",
      "IDD62UNG  Female   30       RG277       Salaried           X1       32   \n",
      "HD3DSEMC  Female   56       RG268  Self_Employed           X3       26   \n",
      "BF3NC7KV    Male   34       RG270       Salaried           X1       19   \n",
      "TEASRWXV  Female   30       RG282       Salaried           X1       33   \n",
      "...          ...  ...         ...            ...          ...      ...   \n",
      "BPAWWXZN    Male   51       RG284  Self_Employed           X3      109   \n",
      "HFNB7JY8    Male   27       RG268       Salaried           X1       15   \n",
      "GEHAUCWT  Female   26       RG281       Salaried           X1       13   \n",
      "GE7V8SAH  Female   28       RG273       Salaried           X1       31   \n",
      "BOCZSWLJ    Male   29       RG269       Salaried           X1       21   \n",
      "\n",
      "          Credit_Product  Avg_Account_Balance Is_Active  Is_Lead  \n",
      "ID                                                                \n",
      "NNVBBKZB             0.0              1045696        No        0  \n",
      "IDD62UNG             0.0               581988        No        0  \n",
      "HD3DSEMC             0.0              1484315       Yes        0  \n",
      "BF3NC7KV             0.0               470454        No        0  \n",
      "TEASRWXV             0.0               886787        No        0  \n",
      "...                  ...                  ...       ...      ...  \n",
      "BPAWWXZN             NaN              1925586        No        0  \n",
      "HFNB7JY8             0.0               862952       Yes        0  \n",
      "GEHAUCWT             0.0               670659        No        0  \n",
      "GE7V8SAH             0.0               407504        No        0  \n",
      "BOCZSWLJ             0.0              1129276        No        0  \n",
      "\n",
      "[245725 rows x 10 columns]\n"
     ]
    }
   ],
   "source": [
    "#Mapping Credit_Product  variable  -No with 0 and  Yes with 1 \n",
    "df_train.Credit_Product=df_train.Credit_Product.map({'No':0,'Yes':1})\n",
    "print(df_train)"
   ]
  },
  {
   "cell_type": "code",
   "execution_count": 7,
   "metadata": {},
   "outputs": [],
   "source": [
    "#Assuming customer has  credit_products availed so as to consider all the customers  interested in credit cards\n",
    "df_train.Credit_Product.fillna(1,inplace=True)"
   ]
  },
  {
   "cell_type": "code",
   "execution_count": 8,
   "metadata": {},
   "outputs": [
    {
     "data": {
      "text/plain": [
       "Is_Lead                0\n",
       "Is_Active              0\n",
       "Avg_Account_Balance    0\n",
       "Credit_Product         0\n",
       "Vintage                0\n",
       "Channel_Code           0\n",
       "Occupation             0\n",
       "Region_Code            0\n",
       "Age                    0\n",
       "Gender                 0\n",
       "dtype: int64"
      ]
     },
     "execution_count": 8,
     "metadata": {},
     "output_type": "execute_result"
    }
   ],
   "source": [
    "df_train.isnull().sum().sort_values(ascending=False)"
   ]
  },
  {
   "cell_type": "markdown",
   "metadata": {},
   "source": [
    "# Converting Categorical data "
   ]
  },
  {
   "cell_type": "code",
   "execution_count": 9,
   "metadata": {},
   "outputs": [],
   "source": [
    "from sklearn.preprocessing import LabelEncoder\n",
    "colname=['Gender','Region_Code', 'Occupation', 'Channel_Code','Credit_Product','Is_Active']\n",
    "\n",
    "le=LabelEncoder()\n",
    "\n",
    "for i in colname:\n",
    " df_train[i]=le.fit_transform(df_train[i])"
   ]
  },
  {
   "cell_type": "code",
   "execution_count": 10,
   "metadata": {},
   "outputs": [
    {
     "data": {
      "text/html": [
       "<div>\n",
       "<style scoped>\n",
       "    .dataframe tbody tr th:only-of-type {\n",
       "        vertical-align: middle;\n",
       "    }\n",
       "\n",
       "    .dataframe tbody tr th {\n",
       "        vertical-align: top;\n",
       "    }\n",
       "\n",
       "    .dataframe thead th {\n",
       "        text-align: right;\n",
       "    }\n",
       "</style>\n",
       "<table border=\"1\" class=\"dataframe\">\n",
       "  <thead>\n",
       "    <tr style=\"text-align: right;\">\n",
       "      <th></th>\n",
       "      <th>Gender</th>\n",
       "      <th>Age</th>\n",
       "      <th>Region_Code</th>\n",
       "      <th>Occupation</th>\n",
       "      <th>Channel_Code</th>\n",
       "      <th>Vintage</th>\n",
       "      <th>Credit_Product</th>\n",
       "      <th>Avg_Account_Balance</th>\n",
       "      <th>Is_Active</th>\n",
       "      <th>Is_Lead</th>\n",
       "    </tr>\n",
       "    <tr>\n",
       "      <th>ID</th>\n",
       "      <th></th>\n",
       "      <th></th>\n",
       "      <th></th>\n",
       "      <th></th>\n",
       "      <th></th>\n",
       "      <th></th>\n",
       "      <th></th>\n",
       "      <th></th>\n",
       "      <th></th>\n",
       "      <th></th>\n",
       "    </tr>\n",
       "  </thead>\n",
       "  <tbody>\n",
       "    <tr>\n",
       "      <th>NNVBBKZB</th>\n",
       "      <td>0</td>\n",
       "      <td>73</td>\n",
       "      <td>18</td>\n",
       "      <td>1</td>\n",
       "      <td>2</td>\n",
       "      <td>43</td>\n",
       "      <td>0</td>\n",
       "      <td>1045696</td>\n",
       "      <td>0</td>\n",
       "      <td>0</td>\n",
       "    </tr>\n",
       "    <tr>\n",
       "      <th>IDD62UNG</th>\n",
       "      <td>0</td>\n",
       "      <td>30</td>\n",
       "      <td>27</td>\n",
       "      <td>2</td>\n",
       "      <td>0</td>\n",
       "      <td>32</td>\n",
       "      <td>0</td>\n",
       "      <td>581988</td>\n",
       "      <td>0</td>\n",
       "      <td>0</td>\n",
       "    </tr>\n",
       "    <tr>\n",
       "      <th>HD3DSEMC</th>\n",
       "      <td>0</td>\n",
       "      <td>56</td>\n",
       "      <td>18</td>\n",
       "      <td>3</td>\n",
       "      <td>2</td>\n",
       "      <td>26</td>\n",
       "      <td>0</td>\n",
       "      <td>1484315</td>\n",
       "      <td>1</td>\n",
       "      <td>0</td>\n",
       "    </tr>\n",
       "    <tr>\n",
       "      <th>BF3NC7KV</th>\n",
       "      <td>1</td>\n",
       "      <td>34</td>\n",
       "      <td>20</td>\n",
       "      <td>2</td>\n",
       "      <td>0</td>\n",
       "      <td>19</td>\n",
       "      <td>0</td>\n",
       "      <td>470454</td>\n",
       "      <td>0</td>\n",
       "      <td>0</td>\n",
       "    </tr>\n",
       "    <tr>\n",
       "      <th>TEASRWXV</th>\n",
       "      <td>0</td>\n",
       "      <td>30</td>\n",
       "      <td>32</td>\n",
       "      <td>2</td>\n",
       "      <td>0</td>\n",
       "      <td>33</td>\n",
       "      <td>0</td>\n",
       "      <td>886787</td>\n",
       "      <td>0</td>\n",
       "      <td>0</td>\n",
       "    </tr>\n",
       "    <tr>\n",
       "      <th>...</th>\n",
       "      <td>...</td>\n",
       "      <td>...</td>\n",
       "      <td>...</td>\n",
       "      <td>...</td>\n",
       "      <td>...</td>\n",
       "      <td>...</td>\n",
       "      <td>...</td>\n",
       "      <td>...</td>\n",
       "      <td>...</td>\n",
       "      <td>...</td>\n",
       "    </tr>\n",
       "    <tr>\n",
       "      <th>BPAWWXZN</th>\n",
       "      <td>1</td>\n",
       "      <td>51</td>\n",
       "      <td>34</td>\n",
       "      <td>3</td>\n",
       "      <td>2</td>\n",
       "      <td>109</td>\n",
       "      <td>1</td>\n",
       "      <td>1925586</td>\n",
       "      <td>0</td>\n",
       "      <td>0</td>\n",
       "    </tr>\n",
       "    <tr>\n",
       "      <th>HFNB7JY8</th>\n",
       "      <td>1</td>\n",
       "      <td>27</td>\n",
       "      <td>18</td>\n",
       "      <td>2</td>\n",
       "      <td>0</td>\n",
       "      <td>15</td>\n",
       "      <td>0</td>\n",
       "      <td>862952</td>\n",
       "      <td>1</td>\n",
       "      <td>0</td>\n",
       "    </tr>\n",
       "    <tr>\n",
       "      <th>GEHAUCWT</th>\n",
       "      <td>0</td>\n",
       "      <td>26</td>\n",
       "      <td>31</td>\n",
       "      <td>2</td>\n",
       "      <td>0</td>\n",
       "      <td>13</td>\n",
       "      <td>0</td>\n",
       "      <td>670659</td>\n",
       "      <td>0</td>\n",
       "      <td>0</td>\n",
       "    </tr>\n",
       "    <tr>\n",
       "      <th>GE7V8SAH</th>\n",
       "      <td>0</td>\n",
       "      <td>28</td>\n",
       "      <td>23</td>\n",
       "      <td>2</td>\n",
       "      <td>0</td>\n",
       "      <td>31</td>\n",
       "      <td>0</td>\n",
       "      <td>407504</td>\n",
       "      <td>0</td>\n",
       "      <td>0</td>\n",
       "    </tr>\n",
       "    <tr>\n",
       "      <th>BOCZSWLJ</th>\n",
       "      <td>1</td>\n",
       "      <td>29</td>\n",
       "      <td>19</td>\n",
       "      <td>2</td>\n",
       "      <td>0</td>\n",
       "      <td>21</td>\n",
       "      <td>0</td>\n",
       "      <td>1129276</td>\n",
       "      <td>0</td>\n",
       "      <td>0</td>\n",
       "    </tr>\n",
       "  </tbody>\n",
       "</table>\n",
       "<p>245725 rows × 10 columns</p>\n",
       "</div>"
      ],
      "text/plain": [
       "          Gender  Age  Region_Code  Occupation  Channel_Code  Vintage  \\\n",
       "ID                                                                      \n",
       "NNVBBKZB       0   73           18           1             2       43   \n",
       "IDD62UNG       0   30           27           2             0       32   \n",
       "HD3DSEMC       0   56           18           3             2       26   \n",
       "BF3NC7KV       1   34           20           2             0       19   \n",
       "TEASRWXV       0   30           32           2             0       33   \n",
       "...          ...  ...          ...         ...           ...      ...   \n",
       "BPAWWXZN       1   51           34           3             2      109   \n",
       "HFNB7JY8       1   27           18           2             0       15   \n",
       "GEHAUCWT       0   26           31           2             0       13   \n",
       "GE7V8SAH       0   28           23           2             0       31   \n",
       "BOCZSWLJ       1   29           19           2             0       21   \n",
       "\n",
       "          Credit_Product  Avg_Account_Balance  Is_Active  Is_Lead  \n",
       "ID                                                                 \n",
       "NNVBBKZB               0              1045696          0        0  \n",
       "IDD62UNG               0               581988          0        0  \n",
       "HD3DSEMC               0              1484315          1        0  \n",
       "BF3NC7KV               0               470454          0        0  \n",
       "TEASRWXV               0               886787          0        0  \n",
       "...                  ...                  ...        ...      ...  \n",
       "BPAWWXZN               1              1925586          0        0  \n",
       "HFNB7JY8               0               862952          1        0  \n",
       "GEHAUCWT               0               670659          0        0  \n",
       "GE7V8SAH               0               407504          0        0  \n",
       "BOCZSWLJ               0              1129276          0        0  \n",
       "\n",
       "[245725 rows x 10 columns]"
      ]
     },
     "execution_count": 10,
     "metadata": {},
     "output_type": "execute_result"
    }
   ],
   "source": [
    "df_train"
   ]
  },
  {
   "cell_type": "code",
   "execution_count": 11,
   "metadata": {},
   "outputs": [
    {
     "data": {
      "text/plain": [
       "0    187437\n",
       "1     58288\n",
       "Name: Is_Lead, dtype: int64"
      ]
     },
     "execution_count": 11,
     "metadata": {},
     "output_type": "execute_result"
    }
   ],
   "source": [
    "df_train['Is_Lead'].value_counts()"
   ]
  },
  {
   "cell_type": "markdown",
   "metadata": {},
   "source": [
    "# Upsampling the data in order to remove the  biasness"
   ]
  },
  {
   "cell_type": "code",
   "execution_count": 12,
   "metadata": {},
   "outputs": [
    {
     "name": "stdout",
     "output_type": "stream",
     "text": [
      "(187437, 10)\n",
      "(58288, 10)\n"
     ]
    }
   ],
   "source": [
    "df_train.majority=df_train[df_train.Is_Lead==0]\n",
    "df_train.minority=df_train[df_train.Is_Lead==1]\n",
    "print(df_train.majority.shape)\n",
    "print(df_train.minority.shape)"
   ]
  },
  {
   "cell_type": "code",
   "execution_count": 13,
   "metadata": {},
   "outputs": [],
   "source": [
    "from sklearn.utils import resample\n",
    "df_train.minority_upsampled =resample(df_train.minority, replace=True,     \n",
    "                                 n_samples=187437,\n",
    "                                 random_state=10)"
   ]
  },
  {
   "cell_type": "code",
   "execution_count": 14,
   "metadata": {},
   "outputs": [
    {
     "data": {
      "text/plain": [
       "(374874, 10)"
      ]
     },
     "execution_count": 14,
     "metadata": {},
     "output_type": "execute_result"
    }
   ],
   "source": [
    "df_upsampled = pd.concat([df_train.majority, df_train.minority_upsampled])\n",
    "df_upsampled.shape"
   ]
  },
  {
   "cell_type": "markdown",
   "metadata": {},
   "source": [
    "#  X and Y Variables"
   ]
  },
  {
   "cell_type": "code",
   "execution_count": 15,
   "metadata": {},
   "outputs": [],
   "source": [
    "X=df_upsampled.values[:,0:-1]\n",
    "Y=df_upsampled.values[:,-1]\n",
    "Y=Y.astype(int)"
   ]
  },
  {
   "cell_type": "code",
   "execution_count": 16,
   "metadata": {},
   "outputs": [
    {
     "name": "stdout",
     "output_type": "stream",
     "text": [
      "(374874, 9)\n",
      "(374874,)\n"
     ]
    }
   ],
   "source": [
    "print(X.shape)\n",
    "print(Y.shape)"
   ]
  },
  {
   "cell_type": "markdown",
   "metadata": {},
   "source": [
    "# Scaling the data"
   ]
  },
  {
   "cell_type": "code",
   "execution_count": 17,
   "metadata": {},
   "outputs": [
    {
     "name": "stdout",
     "output_type": "stream",
     "text": [
      "[[-1.14797338  1.86223981 -0.21200597 ... -1.10986696 -0.12933911\n",
      "  -0.84129449]\n",
      " [-1.14797338 -1.10425204  0.6180208  ... -1.10986696 -0.66925949\n",
      "  -0.84129449]\n",
      " [-1.14797338  0.68944071 -0.21200597 ... -1.10986696  0.38136879\n",
      "   1.18864443]\n",
      " ...\n",
      " [-1.14797338  0.41348798 -0.21200597 ...  0.90100889  0.58223038\n",
      "   1.18864443]\n",
      " [ 0.87110034  1.17235798  1.17137198 ... -1.10986696 -0.49114356\n",
      "   1.18864443]\n",
      " [-1.14797338 -0.55234658 -0.21200597 ...  0.90100889  0.5903436\n",
      "   1.18864443]]\n"
     ]
    }
   ],
   "source": [
    "#Standarizing the X variables \n",
    "from sklearn.preprocessing import StandardScaler \n",
    "Scaler=StandardScaler()\n",
    "Scaler.fit(X)\n",
    "X=Scaler.transform(X)\n",
    "print(X)"
   ]
  },
  {
   "cell_type": "markdown",
   "metadata": {},
   "source": [
    "# Train_Test_Split the Training Data  For Evaluation"
   ]
  },
  {
   "cell_type": "code",
   "execution_count": 18,
   "metadata": {},
   "outputs": [],
   "source": [
    "from sklearn.model_selection import train_test_split\n",
    "\n",
    "X_train,X_test,Y_train,Y_test=train_test_split(X,Y, test_size=0.2,random_state=10)"
   ]
  },
  {
   "cell_type": "code",
   "execution_count": 19,
   "metadata": {},
   "outputs": [
    {
     "name": "stdout",
     "output_type": "stream",
     "text": [
      "(299899, 9)\n",
      "(74975,)\n"
     ]
    }
   ],
   "source": [
    "print(X_train.shape)\n",
    "print(Y_test.shape)"
   ]
  },
  {
   "cell_type": "markdown",
   "metadata": {},
   "source": [
    "# Logistic Regression "
   ]
  },
  {
   "cell_type": "code",
   "execution_count": 20,
   "metadata": {},
   "outputs": [],
   "source": [
    "from sklearn.linear_model import LogisticRegression\n",
    "\n",
    "classifier=LogisticRegression()\n",
    "\n",
    "classifier.fit(X_train,Y_train)\n",
    "\n",
    "Y_pred=classifier.predict(X_test)"
   ]
  },
  {
   "cell_type": "code",
   "execution_count": 21,
   "metadata": {},
   "outputs": [
    {
     "name": "stdout",
     "output_type": "stream",
     "text": [
      "[[26670 10804]\n",
      " [ 6885 30616]]\n",
      "Classification report: \n",
      "              precision    recall  f1-score   support\n",
      "\n",
      "           0       0.79      0.71      0.75     37474\n",
      "           1       0.74      0.82      0.78     37501\n",
      "\n",
      "    accuracy                           0.76     74975\n",
      "   macro avg       0.77      0.76      0.76     74975\n",
      "weighted avg       0.77      0.76      0.76     74975\n",
      "\n",
      "Accuracy of the model:  0.7640680226742247\n"
     ]
    }
   ],
   "source": [
    "from sklearn.metrics import confusion_matrix, accuracy_score, classification_report\n",
    "\n",
    "cfm=confusion_matrix(Y_test,Y_pred) \n",
    "print(cfm)\n",
    "\n",
    "print(\"Classification report: \")\n",
    "\n",
    "print(classification_report(Y_test,Y_pred))\n",
    "\n",
    "acc=accuracy_score(Y_test, Y_pred)\n",
    "print(\"Accuracy of the model: \",acc)"
   ]
  },
  {
   "cell_type": "code",
   "execution_count": 25,
   "metadata": {},
   "outputs": [
    {
     "name": "stdout",
     "output_type": "stream",
     "text": [
      "[[0.7605813  0.2394187 ]\n",
      " [0.63194248 0.36805752]\n",
      " [0.88577885 0.11422115]\n",
      " ...\n",
      " [0.89173851 0.10826149]\n",
      " [0.22781931 0.77218069]\n",
      " [0.66420774 0.33579226]]\n"
     ]
    }
   ],
   "source": [
    "#Tuning Logistic Regression Model\n",
    "y_pred_prob = classifier.predict_proba(X_test)\n",
    "print(y_pred_prob)"
   ]
  },
  {
   "cell_type": "code",
   "execution_count": 28,
   "metadata": {},
   "outputs": [],
   "source": [
    "for a in np.arange(0.3,0.71,0.01):\n",
    "    predict_mine = np.where(y_pred_prob[:,1] > a, 1, 0)\n",
    "    cfm=confusion_matrix(Y_test, predict_mine)\n",
    "    total_err=cfm[0,1]+cfm[1,0] \n",
    "    cfm[1,0],\" , type 1 error:\", cfm[0,1]"
   ]
  },
  {
   "cell_type": "code",
   "execution_count": 29,
   "metadata": {},
   "outputs": [],
   "source": [
    "#Considering  the  least Type 2 error  a t  0.3  , as  we  want as many  customers who are  interested  in credit card  \n",
    "y_pred_class=[]\n",
    "for value in y_pred_prob[:,1]:\n",
    "    if value > 0.30:\n",
    "        y_pred_class.append(1)\n",
    "    else:\n",
    "         y_pred_class.append(0)\n"
   ]
  },
  {
   "cell_type": "code",
   "execution_count": 30,
   "metadata": {},
   "outputs": [
    {
     "name": "stdout",
     "output_type": "stream",
     "text": [
      "[[22487 14987]\n",
      " [ 4719 32782]]\n",
      "Classification report: \n",
      "              precision    recall  f1-score   support\n",
      "\n",
      "           0       0.83      0.60      0.70     37474\n",
      "           1       0.69      0.87      0.77     37501\n",
      "\n",
      "    accuracy                           0.74     74975\n",
      "   macro avg       0.76      0.74      0.73     74975\n",
      "weighted avg       0.76      0.74      0.73     74975\n",
      "\n",
      "Accuracy of the model:  0.7371657219073025\n"
     ]
    }
   ],
   "source": [
    "from sklearn.metrics import confusion_matrix, accuracy_score, classification_report\n",
    "\n",
    "cfm=confusion_matrix(Y_test,y_pred_class) \n",
    "print(cfm)\n",
    "\n",
    "print(\"Classification report: \")\n",
    "\n",
    "print(classification_report(Y_test,y_pred_class))\n",
    "\n",
    "acc=accuracy_score(Y_test, y_pred_class)\n",
    "print(\"Accuracy of the model: \",acc)"
   ]
  },
  {
   "cell_type": "markdown",
   "metadata": {},
   "source": [
    "# KNN "
   ]
  },
  {
   "cell_type": "code",
   "execution_count": 102,
   "metadata": {},
   "outputs": [],
   "source": [
    "import numpy as np\n",
    "from sklearn.neighbors import KNeighborsClassifier\n",
    "model_KNN=KNeighborsClassifier(n_neighbors=int(np.sqrt(len(X_train))),metric='euclidean')\n",
    "\n",
    "model_KNN.fit(X_train,Y_train)\n",
    "\n",
    "Y_pred=model_KNN.predict(X_test)"
   ]
  },
  {
   "cell_type": "code",
   "execution_count": 103,
   "metadata": {},
   "outputs": [
    {
     "name": "stdout",
     "output_type": "stream",
     "text": [
      "[[23957 13517]\n",
      " [ 8883 28618]]\n",
      "\n",
      "Classification report: \n",
      "              precision    recall  f1-score   support\n",
      "\n",
      "           0       0.73      0.64      0.68     37474\n",
      "           1       0.68      0.76      0.72     37501\n",
      "\n",
      "    accuracy                           0.70     74975\n",
      "   macro avg       0.70      0.70      0.70     74975\n",
      "weighted avg       0.70      0.70      0.70     74975\n",
      "\n",
      "Accuracy of the model:  0.7012337445815272\n"
     ]
    }
   ],
   "source": [
    "from sklearn.metrics import confusion_matrix, accuracy_score,classification_report\n",
    "\n",
    "cfm=confusion_matrix(Y_test,Y_pred)\n",
    "print(cfm)\n",
    "print()\n",
    "\n",
    "print(\"Classification report: \")\n",
    "\n",
    "print(classification_report(Y_test,Y_pred))\n",
    "\n",
    "acc=accuracy_score(Y_test, Y_pred)\n",
    "print(\"Accuracy of the model: \",acc)"
   ]
  },
  {
   "cell_type": "code",
   "execution_count": null,
   "metadata": {},
   "outputs": [],
   "source": [
    "#Tuning KNN "
   ]
  },
  {
   "cell_type": "code",
   "execution_count": 104,
   "metadata": {},
   "outputs": [],
   "source": [
    "import numpy as np\n",
    "from sklearn.neighbors import KNeighborsClassifier\n",
    "model_KNN=KNeighborsClassifier(n_neighbors=int(np.sqrt(len(X_train))),metric='manhattan')\n",
    "\n",
    "model_KNN.fit(X_train,Y_train)\n",
    "\n",
    "Y_pred=model_KNN.predict(X_test)"
   ]
  },
  {
   "cell_type": "code",
   "execution_count": 106,
   "metadata": {},
   "outputs": [
    {
     "name": "stdout",
     "output_type": "stream",
     "text": [
      "[[24262 13212]\n",
      " [ 8947 28554]]\n",
      "\n",
      "Classification report: \n",
      "              precision    recall  f1-score   support\n",
      "\n",
      "           0       0.73      0.65      0.69     37474\n",
      "           1       0.68      0.76      0.72     37501\n",
      "\n",
      "    accuracy                           0.70     74975\n",
      "   macro avg       0.71      0.70      0.70     74975\n",
      "weighted avg       0.71      0.70      0.70     74975\n",
      "\n",
      "Accuracy of the model:  0.7044481493831277\n"
     ]
    }
   ],
   "source": [
    "from sklearn.metrics import confusion_matrix, accuracy_score,classification_report\n",
    "\n",
    "cfm=confusion_matrix(Y_test,Y_pred)\n",
    "print(cfm)\n",
    "print()\n",
    "\n",
    "print(\"Classification report: \")\n",
    "\n",
    "print(classification_report(Y_test,Y_pred))\n",
    "\n",
    "acc=accuracy_score(Y_test, Y_pred)\n",
    "print(\"Accuracy of the model: \",acc)"
   ]
  },
  {
   "cell_type": "code",
   "execution_count": 109,
   "metadata": {},
   "outputs": [],
   "source": [
    "import numpy as np\n",
    "from sklearn.neighbors import KNeighborsClassifier\n",
    "model_KNN=KNeighborsClassifier(n_neighbors=2,metric='manhattan')\n",
    "\n",
    "model_KNN.fit(X_train,Y_train)\n",
    "\n",
    "Y_pred=model_KNN.predict(X_test)"
   ]
  },
  {
   "cell_type": "code",
   "execution_count": 110,
   "metadata": {},
   "outputs": [
    {
     "name": "stdout",
     "output_type": "stream",
     "text": [
      "[[30929  6545]\n",
      " [ 5881 31620]]\n",
      "\n",
      "Classification report: \n",
      "              precision    recall  f1-score   support\n",
      "\n",
      "           0       0.84      0.83      0.83     37474\n",
      "           1       0.83      0.84      0.84     37501\n",
      "\n",
      "    accuracy                           0.83     74975\n",
      "   macro avg       0.83      0.83      0.83     74975\n",
      "weighted avg       0.83      0.83      0.83     74975\n",
      "\n",
      "Accuracy of the model:  0.8342647549183061\n"
     ]
    }
   ],
   "source": [
    "from sklearn.metrics import confusion_matrix, accuracy_score,classification_report\n",
    "\n",
    "cfm=confusion_matrix(Y_test,Y_pred)\n",
    "print(cfm)\n",
    "print()\n",
    "\n",
    "print(\"Classification report: \")\n",
    "\n",
    "print(classification_report(Y_test,Y_pred))\n",
    "\n",
    "acc=accuracy_score(Y_test, Y_pred)\n",
    "print(\"Accuracy of the model: \",acc)"
   ]
  },
  {
   "cell_type": "code",
   "execution_count": 107,
   "metadata": {},
   "outputs": [],
   "source": [
    "import numpy as np\n",
    "from sklearn.neighbors import KNeighborsClassifier\n",
    "model_KNN=KNeighborsClassifier(n_neighbors=1,metric='manhattan')\n",
    "\n",
    "model_KNN.fit(X_train,Y_train)\n",
    "\n",
    "Y_pred=model_KNN.predict(X_test)"
   ]
  },
  {
   "cell_type": "code",
   "execution_count": 108,
   "metadata": {},
   "outputs": [
    {
     "name": "stdout",
     "output_type": "stream",
     "text": [
      "[[29832  7642]\n",
      " [ 1614 35887]]\n",
      "\n",
      "Classification report: \n",
      "              precision    recall  f1-score   support\n",
      "\n",
      "           0       0.95      0.80      0.87     37474\n",
      "           1       0.82      0.96      0.89     37501\n",
      "\n",
      "    accuracy                           0.88     74975\n",
      "   macro avg       0.89      0.88      0.88     74975\n",
      "weighted avg       0.89      0.88      0.88     74975\n",
      "\n",
      "Accuracy of the model:  0.8765455151717239\n"
     ]
    }
   ],
   "source": [
    "from sklearn.metrics import confusion_matrix, accuracy_score,classification_report\n",
    "\n",
    "cfm=confusion_matrix(Y_test,Y_pred)\n",
    "print(cfm)\n",
    "print()\n",
    "\n",
    "print(\"Classification report: \")\n",
    "\n",
    "print(classification_report(Y_test,Y_pred))\n",
    "\n",
    "acc=accuracy_score(Y_test, Y_pred)\n",
    "print(\"Accuracy of the model: \",acc)"
   ]
  },
  {
   "cell_type": "markdown",
   "metadata": {},
   "source": [
    "# Decision Tree"
   ]
  },
  {
   "cell_type": "code",
   "execution_count": 31,
   "metadata": {},
   "outputs": [
    {
     "name": "stdout",
     "output_type": "stream",
     "text": [
      "[0 0 0 ... 0 1 1]\n"
     ]
    }
   ],
   "source": [
    "from sklearn.tree import DecisionTreeClassifier\n",
    "\n",
    "model_DecisionTree=DecisionTreeClassifier(criterion=\"gini\",random_state=10,splitter=\"best\")\n",
    "model_DecisionTree.fit(X_train,Y_train)\n",
    "Y_pred=model_DecisionTree.predict(X_test)\n",
    "print(Y_pred)"
   ]
  },
  {
   "cell_type": "code",
   "execution_count": 32,
   "metadata": {},
   "outputs": [
    {
     "name": "stdout",
     "output_type": "stream",
     "text": [
      "[[30796  6678]\n",
      " [ 1412 36089]]\n",
      "\n",
      "Classification report: \n",
      "              precision    recall  f1-score   support\n",
      "\n",
      "           0       0.96      0.82      0.88     37474\n",
      "           1       0.84      0.96      0.90     37501\n",
      "\n",
      "    accuracy                           0.89     74975\n",
      "   macro avg       0.90      0.89      0.89     74975\n",
      "weighted avg       0.90      0.89      0.89     74975\n",
      "\n",
      "Accuracy of the model:  0.8920973657885962\n"
     ]
    }
   ],
   "source": [
    "from sklearn.metrics import confusion_matrix, accuracy_score,classification_report\n",
    "\n",
    "cfm=confusion_matrix(Y_test,Y_pred)\n",
    "print(cfm)\n",
    "print()\n",
    "\n",
    "print(\"Classification report: \")\n",
    "\n",
    "print(classification_report(Y_test,Y_pred))\n",
    "\n",
    "acc=accuracy_score(Y_test, Y_pred)\n",
    "print(\"Accuracy of the model: \",acc)"
   ]
  },
  {
   "cell_type": "markdown",
   "metadata": {},
   "source": [
    "# Tuning the Decision Tree"
   ]
  },
  {
   "cell_type": "code",
   "execution_count": 71,
   "metadata": {},
   "outputs": [
    {
     "name": "stdout",
     "output_type": "stream",
     "text": [
      "[0 0 0 ... 0 1 0]\n"
     ]
    }
   ],
   "source": [
    "from sklearn.tree import DecisionTreeClassifier\n",
    "\n",
    "model_DecisionTree=DecisionTreeClassifier(criterion=\"gini\",random_state=10,splitter=\"best\",min_samples_leaf=5)\n",
    "model_DecisionTree.fit(X_train,Y_train)\n",
    "Y_pred=model_DecisionTree.predict(X_test)\n",
    "print(Y_pred)"
   ]
  },
  {
   "cell_type": "code",
   "execution_count": 72,
   "metadata": {},
   "outputs": [
    {
     "name": "stdout",
     "output_type": "stream",
     "text": [
      "[[29813  7661]\n",
      " [ 5911 31590]]\n",
      "\n",
      "Classification report: \n",
      "              precision    recall  f1-score   support\n",
      "\n",
      "           0       0.83      0.80      0.81     37474\n",
      "           1       0.80      0.84      0.82     37501\n",
      "\n",
      "    accuracy                           0.82     74975\n",
      "   macro avg       0.82      0.82      0.82     74975\n",
      "weighted avg       0.82      0.82      0.82     74975\n",
      "\n",
      "Accuracy of the model:  0.8189796598866289\n"
     ]
    }
   ],
   "source": [
    "from sklearn.metrics import confusion_matrix, accuracy_score,classification_report\n",
    "\n",
    "cfm=confusion_matrix(Y_test,Y_pred)\n",
    "print(cfm)\n",
    "print()\n",
    "\n",
    "print(\"Classification report: \")\n",
    "\n",
    "print(classification_report(Y_test,Y_pred))\n",
    "\n",
    "acc=accuracy_score(Y_test, Y_pred)\n",
    "print(\"Accuracy of the model: \",acc)"
   ]
  },
  {
   "cell_type": "markdown",
   "metadata": {},
   "source": [
    "# Random Forest"
   ]
  },
  {
   "cell_type": "code",
   "execution_count": 33,
   "metadata": {},
   "outputs": [],
   "source": [
    "from sklearn.ensemble import RandomForestClassifier\n",
    "\n",
    "model_RandomForest=RandomForestClassifier(n_estimators=30, random_state=10) \n",
    "\n",
    "model_RandomForest.fit(X_train,Y_train)\n",
    "\n",
    "Y_pred=model_RandomForest.predict(X_test)"
   ]
  },
  {
   "cell_type": "code",
   "execution_count": 35,
   "metadata": {},
   "outputs": [
    {
     "name": "stdout",
     "output_type": "stream",
     "text": [
      "[[32150  5324]\n",
      " [ 1192 36309]]\n",
      "\n",
      "Classification report: \n",
      "              precision    recall  f1-score   support\n",
      "\n",
      "           0       0.96      0.86      0.91     37474\n",
      "           1       0.87      0.97      0.92     37501\n",
      "\n",
      "    accuracy                           0.91     74975\n",
      "   macro avg       0.92      0.91      0.91     74975\n",
      "weighted avg       0.92      0.91      0.91     74975\n",
      "\n",
      "Accuracy of the model:  0.9130910303434479\n"
     ]
    }
   ],
   "source": [
    "from sklearn.metrics import confusion_matrix, accuracy_score,classification_report\n",
    "\n",
    "cfm=confusion_matrix(Y_test,Y_pred)\n",
    "print(cfm)\n",
    "print()\n",
    "\n",
    "print(\"Classification report: \")\n",
    "\n",
    "print(classification_report(Y_test,Y_pred))\n",
    "\n",
    "acc=accuracy_score(Y_test, Y_pred)\n",
    "print(\"Accuracy of the model: \",acc)"
   ]
  },
  {
   "cell_type": "markdown",
   "metadata": {},
   "source": [
    "# Tuning Random Forest"
   ]
  },
  {
   "cell_type": "code",
   "execution_count": 75,
   "metadata": {},
   "outputs": [],
   "source": [
    "from sklearn.ensemble import RandomForestClassifier\n",
    "\n",
    "model_RandomForest=RandomForestClassifier(n_estimators=30, random_state=10,min_samples_leaf=2) \n",
    "\n",
    "model_RandomForest.fit(X_train,Y_train)\n",
    "\n",
    "Y_pred=model_RandomForest.predict(X_test)"
   ]
  },
  {
   "cell_type": "code",
   "execution_count": 76,
   "metadata": {},
   "outputs": [
    {
     "name": "stdout",
     "output_type": "stream",
     "text": [
      "[[31406  6068]\n",
      " [ 2220 35281]]\n",
      "\n",
      "Classification report: \n",
      "              precision    recall  f1-score   support\n",
      "\n",
      "           0       0.93      0.84      0.88     37474\n",
      "           1       0.85      0.94      0.89     37501\n",
      "\n",
      "    accuracy                           0.89     74975\n",
      "   macro avg       0.89      0.89      0.89     74975\n",
      "weighted avg       0.89      0.89      0.89     74975\n",
      "\n",
      "Accuracy of the model:  0.8894564854951651\n"
     ]
    }
   ],
   "source": [
    "from sklearn.metrics import confusion_matrix, accuracy_score,classification_report\n",
    "\n",
    "cfm=confusion_matrix(Y_test,Y_pred)\n",
    "print(cfm)\n",
    "print()\n",
    "\n",
    "print(\"Classification report: \")\n",
    "\n",
    "print(classification_report(Y_test,Y_pred))\n",
    "\n",
    "acc=accuracy_score(Y_test, Y_pred)\n",
    "print(\"Accuracy of the model: \",acc)"
   ]
  },
  {
   "cell_type": "markdown",
   "metadata": {},
   "source": [
    "# SGD Classifier"
   ]
  },
  {
   "cell_type": "code",
   "execution_count": 36,
   "metadata": {},
   "outputs": [],
   "source": [
    "from sklearn.linear_model import SGDClassifier\n",
    "\n",
    "classifier_SGD=SGDClassifier(loss=\"log\",random_state=10,alpha=0.001,max_iter=1000, shuffle=True,\n",
    "early_stopping=True,n_iter_no_change=3)\n",
    "classifier_SGD.fit(X_train,Y_train)\n",
    "\n",
    "Y_pred=classifier_SGD.predict(X_test)\n",
    "\n",
    "\n"
   ]
  },
  {
   "cell_type": "code",
   "execution_count": 37,
   "metadata": {},
   "outputs": [
    {
     "name": "stdout",
     "output_type": "stream",
     "text": [
      "[[26673 10801]\n",
      " [ 6873 30628]]\n",
      "\n",
      "Classification report: \n",
      "              precision    recall  f1-score   support\n",
      "\n",
      "           0       0.80      0.71      0.75     37474\n",
      "           1       0.74      0.82      0.78     37501\n",
      "\n",
      "    accuracy                           0.76     74975\n",
      "   macro avg       0.77      0.76      0.76     74975\n",
      "weighted avg       0.77      0.76      0.76     74975\n",
      "\n",
      "Accuracy of the model:  0.7642680893631211\n"
     ]
    }
   ],
   "source": [
    "from sklearn.metrics import confusion_matrix, accuracy_score,classification_report\n",
    "\n",
    "cfm=confusion_matrix(Y_test,Y_pred)\n",
    "print(cfm)\n",
    "print()\n",
    "\n",
    "print(\"Classification report: \")\n",
    "\n",
    "print(classification_report(Y_test,Y_pred))\n",
    "\n",
    "acc=accuracy_score(Y_test, Y_pred)\n",
    "print(\"Accuracy of the model: \",acc)"
   ]
  },
  {
   "cell_type": "markdown",
   "metadata": {},
   "source": [
    "# Ensemble model"
   ]
  },
  {
   "cell_type": "code",
   "execution_count": 80,
   "metadata": {},
   "outputs": [],
   "source": [
    "\n",
    "from sklearn.tree import DecisionTreeClassifier\n",
    "from sklearn.ensemble import RandomForestClassifier\n",
    "from sklearn.ensemble import VotingClassifier\n",
    "from sklearn.neighbors import KNeighborsClassifier\n",
    "\n",
    "# create the sub models\n",
    "estimators = []\n",
    "\n",
    "model1 = DecisionTreeClassifier(criterion='gini',random_state=10)\n",
    "estimators.append(('cart', model1))\n",
    "model2 = RandomForestClassifier(n_estimators=30, random_state=10) \n",
    "estimators.append(('Random_Forest', model2))\n",
    "model3 = KNeighborsClassifier(n_neighbors=1, metric='manhattan')\n",
    "estimators.append(('knn', model3))"
   ]
  },
  {
   "cell_type": "code",
   "execution_count": 81,
   "metadata": {},
   "outputs": [
    {
     "name": "stdout",
     "output_type": "stream",
     "text": [
      "[0 0 0 ... 0 1 1]\n"
     ]
    }
   ],
   "source": [
    "ensemble = VotingClassifier(estimators)   \n",
    "ensemble.fit(X_train,Y_train)\n",
    "Y_pred=ensemble.predict(X_test)\n",
    "print(Y_pred)"
   ]
  },
  {
   "cell_type": "code",
   "execution_count": 82,
   "metadata": {},
   "outputs": [
    {
     "name": "stdout",
     "output_type": "stream",
     "text": [
      "[[32187  5287]\n",
      " [ 1252 36249]]\n",
      "\n",
      "Classification report: \n",
      "              precision    recall  f1-score   support\n",
      "\n",
      "           0       0.96      0.86      0.91     37474\n",
      "           1       0.87      0.97      0.92     37501\n",
      "\n",
      "    accuracy                           0.91     74975\n",
      "   macro avg       0.92      0.91      0.91     74975\n",
      "weighted avg       0.92      0.91      0.91     74975\n",
      "\n",
      "Accuracy of the model:  0.9127842614204735\n"
     ]
    }
   ],
   "source": [
    "from sklearn.metrics import confusion_matrix, accuracy_score,classification_report\n",
    "\n",
    "cfm=confusion_matrix(Y_test,Y_pred)\n",
    "print(cfm)\n",
    "print()\n",
    "\n",
    "print(\"Classification report: \")\n",
    "\n",
    "print(classification_report(Y_test,Y_pred))\n",
    "\n",
    "acc=accuracy_score(Y_test, Y_pred)\n",
    "print(\"Accuracy of the model: \",acc)"
   ]
  },
  {
   "cell_type": "markdown",
   "metadata": {},
   "source": [
    "# XG BOOST"
   ]
  },
  {
   "cell_type": "code",
   "execution_count": 38,
   "metadata": {},
   "outputs": [
    {
     "name": "stdout",
     "output_type": "stream",
     "text": [
      "Requirement already satisfied: xgboost in c:\\users\\lenovo\\anaconda3\\lib\\site-packages (1.4.2)\n",
      "Requirement already satisfied: numpy in c:\\users\\lenovo\\anaconda3\\lib\\site-packages (from xgboost) (1.19.3)\n",
      "Requirement already satisfied: scipy in c:\\users\\lenovo\\appdata\\roaming\\python\\python37\\site-packages (from xgboost) (1.5.2)\n",
      "Note: you may need to restart the kernel to use updated packages.\n"
     ]
    }
   ],
   "source": [
    "pip install xgboost"
   ]
  },
  {
   "cell_type": "code",
   "execution_count": 20,
   "metadata": {},
   "outputs": [
    {
     "name": "stdout",
     "output_type": "stream",
     "text": [
      "[0 0 0 ... 0 1 0]\n"
     ]
    }
   ],
   "source": [
    "\n",
    "from xgboost import XGBClassifier\n",
    "model = XGBClassifier(eval_metric='error')\n",
    "model.fit(X_train, Y_train)\n",
    "Y_pred = model.predict(X_test)\n",
    "print(Y_pred)"
   ]
  },
  {
   "cell_type": "code",
   "execution_count": 21,
   "metadata": {},
   "outputs": [
    {
     "name": "stdout",
     "output_type": "stream",
     "text": [
      "[[29654  7820]\n",
      " [ 7398 30103]]\n",
      "\n",
      "Classification report: \n",
      "              precision    recall  f1-score   support\n",
      "\n",
      "           0       0.80      0.79      0.80     37474\n",
      "           1       0.79      0.80      0.80     37501\n",
      "\n",
      "    accuracy                           0.80     74975\n",
      "   macro avg       0.80      0.80      0.80     74975\n",
      "weighted avg       0.80      0.80      0.80     74975\n",
      "\n",
      "Accuracy of the model:  0.7970256752250751\n"
     ]
    }
   ],
   "source": [
    "from sklearn.metrics import confusion_matrix, accuracy_score,classification_report\n",
    "\n",
    "cfm=confusion_matrix(Y_test,Y_pred)\n",
    "print(cfm)\n",
    "print()\n",
    "\n",
    "print(\"Classification report: \")\n",
    "\n",
    "print(classification_report(Y_test,Y_pred))\n",
    "\n",
    "acc=accuracy_score(Y_test, Y_pred)\n",
    "print(\"Accuracy of the model: \",acc)"
   ]
  },
  {
   "cell_type": "markdown",
   "metadata": {},
   "source": [
    "# Reading the Training File"
   ]
  },
  {
   "cell_type": "code",
   "execution_count": 22,
   "metadata": {},
   "outputs": [
    {
     "data": {
      "text/html": [
       "<div>\n",
       "<style scoped>\n",
       "    .dataframe tbody tr th:only-of-type {\n",
       "        vertical-align: middle;\n",
       "    }\n",
       "\n",
       "    .dataframe tbody tr th {\n",
       "        vertical-align: top;\n",
       "    }\n",
       "\n",
       "    .dataframe thead th {\n",
       "        text-align: right;\n",
       "    }\n",
       "</style>\n",
       "<table border=\"1\" class=\"dataframe\">\n",
       "  <thead>\n",
       "    <tr style=\"text-align: right;\">\n",
       "      <th></th>\n",
       "      <th>Gender</th>\n",
       "      <th>Age</th>\n",
       "      <th>Region_Code</th>\n",
       "      <th>Occupation</th>\n",
       "      <th>Channel_Code</th>\n",
       "      <th>Vintage</th>\n",
       "      <th>Credit_Product</th>\n",
       "      <th>Avg_Account_Balance</th>\n",
       "      <th>Is_Active</th>\n",
       "    </tr>\n",
       "    <tr>\n",
       "      <th>ID</th>\n",
       "      <th></th>\n",
       "      <th></th>\n",
       "      <th></th>\n",
       "      <th></th>\n",
       "      <th></th>\n",
       "      <th></th>\n",
       "      <th></th>\n",
       "      <th></th>\n",
       "      <th></th>\n",
       "    </tr>\n",
       "  </thead>\n",
       "  <tbody>\n",
       "    <tr>\n",
       "      <th>VBENBARO</th>\n",
       "      <td>Male</td>\n",
       "      <td>29</td>\n",
       "      <td>RG254</td>\n",
       "      <td>Other</td>\n",
       "      <td>X1</td>\n",
       "      <td>25</td>\n",
       "      <td>Yes</td>\n",
       "      <td>742366</td>\n",
       "      <td>No</td>\n",
       "    </tr>\n",
       "    <tr>\n",
       "      <th>CCMEWNKY</th>\n",
       "      <td>Male</td>\n",
       "      <td>43</td>\n",
       "      <td>RG268</td>\n",
       "      <td>Other</td>\n",
       "      <td>X2</td>\n",
       "      <td>49</td>\n",
       "      <td>NaN</td>\n",
       "      <td>925537</td>\n",
       "      <td>No</td>\n",
       "    </tr>\n",
       "    <tr>\n",
       "      <th>VK3KGA9M</th>\n",
       "      <td>Male</td>\n",
       "      <td>31</td>\n",
       "      <td>RG270</td>\n",
       "      <td>Salaried</td>\n",
       "      <td>X1</td>\n",
       "      <td>14</td>\n",
       "      <td>No</td>\n",
       "      <td>215949</td>\n",
       "      <td>No</td>\n",
       "    </tr>\n",
       "    <tr>\n",
       "      <th>TT8RPZVC</th>\n",
       "      <td>Male</td>\n",
       "      <td>29</td>\n",
       "      <td>RG272</td>\n",
       "      <td>Other</td>\n",
       "      <td>X1</td>\n",
       "      <td>33</td>\n",
       "      <td>No</td>\n",
       "      <td>868070</td>\n",
       "      <td>No</td>\n",
       "    </tr>\n",
       "    <tr>\n",
       "      <th>SHQZEYTZ</th>\n",
       "      <td>Female</td>\n",
       "      <td>29</td>\n",
       "      <td>RG270</td>\n",
       "      <td>Other</td>\n",
       "      <td>X1</td>\n",
       "      <td>19</td>\n",
       "      <td>No</td>\n",
       "      <td>657087</td>\n",
       "      <td>No</td>\n",
       "    </tr>\n",
       "    <tr>\n",
       "      <th>...</th>\n",
       "      <td>...</td>\n",
       "      <td>...</td>\n",
       "      <td>...</td>\n",
       "      <td>...</td>\n",
       "      <td>...</td>\n",
       "      <td>...</td>\n",
       "      <td>...</td>\n",
       "      <td>...</td>\n",
       "      <td>...</td>\n",
       "    </tr>\n",
       "    <tr>\n",
       "      <th>DBENJOYI</th>\n",
       "      <td>Male</td>\n",
       "      <td>52</td>\n",
       "      <td>RG268</td>\n",
       "      <td>Salaried</td>\n",
       "      <td>X2</td>\n",
       "      <td>86</td>\n",
       "      <td>Yes</td>\n",
       "      <td>4242558</td>\n",
       "      <td>Yes</td>\n",
       "    </tr>\n",
       "    <tr>\n",
       "      <th>CWQ72DWS</th>\n",
       "      <td>Male</td>\n",
       "      <td>55</td>\n",
       "      <td>RG277</td>\n",
       "      <td>Other</td>\n",
       "      <td>X2</td>\n",
       "      <td>86</td>\n",
       "      <td>Yes</td>\n",
       "      <td>1159153</td>\n",
       "      <td>No</td>\n",
       "    </tr>\n",
       "    <tr>\n",
       "      <th>HDESC8GU</th>\n",
       "      <td>Male</td>\n",
       "      <td>35</td>\n",
       "      <td>RG254</td>\n",
       "      <td>Salaried</td>\n",
       "      <td>X4</td>\n",
       "      <td>15</td>\n",
       "      <td>No</td>\n",
       "      <td>1703727</td>\n",
       "      <td>No</td>\n",
       "    </tr>\n",
       "    <tr>\n",
       "      <th>2PW4SFCA</th>\n",
       "      <td>Male</td>\n",
       "      <td>53</td>\n",
       "      <td>RG254</td>\n",
       "      <td>Other</td>\n",
       "      <td>X3</td>\n",
       "      <td>93</td>\n",
       "      <td>No</td>\n",
       "      <td>737178</td>\n",
       "      <td>Yes</td>\n",
       "    </tr>\n",
       "    <tr>\n",
       "      <th>F2NOYPPZ</th>\n",
       "      <td>Male</td>\n",
       "      <td>27</td>\n",
       "      <td>RG256</td>\n",
       "      <td>Salaried</td>\n",
       "      <td>X1</td>\n",
       "      <td>21</td>\n",
       "      <td>No</td>\n",
       "      <td>591565</td>\n",
       "      <td>No</td>\n",
       "    </tr>\n",
       "  </tbody>\n",
       "</table>\n",
       "<p>105312 rows × 9 columns</p>\n",
       "</div>"
      ],
      "text/plain": [
       "          Gender  Age Region_Code Occupation Channel_Code  Vintage  \\\n",
       "ID                                                                   \n",
       "VBENBARO    Male   29       RG254      Other           X1       25   \n",
       "CCMEWNKY    Male   43       RG268      Other           X2       49   \n",
       "VK3KGA9M    Male   31       RG270   Salaried           X1       14   \n",
       "TT8RPZVC    Male   29       RG272      Other           X1       33   \n",
       "SHQZEYTZ  Female   29       RG270      Other           X1       19   \n",
       "...          ...  ...         ...        ...          ...      ...   \n",
       "DBENJOYI    Male   52       RG268   Salaried           X2       86   \n",
       "CWQ72DWS    Male   55       RG277      Other           X2       86   \n",
       "HDESC8GU    Male   35       RG254   Salaried           X4       15   \n",
       "2PW4SFCA    Male   53       RG254      Other           X3       93   \n",
       "F2NOYPPZ    Male   27       RG256   Salaried           X1       21   \n",
       "\n",
       "         Credit_Product  Avg_Account_Balance Is_Active  \n",
       "ID                                                      \n",
       "VBENBARO            Yes               742366        No  \n",
       "CCMEWNKY            NaN               925537        No  \n",
       "VK3KGA9M             No               215949        No  \n",
       "TT8RPZVC             No               868070        No  \n",
       "SHQZEYTZ             No               657087        No  \n",
       "...                 ...                  ...       ...  \n",
       "DBENJOYI            Yes              4242558       Yes  \n",
       "CWQ72DWS            Yes              1159153        No  \n",
       "HDESC8GU             No              1703727        No  \n",
       "2PW4SFCA             No               737178       Yes  \n",
       "F2NOYPPZ             No               591565        No  \n",
       "\n",
       "[105312 rows x 9 columns]"
      ]
     },
     "execution_count": 22,
     "metadata": {},
     "output_type": "execute_result"
    }
   ],
   "source": [
    "df_test=pd.read_csv(r'C:\\Users\\Lenovo\\Desktop\\Hackathon-Analytics_vidhya\\test_mSzZ8RL.csv',header=0,index_col=0)\n",
    "df_test"
   ]
  },
  {
   "cell_type": "markdown",
   "metadata": {},
   "source": [
    "# Handling Missing Values in testing data"
   ]
  },
  {
   "cell_type": "code",
   "execution_count": 23,
   "metadata": {},
   "outputs": [
    {
     "data": {
      "text/plain": [
       "Credit_Product         12522\n",
       "Is_Active                  0\n",
       "Avg_Account_Balance        0\n",
       "Vintage                    0\n",
       "Channel_Code               0\n",
       "Occupation                 0\n",
       "Region_Code                0\n",
       "Age                        0\n",
       "Gender                     0\n",
       "dtype: int64"
      ]
     },
     "execution_count": 23,
     "metadata": {},
     "output_type": "execute_result"
    }
   ],
   "source": [
    "# checking for  other  missing values \n",
    "df_test.isnull().sum().sort_values(ascending=False)"
   ]
  },
  {
   "cell_type": "code",
   "execution_count": 179,
   "metadata": {},
   "outputs": [
    {
     "name": "stdout",
     "output_type": "stream",
     "text": [
      "          Gender  Age Region_Code Occupation Channel_Code  Vintage  \\\n",
      "ID                                                                   \n",
      "VBENBARO    Male   29       RG254      Other           X1       25   \n",
      "CCMEWNKY    Male   43       RG268      Other           X2       49   \n",
      "VK3KGA9M    Male   31       RG270   Salaried           X1       14   \n",
      "TT8RPZVC    Male   29       RG272      Other           X1       33   \n",
      "SHQZEYTZ  Female   29       RG270      Other           X1       19   \n",
      "...          ...  ...         ...        ...          ...      ...   \n",
      "DBENJOYI    Male   52       RG268   Salaried           X2       86   \n",
      "CWQ72DWS    Male   55       RG277      Other           X2       86   \n",
      "HDESC8GU    Male   35       RG254   Salaried           X4       15   \n",
      "2PW4SFCA    Male   53       RG254      Other           X3       93   \n",
      "F2NOYPPZ    Male   27       RG256   Salaried           X1       21   \n",
      "\n",
      "          Credit_Product  Avg_Account_Balance Is_Active  \n",
      "ID                                                       \n",
      "VBENBARO             NaN               742366        No  \n",
      "CCMEWNKY             NaN               925537        No  \n",
      "VK3KGA9M             NaN               215949        No  \n",
      "TT8RPZVC             NaN               868070        No  \n",
      "SHQZEYTZ             NaN               657087        No  \n",
      "...                  ...                  ...       ...  \n",
      "DBENJOYI             NaN              4242558       Yes  \n",
      "CWQ72DWS             NaN              1159153        No  \n",
      "HDESC8GU             NaN              1703727        No  \n",
      "2PW4SFCA             NaN               737178       Yes  \n",
      "F2NOYPPZ             NaN               591565        No  \n",
      "\n",
      "[105312 rows x 9 columns]\n"
     ]
    }
   ],
   "source": [
    "#Mapping Credit_Product  variable  -No with 0 and  Yes with 1 \n",
    "df_test.Credit_Product=df_test.Credit_Product.map({'No':0,'Yes':1})\n",
    "print(df_test)"
   ]
  },
  {
   "cell_type": "code",
   "execution_count": 24,
   "metadata": {},
   "outputs": [],
   "source": [
    "#Assuming customer has  credit_products availed so as to consider all customers interested  in credit card\n",
    "df_test.Credit_Product.fillna(1,inplace=True)"
   ]
  },
  {
   "cell_type": "code",
   "execution_count": 25,
   "metadata": {},
   "outputs": [
    {
     "data": {
      "text/plain": [
       "Is_Active              0\n",
       "Avg_Account_Balance    0\n",
       "Credit_Product         0\n",
       "Vintage                0\n",
       "Channel_Code           0\n",
       "Occupation             0\n",
       "Region_Code            0\n",
       "Age                    0\n",
       "Gender                 0\n",
       "dtype: int64"
      ]
     },
     "execution_count": 25,
     "metadata": {},
     "output_type": "execute_result"
    }
   ],
   "source": [
    "df_test.isnull().sum().sort_values(ascending=False)"
   ]
  },
  {
   "cell_type": "code",
   "execution_count": 26,
   "metadata": {},
   "outputs": [
    {
     "data": {
      "text/plain": [
       "Index(['Gender', 'Age', 'Region_Code', 'Occupation', 'Channel_Code', 'Vintage',\n",
       "       'Credit_Product', 'Avg_Account_Balance', 'Is_Active'],\n",
       "      dtype='object')"
      ]
     },
     "execution_count": 26,
     "metadata": {},
     "output_type": "execute_result"
    }
   ],
   "source": [
    "df_test.columns"
   ]
  },
  {
   "cell_type": "code",
   "execution_count": 27,
   "metadata": {},
   "outputs": [
    {
     "name": "stdout",
     "output_type": "stream",
     "text": [
      "['Male' 'Female']\n",
      "['RG254' 'RG268' 'RG270' 'RG272' 'RG253' 'RG257' 'RG284' 'RG283' 'RG277'\n",
      " 'RG273' 'RG261' 'RG280' 'RG274' 'RG278' 'RG269' 'RG281' 'RG251' 'RG252'\n",
      " 'RG279' 'RG282' 'RG262' 'RG263' 'RG264' 'RG256' 'RG265' 'RG260' 'RG258'\n",
      " 'RG271' 'RG250' 'RG275' 'RG276' 'RG267' 'RG255' 'RG259' 'RG266']\n",
      "['Other' 'Salaried' 'Self_Employed' 'Entrepreneur']\n",
      "['X1' 'X2' 'X3' 'X4']\n",
      "[ 25  49  14  33  19 110  67  81  37  63  69  27  31  21 117  93  92  85\n",
      " 103  26  55  13  80  44  39  99  91 115  15  20 105   8  32  51  62  57\n",
      "  98  68  97 122 111  75  50  43  45  86 123  61 134  87  38  79 104   7\n",
      "  56  73 116  74 109 128   9 127 121 129 133 135]\n",
      "['Yes' 1 'No']\n",
      "['No' 'Yes']\n"
     ]
    }
   ],
   "source": [
    "a=['Gender','Region_Code','Occupation','Channel_Code', 'Vintage','Credit_Product','Is_Active']\n",
    "for i in a:\n",
    "    print(df_test[i].unique())"
   ]
  },
  {
   "cell_type": "markdown",
   "metadata": {},
   "source": [
    "# Converting Categorical Data into Numerical in testing data"
   ]
  },
  {
   "cell_type": "code",
   "execution_count": 184,
   "metadata": {},
   "outputs": [
    {
     "name": "stdout",
     "output_type": "stream",
     "text": [
      "          Gender  Age  Region_Code  Occupation  Channel_Code  Vintage  \\\n",
      "ID                                                                      \n",
      "VBENBARO       1   29            4           1             0       25   \n",
      "CCMEWNKY       1   43           18           1             1       49   \n",
      "VK3KGA9M       1   31           20           2             0       14   \n",
      "TT8RPZVC       1   29           22           1             0       33   \n",
      "SHQZEYTZ       0   29           20           1             0       19   \n",
      "...          ...  ...          ...         ...           ...      ...   \n",
      "DBENJOYI       1   52           18           2             1       86   \n",
      "CWQ72DWS       1   55           27           1             1       86   \n",
      "HDESC8GU       1   35            4           2             3       15   \n",
      "2PW4SFCA       1   53            4           1             2       93   \n",
      "F2NOYPPZ       1   27            6           2             0       21   \n",
      "\n",
      "          Credit_Product  Avg_Account_Balance  Is_Active  \n",
      "ID                                                        \n",
      "VBENBARO               0               742366          0  \n",
      "CCMEWNKY               0               925537          0  \n",
      "VK3KGA9M               0               215949          0  \n",
      "TT8RPZVC               0               868070          0  \n",
      "SHQZEYTZ               0               657087          0  \n",
      "...                  ...                  ...        ...  \n",
      "DBENJOYI               0              4242558          1  \n",
      "CWQ72DWS               0              1159153          0  \n",
      "HDESC8GU               0              1703727          0  \n",
      "2PW4SFCA               0               737178          1  \n",
      "F2NOYPPZ               0               591565          0  \n",
      "\n",
      "[105312 rows x 9 columns]\n"
     ]
    }
   ],
   "source": [
    "from sklearn.preprocessing import LabelEncoder\n",
    "colname=['Gender','Region_Code', 'Occupation', 'Channel_Code','Credit_Product','Is_Active']\n",
    "\n",
    "le=LabelEncoder()\n",
    "\n",
    "for i in colname:\n",
    " df_test[i]=le.fit_transform(df_test[i])\n",
    "print(df_test)"
   ]
  },
  {
   "cell_type": "markdown",
   "metadata": {},
   "source": [
    "# Splitting the Training and Testing Data"
   ]
  },
  {
   "cell_type": "code",
   "execution_count": 185,
   "metadata": {},
   "outputs": [],
   "source": [
    "X_train=df_upsampled.values[:,0:-1]\n",
    "Y_train=df_upsampled.values[:,-1]\n",
    "Y_train=Y_train.astype(int)"
   ]
  },
  {
   "cell_type": "code",
   "execution_count": 186,
   "metadata": {},
   "outputs": [
    {
     "name": "stdout",
     "output_type": "stream",
     "text": [
      "(374874, 9)\n",
      "(374874,)\n"
     ]
    }
   ],
   "source": [
    "print(X_train.shape)\n",
    "print(Y_train.shape)"
   ]
  },
  {
   "cell_type": "code",
   "execution_count": 187,
   "metadata": {},
   "outputs": [
    {
     "name": "stdout",
     "output_type": "stream",
     "text": [
      "(105312, 9)\n"
     ]
    }
   ],
   "source": [
    "X_test=df_test.values[:,:]\n",
    "print(X_test.shape)"
   ]
  },
  {
   "cell_type": "markdown",
   "metadata": {},
   "source": [
    "# Scaling the data\n"
   ]
  },
  {
   "cell_type": "code",
   "execution_count": 188,
   "metadata": {},
   "outputs": [],
   "source": [
    "from sklearn.preprocessing import StandardScaler\n",
    "\n",
    "scaler = StandardScaler()\n",
    "\n",
    "scaler.fit(X_train)\n",
    "X_train = scaler.transform(X_train)\n",
    "X_test = scaler.transform(X_test)\n"
   ]
  },
  {
   "cell_type": "code",
   "execution_count": 189,
   "metadata": {},
   "outputs": [
    {
     "name": "stdout",
     "output_type": "stream",
     "text": [
      "[[-1.14797338  1.86223981 -0.21200597 ... -1.10986696 -0.12933911\n",
      "  -0.84129449]\n",
      " [-1.14797338 -1.10425204  0.6180208  ... -1.10986696 -0.66925949\n",
      "  -0.84129449]\n",
      " [-1.14797338  0.68944071 -0.21200597 ... -1.10986696  0.38136879\n",
      "   1.18864443]\n",
      " ...\n",
      " [-1.14797338  0.41348798 -0.21200597 ...  0.90100889  0.58223038\n",
      "   1.18864443]\n",
      " [ 0.87110034  1.17235798  1.17137198 ... -1.10986696 -0.49114356\n",
      "   1.18864443]\n",
      " [-1.14797338 -0.55234658 -0.21200597 ...  0.90100889  0.5903436\n",
      "   1.18864443]]\n",
      "[[ 0.87110034 -1.17324023 -1.50315872 ... -1.10986696 -0.48252268\n",
      "  -0.84129449]\n",
      " [ 0.87110034 -0.20740567 -0.21200597 ... -1.10986696 -0.26924675\n",
      "  -0.84129449]\n",
      " [ 0.87110034 -1.03526386 -0.02755557 ... -1.10986696 -1.09545855\n",
      "  -0.84129449]\n",
      " ...\n",
      " [ 0.87110034 -0.75931113 -1.50315872 ... -1.10986696  0.63684209\n",
      "  -0.84129449]\n",
      " [ 0.87110034  0.48247616 -1.50315872 ... -1.10986696 -0.48856335\n",
      "   1.18864443]\n",
      " [ 0.87110034 -1.31121659 -1.31870832 ... -1.10986696 -0.65810847\n",
      "  -0.84129449]]\n"
     ]
    }
   ],
   "source": [
    "print(X_train)\n",
    "print(X_test)"
   ]
  },
  {
   "cell_type": "markdown",
   "metadata": {},
   "source": [
    "# The chosen model "
   ]
  },
  {
   "cell_type": "markdown",
   "metadata": {},
   "source": [
    "While evaluating the model with the Training data – KNN, Random \n",
    "Forest and Decision Tree performed with good accuracy and recall values \n",
    "for both classes \n",
    "However while applying it to the test data , LR and XGB models \n",
    "performed better. \n",
    "-XGB Model performed both in Testing and Training data well. Hence \n",
    "used that model."
   ]
  },
  {
   "cell_type": "markdown",
   "metadata": {},
   "source": [
    "# xgboost"
   ]
  },
  {
   "cell_type": "code",
   "execution_count": 210,
   "metadata": {},
   "outputs": [
    {
     "name": "stdout",
     "output_type": "stream",
     "text": [
      "[0 0 0 ... 0 0 0]\n"
     ]
    }
   ],
   "source": [
    "from xgboost import XGBClassifier\n",
    "model = XGBClassifier(eval_metric='error')\n",
    "model.fit(X_train, Y_train)\n",
    "Y_pred = model.predict(X_test)\n",
    "print(Y_pred)"
   ]
  },
  {
   "cell_type": "code",
   "execution_count": 211,
   "metadata": {},
   "outputs": [],
   "source": [
    "df_test['Is_Lead']=Y_pred"
   ]
  },
  {
   "cell_type": "code",
   "execution_count": 212,
   "metadata": {},
   "outputs": [
    {
     "data": {
      "text/html": [
       "<div>\n",
       "<style scoped>\n",
       "    .dataframe tbody tr th:only-of-type {\n",
       "        vertical-align: middle;\n",
       "    }\n",
       "\n",
       "    .dataframe tbody tr th {\n",
       "        vertical-align: top;\n",
       "    }\n",
       "\n",
       "    .dataframe thead th {\n",
       "        text-align: right;\n",
       "    }\n",
       "</style>\n",
       "<table border=\"1\" class=\"dataframe\">\n",
       "  <thead>\n",
       "    <tr style=\"text-align: right;\">\n",
       "      <th></th>\n",
       "      <th>Gender</th>\n",
       "      <th>Age</th>\n",
       "      <th>Region_Code</th>\n",
       "      <th>Occupation</th>\n",
       "      <th>Channel_Code</th>\n",
       "      <th>Vintage</th>\n",
       "      <th>Credit_Product</th>\n",
       "      <th>Avg_Account_Balance</th>\n",
       "      <th>Is_Active</th>\n",
       "      <th>Is_Lead</th>\n",
       "    </tr>\n",
       "    <tr>\n",
       "      <th>ID</th>\n",
       "      <th></th>\n",
       "      <th></th>\n",
       "      <th></th>\n",
       "      <th></th>\n",
       "      <th></th>\n",
       "      <th></th>\n",
       "      <th></th>\n",
       "      <th></th>\n",
       "      <th></th>\n",
       "      <th></th>\n",
       "    </tr>\n",
       "  </thead>\n",
       "  <tbody>\n",
       "    <tr>\n",
       "      <th>VBENBARO</th>\n",
       "      <td>1</td>\n",
       "      <td>29</td>\n",
       "      <td>4</td>\n",
       "      <td>1</td>\n",
       "      <td>0</td>\n",
       "      <td>25</td>\n",
       "      <td>0</td>\n",
       "      <td>742366</td>\n",
       "      <td>0</td>\n",
       "      <td>0</td>\n",
       "    </tr>\n",
       "    <tr>\n",
       "      <th>CCMEWNKY</th>\n",
       "      <td>1</td>\n",
       "      <td>43</td>\n",
       "      <td>18</td>\n",
       "      <td>1</td>\n",
       "      <td>1</td>\n",
       "      <td>49</td>\n",
       "      <td>0</td>\n",
       "      <td>925537</td>\n",
       "      <td>0</td>\n",
       "      <td>0</td>\n",
       "    </tr>\n",
       "    <tr>\n",
       "      <th>VK3KGA9M</th>\n",
       "      <td>1</td>\n",
       "      <td>31</td>\n",
       "      <td>20</td>\n",
       "      <td>2</td>\n",
       "      <td>0</td>\n",
       "      <td>14</td>\n",
       "      <td>0</td>\n",
       "      <td>215949</td>\n",
       "      <td>0</td>\n",
       "      <td>0</td>\n",
       "    </tr>\n",
       "    <tr>\n",
       "      <th>TT8RPZVC</th>\n",
       "      <td>1</td>\n",
       "      <td>29</td>\n",
       "      <td>22</td>\n",
       "      <td>1</td>\n",
       "      <td>0</td>\n",
       "      <td>33</td>\n",
       "      <td>0</td>\n",
       "      <td>868070</td>\n",
       "      <td>0</td>\n",
       "      <td>0</td>\n",
       "    </tr>\n",
       "    <tr>\n",
       "      <th>SHQZEYTZ</th>\n",
       "      <td>0</td>\n",
       "      <td>29</td>\n",
       "      <td>20</td>\n",
       "      <td>1</td>\n",
       "      <td>0</td>\n",
       "      <td>19</td>\n",
       "      <td>0</td>\n",
       "      <td>657087</td>\n",
       "      <td>0</td>\n",
       "      <td>0</td>\n",
       "    </tr>\n",
       "  </tbody>\n",
       "</table>\n",
       "</div>"
      ],
      "text/plain": [
       "          Gender  Age  Region_Code  Occupation  Channel_Code  Vintage  \\\n",
       "ID                                                                      \n",
       "VBENBARO       1   29            4           1             0       25   \n",
       "CCMEWNKY       1   43           18           1             1       49   \n",
       "VK3KGA9M       1   31           20           2             0       14   \n",
       "TT8RPZVC       1   29           22           1             0       33   \n",
       "SHQZEYTZ       0   29           20           1             0       19   \n",
       "\n",
       "          Credit_Product  Avg_Account_Balance  Is_Active  Is_Lead  \n",
       "ID                                                                 \n",
       "VBENBARO               0               742366          0        0  \n",
       "CCMEWNKY               0               925537          0        0  \n",
       "VK3KGA9M               0               215949          0        0  \n",
       "TT8RPZVC               0               868070          0        0  \n",
       "SHQZEYTZ               0               657087          0        0  "
      ]
     },
     "execution_count": 212,
     "metadata": {},
     "output_type": "execute_result"
    }
   ],
   "source": [
    "df_test.head()"
   ]
  },
  {
   "cell_type": "code",
   "execution_count": 213,
   "metadata": {},
   "outputs": [
    {
     "data": {
      "text/plain": [
       "Index(['Gender', 'Age', 'Region_Code', 'Occupation', 'Channel_Code', 'Vintage',\n",
       "       'Credit_Product', 'Avg_Account_Balance', 'Is_Active', 'Is_Lead'],\n",
       "      dtype='object')"
      ]
     },
     "execution_count": 213,
     "metadata": {},
     "output_type": "execute_result"
    }
   ],
   "source": [
    "df_test.columns"
   ]
  },
  {
   "cell_type": "code",
   "execution_count": 214,
   "metadata": {},
   "outputs": [],
   "source": [
    "df_output=df_test.drop(['Gender', 'Age', 'Region_Code', 'Occupation', 'Channel_Code', 'Vintage','Credit_Product', 'Avg_Account_Balance', 'Is_Active'],axis=1)"
   ]
  },
  {
   "cell_type": "code",
   "execution_count": 215,
   "metadata": {},
   "outputs": [
    {
     "data": {
      "text/html": [
       "<div>\n",
       "<style scoped>\n",
       "    .dataframe tbody tr th:only-of-type {\n",
       "        vertical-align: middle;\n",
       "    }\n",
       "\n",
       "    .dataframe tbody tr th {\n",
       "        vertical-align: top;\n",
       "    }\n",
       "\n",
       "    .dataframe thead th {\n",
       "        text-align: right;\n",
       "    }\n",
       "</style>\n",
       "<table border=\"1\" class=\"dataframe\">\n",
       "  <thead>\n",
       "    <tr style=\"text-align: right;\">\n",
       "      <th></th>\n",
       "      <th>Is_Lead</th>\n",
       "    </tr>\n",
       "    <tr>\n",
       "      <th>ID</th>\n",
       "      <th></th>\n",
       "    </tr>\n",
       "  </thead>\n",
       "  <tbody>\n",
       "    <tr>\n",
       "      <th>VBENBARO</th>\n",
       "      <td>0</td>\n",
       "    </tr>\n",
       "    <tr>\n",
       "      <th>CCMEWNKY</th>\n",
       "      <td>0</td>\n",
       "    </tr>\n",
       "    <tr>\n",
       "      <th>VK3KGA9M</th>\n",
       "      <td>0</td>\n",
       "    </tr>\n",
       "    <tr>\n",
       "      <th>TT8RPZVC</th>\n",
       "      <td>0</td>\n",
       "    </tr>\n",
       "    <tr>\n",
       "      <th>SHQZEYTZ</th>\n",
       "      <td>0</td>\n",
       "    </tr>\n",
       "  </tbody>\n",
       "</table>\n",
       "</div>"
      ],
      "text/plain": [
       "          Is_Lead\n",
       "ID               \n",
       "VBENBARO        0\n",
       "CCMEWNKY        0\n",
       "VK3KGA9M        0\n",
       "TT8RPZVC        0\n",
       "SHQZEYTZ        0"
      ]
     },
     "execution_count": 215,
     "metadata": {},
     "output_type": "execute_result"
    }
   ],
   "source": [
    "df_output.head()"
   ]
  },
  {
   "cell_type": "code",
   "execution_count": 216,
   "metadata": {},
   "outputs": [],
   "source": [
    "df_output.to_csv(r'C:\\Users\\Lenovo\\Desktop\\Hackathon-Analytics_vidhya\\XGB_Final_credit_card.csv',header=True,index=True)"
   ]
  },
  {
   "cell_type": "code",
   "execution_count": null,
   "metadata": {},
   "outputs": [],
   "source": []
  }
 ],
 "metadata": {
  "kernelspec": {
   "display_name": "Python 3",
   "language": "python",
   "name": "python3"
  },
  "language_info": {
   "codemirror_mode": {
    "name": "ipython",
    "version": 3
   },
   "file_extension": ".py",
   "mimetype": "text/x-python",
   "name": "python",
   "nbconvert_exporter": "python",
   "pygments_lexer": "ipython3",
   "version": "3.7.4"
  }
 },
 "nbformat": 4,
 "nbformat_minor": 2
}
